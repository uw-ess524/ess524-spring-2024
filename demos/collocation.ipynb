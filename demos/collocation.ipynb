{
 "cells": [
  {
   "cell_type": "markdown",
   "id": "d0eeae6e-26f0-4ce7-a9c8-52a0a0a52ec1",
   "metadata": {},
   "source": [
    "# Solving ODEs\n",
    "\n",
    "For linear ODEs whose coefficients do not depend on time, if we have an eigendecomposition of the system matrix, we can compute the solution.\n",
    "That's all fine and good but many interesting problems are nonlinear or depend on time.\n",
    "Moreover, while the eigendecomposition is useful as a conceptual tool and for evaluating how well solvers work on solvable test cases, it is difficult to compute especially for large systems.\n",
    "We can't expect to solve general ODEs exactly because the objects of interest to us are trajectories or functions, and it takes infinitely many numbers to describe a function with complete exactness.\n",
    "The best we can do is approximate.\n",
    "Here we'll look at a very effective family of methods for approximating solutions of ODE.\n",
    "First, we'll motivate things with a thought experiment."
   ]
  },
  {
   "cell_type": "code",
   "execution_count": null,
   "id": "0",
   "metadata": {},
   "outputs": [],
   "source": [
    "import json\n",
    "import numpy as np\n",
    "import matplotlib.pyplot as plt\n",
    "from matplotlib.animation import FuncAnimation\n",
    "from IPython.display import HTML"
   ]
  },
  {
   "cell_type": "markdown",
   "id": "149d5e39-41f5-4475-a5ac-52a443c6a5e9",
   "metadata": {},
   "source": [
    "## Approximation\n",
    "\n",
    "I made up some functions, sampled their values at a bunch of points in an interval, and saved the results to a JSON file.\n",
    "The code below loads in the sample times and data points for each function and plots them."
   ]
  },
  {
   "cell_type": "code",
   "execution_count": null,
   "id": "2fd84f0c-bfc7-4ed0-aa2f-a800302cd3e3",
   "metadata": {},
   "outputs": [],
   "source": [
    "with open(\"collocation_data.json\", \"r\") as input_file:\n",
    "    data = json.load(input_file)\n",
    "print(data.keys())"
   ]
  },
  {
   "cell_type": "code",
   "execution_count": null,
   "id": "8afa3938-6f69-4c85-bf85-a73151c731c0",
   "metadata": {},
   "outputs": [],
   "source": [
    "times = np.array(data[\"times\"])\n",
    "periodic_signal = np.array(data[\"periodic_signal\"])\n",
    "decaying_signal = np.array(data[\"decaying_signal\"])\n",
    "piecewise_signal = np.array(data[\"piecewise_signal\"])"
   ]
  },
  {
   "cell_type": "code",
   "execution_count": null,
   "id": "535d1a67-fb91-455c-aa30-8179e4a320ce",
   "metadata": {},
   "outputs": [],
   "source": [
    "fig, ax = plt.subplots()\n",
    "ax.scatter(times, periodic_signal, 0.5)\n",
    "ax.set_xlabel(\"time\")\n",
    "ax.set_title(\"Periodic signal\");"
   ]
  },
  {
   "cell_type": "code",
   "execution_count": null,
   "id": "442e9903-c91f-4ee8-938a-66ce2c1b712d",
   "metadata": {},
   "outputs": [],
   "source": [
    "fig, ax = plt.subplots()\n",
    "ax.scatter(times, decaying_signal, 0.5)\n",
    "ax.set_xlabel(\"time\")\n",
    "ax.set_title(\"Decaying signal\");"
   ]
  },
  {
   "cell_type": "code",
   "execution_count": null,
   "id": "4a0a1114-b862-4806-96ba-ba5743c9cfbe",
   "metadata": {},
   "outputs": [],
   "source": [
    "fig, ax = plt.subplots()\n",
    "ax.scatter(times, piecewise_signal, 0.5)\n",
    "ax.set_xlabel(\"time\")\n",
    "ax.set_title(\"Piecewise signal\");"
   ]
  },
  {
   "cell_type": "markdown",
   "id": "1bfebd0b-734e-4581-a781-5720fafe2e98",
   "metadata": {},
   "source": [
    "The thought experiment for you is: suppose that you were given lots of functions that roughly look like each of the types above.\n",
    "How could you approximate them in the most economical way?\n",
    "In other words, suppose the time series you observe consists of a set of samples from some periodic or smooth decaying or piecewise function $u$.\n",
    "I tell you some number $K$.\n",
    "It'll most likely be much smaller than the number of data points.\n",
    "You get to pick a set of $K$ basis functions $\\{\\phi_1, \\ldots, \\phi_K\\}$ and coefficients $\\{u_1, \\ldots, u_K\\}$ so that\n",
    "$$u(t) \\approx u_1\\phi_1(t) + \\ldots u_K\\phi_K(t).$$\n",
    "How would you pick the basis functions and coefficients?\n",
    "Would you use the same basis functions for each type of signal shown above?\n",
    "Can you think of a couple different common families of functions that are used to approximate other functions?\n",
    "Is there more than one sense in which one function can be close to another?\n",
    "\n",
    "Suppose I told you how many basis functions you could use and you found that the mismatch with the sample values was too high.\n",
    "I agree to let you add 1 more basis function.\n",
    "What would you choose?\n",
    "\n",
    "If you know of a concrete strategy for approximating one or more of the above signals and think you can code it up using numpy and scipy, go ahead and do it below."
   ]
  },
  {
   "cell_type": "code",
   "execution_count": null,
   "id": "ba327c1f-bed4-4b0d-b8bb-ff30fd762ce0",
   "metadata": {},
   "outputs": [],
   "source": []
  },
  {
   "cell_type": "markdown",
   "id": "26e7a8cd-de4a-4a11-85f3-e758c645cc1d",
   "metadata": {},
   "source": [
    "## Collocation\n",
    "\n",
    "Our task is to approximate a function, but hopefully you know something about that function beforehand.\n",
    "With this knowledge, you can choose a *basis* set, a family $\\{\\phi_1, \\ldots, \\phi_K\\}$ of functions such that the function you're looking for can be approximated as a linear combination:\n",
    "$$u(t) \\approx u_1\\phi_1(t) + \\ldots + u_K\\phi_K(t).$$\n",
    "It then falls to us to find a way to pick the coefficients $\\{u_1, \\ldots, u_K\\}$.\n",
    "For example, we might require that the approximation exactly interpolate a set of data points $\\{(t_1, u(t_1)), \\ldots, (t_N, u(t_N))\\}$.\n",
    "Or we might hope to approximate the exact solution in a mean-square sense.\n",
    "**The same principles apply when you're trying to fit a curve through observational data as when you're trying to solve an ODE.**\n",
    "Pick a basis, then find the coefficients.\n",
    "\n",
    "There is a broadly-applicable and very effective family of schemes for discretizing ODEs called Runge-Kutta methods.\n",
    "I could spend a long time on these if I wanted.\n",
    "Instead, I'm going to show you a restricted family of schemes called **collocation** methods.\n",
    "They're easy to describe, they are pretty hard to break, and they're going to lead us nicely into the methods that we'll use for spatial discretization later.\n",
    "They take a little more work in some respects.\n",
    "\n",
    "Suppose we want to solve an ODE on some time interval $[0, T]$.\n",
    "First, we break up the interval into smaller sub-intervals along the knot points $\\{t_0, t_1, \\ldots, t_{N - 1}, t_N\\}$.\n",
    "I'm always going to use $N$ for the number of knot points and $n$ to denote the index of a knot point.\n",
    "Moreover, I'll write\n",
    "$$\\delta t_n = t_{n + 1} - t_n$$\n",
    "for the length of the $n$th sub-interval.\n",
    "**The notation can get really annoying.\n",
    "Do not hesitate to ask for clarification.**\n",
    "\n",
    "I'll start by showing you the simplest collocation method before we go on to the general case.\n",
    "The simplest collocation method assumes that, in each sub-interval, the approximate solution is a linear function, and we have to determine the coefficients.\n",
    "**The idea of collocation is to pick a finite set of points and make the ODE exact at those points.**\n",
    "This will give us a system of equations to solve for the coefficients in the basis expansion.\n",
    "Hopefully, as we take more and more points, the approximations will grow closer and closer to the true solution.\n",
    "\n",
    "Before we get down to the details, there's a problem that we'll encounter here in the simplest possible form, but which will recur repeatedly throughout this class.\n",
    "What are the degrees of freedom for our approximation, how do we pack them into an array, and what geometric entities are they associated with?\n",
    "For example, if we assume that the approximate solution is linear in each sub-interval, we could use two degrees of freedom for each sub-interval, which is certainly sufficient.\n",
    "So if there are $N$ sub-intervals we have $2N$ degrees of freedom.\n",
    "\n",
    "But in fact this choice of degrees of freedom isn't very efficient -- we can get by with much less.\n",
    "We'll assume for all of the collocation methods that we define (degree-1 or higher) that the approximate solution is a continuous function.\n",
    "In the degree-1 case, we can assume that there is a single degree-of-freedom $\\hat{u}_n$ for each knot point $t_k$.\n",
    "We can then define the approximation by linear interpolation within each cell.\n",
    "If $t$ lies in the interval $[t_n, t_{n + 1}]$, then we can define the re-mapped time\n",
    "$$\\tau = (t - t_n) / \\delta t_n$$\n",
    "as the fractional duration of $t$ through the interval $[t_n, t_{n + 1}]$; the nice part about working with this variable is that $\\tau$ is always in the interval $[0, 1]$.\n",
    "We then define $u$ within this interval as\n",
    "$$u(t_n + \\tau\\,\\delta t_n) = (1 - \\tau)\\hat u_n + \\tau\\hat u_{n + 1}$$\n",
    "and piece together these linear segments to define $u$ over the entire interval $[0, T]$.\n",
    "This choice only requires $N + 1$ degrees of freedom.\n",
    "If this feels a little silly or basic now, it'll make more sense when we get to higher-order collocation.\n",
    "\n",
    "First, we were given some initial conditions, so we can state right away that\n",
    "$$\\hat u_0 = u|_{t = 0}.$$\n",
    "Now let's suppose that we've determined the coefficients $\\hat u_0, \\ldots, \\hat u_n$, and we now want to compute $\\hat u_{n + 1}$.\n",
    "The collocation condition is that the differential equation is exact at some time point $\\tau_*$ between $t_n$ and $t_{n + 1}$.\n",
    "We know right away the derivative of $u$:\n",
    "$$\\frac{d}{dt} u(\\tau_*) = \\frac{\\hat u_{n + 1} - \\hat u_n}{\\delta t_n}.$$\n",
    "So in order to make the ODE exact at $\\tau_*$, we need that\n",
    "$$\\frac{\\hat u_{n + 1} - \\hat u_n}{\\delta t_n} = f\\Big((1 - \\tau_*)\\hat u_n + \\tau_*\\hat u_{n + 1}, t_n + \\tau_*\\delta t_n\\Big) \\tag{1}$$\n",
    "This is an implicit equation for the new value $\\hat u_{n + 1}$.\n",
    "If $f$ is linear, then it's a linear system; otherwise, it's nonlinear.\n",
    "\n",
    "How do we pick the collocation point $\\tau_*$?\n",
    "We can answer this question by looking at the simplest equation possible:\n",
    "$$\\dot u = -\\lambda u.$$\n",
    "We'll then consider some speical cases.\n",
    "For a scalar linear equation, the collocation equation becomes\n",
    "$$\\frac{\\hat u_{n + 1} - \\hat u_n}{\\delta t_n} = -\\lambda\\Big((1 - \\tau_*)\\,\\hat u_n + \\tau_*\\,\\hat u_{n + 1}\\Big)$$\n",
    "which we can rearrange to get\n",
    "$$\\hat u_{n + 1} = \\frac{1 - (1 - \\tau_*)\\cdot\\delta t\\cdot\\lambda}{1 + \\tau_*\\cdot\\delta t\\cdot\\lambda}\\hat u_n.$$\n",
    "So far so good, but we still don't know how to pick $\\tau_*$.\n",
    "We'll consider three possible values -- $\\tau_* = 0$, $\\tau_* = 1$, and $\\tau_* = 1/2$.\n",
    "For $\\tau_* = 0$, we get the *forward* method:\n",
    "$$\\hat u_{n + 1} = (1 - \\delta t\\cdot\\lambda)\\hat u_n.$$\n",
    "For $\\tau_* = 1$, we get the *backward* method:\n",
    "$$\\hat u_{n + 1} = (1 + \\delta t\\cdot\\lambda)^{-1}\\hat u_n$$\n",
    "and finally for $\\tau_* = 1/2$, we get the *midpoint* method:\n",
    "$$\\hat u_{n + 1} = \\frac{1 - \\frac{1}{2}\\delta t\\cdot\\lambda}{1 + \\frac{1}{2}\\delta t\\cdot\\lambda}\\hat u_n.$$\n",
    "If we want to get anywhere from here, we have to specialize what $\\lambda$ is.\n",
    "In the coding exercise, you'll look at two cases: $\\lambda$ real and positive, and $\\lambda$ purely imaginary."
   ]
  },
  {
   "cell_type": "markdown",
   "id": "1",
   "metadata": {},
   "source": [
    "## Linear collocation for scalar problems\n",
    "\n",
    "Write a routine to compute the degree-1 collocation approximation to the scalar linear ODE\n",
    "$$\\dot u = -\\alpha u, \\quad u(0) = u_0.$$\n",
    "The function signature is shown below; fill in the body.\n",
    "Remember that you can pass the argument `dtype=complex` when creating a numpy array in order to specify that it consists of complex numbers.\n",
    "\n",
    "A note on Greek letters. \n",
    "You can put a Greek letter in Python code in a Jupyter notebook by typing a backslash, spelling it out in english, and then hitting the Tab key.\n",
    "So for example to type an alpha, you would start typing `\\alpha` and then hit Tab."
   ]
  },
  {
   "cell_type": "code",
   "execution_count": null,
   "id": "2",
   "metadata": {},
   "outputs": [],
   "source": [
    "def linear_collocation(\n",
    "    u_0: complex,\n",
    "    α: complex,\n",
    "    T: float,\n",
    "    N: int,\n",
    "    τ: float,\n",
    ") -> np.ndarray:\n",
    "    ..."
   ]
  },
  {
   "cell_type": "markdown",
   "id": "3",
   "metadata": {},
   "source": [
    "#### Real $\\alpha$\n",
    "\n",
    "First try an initial condition $u_0 = 1$, a decay constant $\\alpha = 1$, a final time $T = 20.0$ and 200 steps.\n",
    "See what happens when you use the forward method, the backward method, and the midpoint method, and compare them to the exact solution $\\exp(-\\alpha t)$.\n",
    "\n",
    "Useful functions that you'll probably need:\n",
    "* [np.linspace](https://numpy.org/doc/stable/reference/generated/numpy.linspace.html)\n",
    "* [np.exp](https://numpy.org/doc/stable/reference/generated/numpy.exp.html)\n",
    "\n",
    "Remember that many numpy functions (like `exp`) can take arrays as arguments; they'll return an array of the corresponding shape."
   ]
  },
  {
   "cell_type": "code",
   "execution_count": null,
   "id": "5",
   "metadata": {},
   "outputs": [],
   "source": [
    "α = 1.0\n",
    "T = 20.0\n",
    "N = 200\n",
    "u_0 = 1.0\n",
    "\n",
    "..."
   ]
  },
  {
   "cell_type": "markdown",
   "id": "6",
   "metadata": {},
   "source": [
    "Try them all but with a decay constant of $\\alpha = 18$.\n",
    "Then try it for even higher values.\n",
    "Hint: the backward and midpoint methods should look ok, the forward method... less so."
   ]
  },
  {
   "cell_type": "code",
   "execution_count": null,
   "id": "7",
   "metadata": {},
   "outputs": [],
   "source": [
    "α = 18.0\n",
    "\n",
    "..."
   ]
  },
  {
   "cell_type": "markdown",
   "id": "9",
   "metadata": {},
   "source": [
    "#### Complex $\\alpha$\n",
    "\n",
    "Try $\\alpha = i/2$ where $i$ is the imaginary unit, $i^2 = -1$.\n",
    "You can get the imaginary unit in Python with `1j`.\n",
    "(Electrical engineers use $j$ for the imaginary unit instead of $i$, blame them for the confusion.)\n",
    "Since the solution is complex, there's a little more going on here.\n",
    "You can get the real and imaginary parts of an array `u` with `u.real` and `u.imag`.\n",
    "Plot the results however you wish.\n",
    "How do the forward, backward, and midpoint methods behave differently from the exact solution?\n",
    "Try doubling `N` but keeping `T` the same."
   ]
  },
  {
   "cell_type": "code",
   "execution_count": null,
   "id": "10",
   "metadata": {},
   "outputs": [],
   "source": [
    "α = 0.5 * 1j\n",
    "\n",
    "..."
   ]
  },
  {
   "cell_type": "markdown",
   "id": "89adede4-c340-441a-9ba5-161e219c9d93",
   "metadata": {},
   "source": [
    "#### Convergence rates\n",
    "\n",
    "Now we'll look at the convergence rate for each of the methods as we take more and more steps.\n",
    "Take $\\alpha = 1$, $T = 20$ again, and compute the results of each method for $N = 20$, $N = 40$, and so on up to $N = 2^{10} \\cdot 20$.\n",
    "For each choice of the number of steps, compute the root mean-squared deviation from the true solution $\\exp(-\\alpha t)$.\n",
    "Plot the results on a log scale in both variables.\n",
    "Then compute the constants $C$ and $p$ on\n",
    "$$\\text{error} \\approx C\\cdot\\delta t^p.$$\n",
    "You can do this by running a linear fit on the logarithms of both the errors and timestep sizes.\n",
    "The exponent $p$ is the *order of convergence*.\n",
    "What is it for each method?\n",
    "\n",
    "Helpful functions:\n",
    "* [np.logspace](https://numpy.org/doc/stable/reference/generated/numpy.logspace.html)\n",
    "* [Axes.set_xscale(\"log\")](https://matplotlib.org/stable/api/_as_gen/matplotlib.axes.Axes.set_xscale.html), likewise for `y`\n",
    "* [np.polyfit](https://numpy.org/doc/stable/reference/generated/numpy.polyfit.html)"
   ]
  },
  {
   "cell_type": "code",
   "execution_count": null,
   "id": "bc970734-f263-492e-8912-b366376b1b9e",
   "metadata": {},
   "outputs": [],
   "source": [
    "u_0 = 1.0\n",
    "α = 1.0\n",
    "T = 20.0\n",
    "\n",
    "exponent = 10\n",
    "Ns = 20 * np.logspace(start=0, stop=exponent, num=exponent + 1, base=2, dtype=int)\n",
    "dts = T / Ns\n",
    "\n",
    "def compute_errors(τ: float, Ns: np.ndarray) -> np.ndarray:\n",
    "    errors = np.zeros_like(Ns, dtype=float)\n",
    "    for index, N in enumerate(Ns):\n",
    "        ...\n",
    "    return errors\n",
    "\n",
    "for τ, name in zip([0.0, 0.5, 1.0], [\"forward\", \"midpoint\", \"backward\"]):\n",
    "    slope, intercept = np.polyfit(np.log(dts), np.log(compute_errors(τ, Ns)), 1)\n",
    "    print(f\"{name}: error ~= {np.exp(intercept):.1g} * dt^{slope:.1f}\")"
   ]
  },
  {
   "cell_type": "markdown",
   "id": "38c4a03b-af26-453b-810d-d27f0097f8ca",
   "metadata": {},
   "source": [
    "## Linear collocation for vector problems\n",
    "\n",
    "We can do collocation for multidimensional problems as well.\n",
    "But we have to be careful about what we mean by \"division\".\n",
    "In the multidimensional setting, division becomes solving a linear system.\n",
    "Suppose that $f(u, t) = -Au$ for some matrix $A$.\n",
    "Then the collocation equation becomes\n",
    "$$\\hat u_{n + 1} = \\left(I + \\tau_*\\cdot\\delta t\\cdot A\\right)^{-1}\\left(I - (1 - \\tau)\\cdot\\delta t\\cdot A\\right)\\hat u_n.$$\n",
    "The same methods are defined as before: $\\tau_* = 0$ is the forward method, $\\tau_* = 1$ is the backward method, and $\\tau_* = 1/2$ is the midpoint method.\n",
    "\n",
    "**Exericse:** Suppose that $A$ is diagonalizable.\n",
    "Can you write out more explicitly what the degree-1 collocation method does in terms of the eigenvalue decomposition of $A$?"
   ]
  },
  {
   "cell_type": "markdown",
   "id": "f38aba17-03de-42bc-9800-88bd2fa62671",
   "metadata": {},
   "source": [
    "\n",
    "Now write a routine to compute the degree-1 collocation approximation to the system of ODEs\n",
    "$$\\dot u = -A\\, u, \\quad u(0) = u_0.$$\n",
    "Note: computing the inverse of a matrix is **forbidden**.\n",
    "I'll explain why.\n",
    "You're better off using `numpy.linalg.solve` repeatedly.\n",
    "We can discuss better ways in class.\n",
    "\n",
    "When you wrote the routine to do scalar problems with collocation, the shape of the returned array was pretty obvious -- it's a 1D array with `num_steps + 1` entries.\n",
    "For multidimensional problems, we have a choice.\n",
    "Suppose that `num_states` is the size of the ODE system, i.e. the number of variables or the dimension of $u_0$.\n",
    "The returned array has to be 2D, but does it have shape `(num_steps + 1, num_states)` or does it have shape `(num_states, num_steps + 1)`?\n",
    "In principle, it could be either.\n",
    "I'm going to make the decision for you that the shape should be `(num_steps + 1, num_states)`.\n",
    "We'll talk about why this is better in class.\n",
    "\n",
    "Useful functions:\n",
    "* np.eye\n",
    "* np.linalg.solve"
   ]
  },
  {
   "cell_type": "code",
   "execution_count": null,
   "id": "97aae0ac-7e03-40c0-bd45-fa585582c7d5",
   "metadata": {},
   "outputs": [],
   "source": [
    "def linear_collocation(u_0, A, final_time, num_steps, τ):\n",
    "    ..."
   ]
  },
  {
   "cell_type": "markdown",
   "id": "1e086fd8-5577-47ad-bf0c-371f9d071ff2",
   "metadata": {},
   "source": [
    "#### Dissipative problems\n",
    "\n",
    "Try the forward, backward, and midpoint methods on a diffusion-type problem like we saw for the probability density of random walks.\n",
    "You can copy over code to generate the matrices for those problems.\n",
    "Find a reasonable ending time and timestep through the method of your choice.\n",
    "You can do this either by finding the eigenvalue decomposition of the rate matrix, or you can be a sensible person and just do it through trial and error."
   ]
  },
  {
   "cell_type": "code",
   "execution_count": null,
   "id": "5f57c833-7ede-4e7a-a60f-24d198950660",
   "metadata": {},
   "outputs": [],
   "source": [
    "def make_rate_matrix(holding_times, probabilities):\n",
    "    ..."
   ]
  },
  {
   "cell_type": "code",
   "execution_count": null,
   "id": "96e3444d-d196-4e89-bc63-66adbb717d9b",
   "metadata": {},
   "outputs": [],
   "source": [
    "holding_times = ...\n",
    "probabilities = ...\n",
    "A = make_rate_matrix(holding_times, probabilities)\n",
    "u_0 = ..."
   ]
  },
  {
   "cell_type": "code",
   "execution_count": null,
   "id": "6a93f233-2a86-4fc6-9759-a5cb54ce0bb0",
   "metadata": {},
   "outputs": [],
   "source": [
    "timescale = 50.0\n",
    "num_steps = 32\n",
    "\n",
    "u_forward = linear_collocation(u_0, A, timescale, num_steps, 0.0)\n",
    "u_backward = linear_collocation(u_0, A, timescale, num_steps, 1.0)\n",
    "u_midpoint = linear_collocation(u_0, A, timescale, num_steps, 0.5)"
   ]
  },
  {
   "cell_type": "markdown",
   "id": "cd7da821-a314-43f8-b7b4-94a340128b69",
   "metadata": {},
   "source": [
    "Plot the total probability using each method.\n",
    "(Hint: you can use `np.sum` along a particular axis.)\n",
    "Mathematically, we know that the total probability should always add up to 1.\n",
    "Is this reflected in all our numerical methods?"
   ]
  },
  {
   "cell_type": "code",
   "execution_count": null,
   "id": "f0d878a4-7f42-4667-931f-7eac6d3724c5",
   "metadata": {},
   "outputs": [],
   "source": []
  },
  {
   "cell_type": "markdown",
   "id": "e57d8e20-beb8-488c-b626-c2d680376035",
   "metadata": {},
   "source": [
    "Plot the final value of each solution."
   ]
  },
  {
   "cell_type": "code",
   "execution_count": null,
   "id": "221120c0-8e23-43c6-b287-884ce6f54ff6",
   "metadata": {},
   "outputs": [],
   "source": []
  },
  {
   "cell_type": "markdown",
   "id": "b695a945-2be1-4aec-a8fa-a65b710a7514",
   "metadata": {},
   "source": [
    "Now we'll try a simple random walk on, say, 64 sites.\n",
    "Make the probability of jumping up or down equal to 0.5 in both directions.\n",
    "At the endpoints, the random walker will wrap around, so in state 63 there is equal probability to go back down to 62 but also back around to 0, and vice versa.\n",
    "Make the holding times all equal to 1 again, make the matrix of jump probabilities, and make the rate matrix."
   ]
  },
  {
   "cell_type": "code",
   "execution_count": null,
   "id": "2e553a88-c651-40e7-b407-aa87d387f011",
   "metadata": {},
   "outputs": [],
   "source": [
    "num_states = 64\n",
    "\n",
    "holding_times = ...\n",
    "probabilities = ...\n",
    "\n",
    "A = make_rate_matrix(holding_times, probabilities)"
   ]
  },
  {
   "cell_type": "markdown",
   "id": "0ccba671-db27-46c5-a0a4-3466a749416b",
   "metadata": {},
   "source": [
    "Make the initial probability density equal to $1/32$ for sites 0 through 31, and equal to 0 for sites 32 through 63.\n",
    "(Check that it sums to 1!)"
   ]
  },
  {
   "cell_type": "code",
   "execution_count": null,
   "id": "d7e1b4d9-c6ee-43ed-b056-710141796c79",
   "metadata": {},
   "outputs": [],
   "source": [
    "u_0 = ..."
   ]
  },
  {
   "cell_type": "markdown",
   "id": "ad223521-e283-4b0f-b390-764d4a87364d",
   "metadata": {},
   "source": [
    "We'll use an absurdly large timestep here."
   ]
  },
  {
   "cell_type": "code",
   "execution_count": null,
   "id": "74b5bdca-62a6-4441-80fa-253e334bf565",
   "metadata": {},
   "outputs": [],
   "source": [
    "timescale = 50.0\n",
    "num_steps = 4"
   ]
  },
  {
   "cell_type": "markdown",
   "id": "44c07ffe-4d69-48ec-a4f1-b00cdac126ca",
   "metadata": {},
   "source": [
    "Run the simulation and plot the result at time index 1, so not the initial condition but one right after.\n",
    "What do you notice?"
   ]
  },
  {
   "cell_type": "code",
   "execution_count": null,
   "id": "f305afa9-a24b-40d7-b378-8676203cfeab",
   "metadata": {},
   "outputs": [],
   "source": [
    "u_backward = linear_collocation(u_0, A, timescale, num_steps, 1.0)\n",
    "u_midpoint = linear_collocation(u_0, A, timescale, num_steps, 0.5)"
   ]
  },
  {
   "cell_type": "code",
   "execution_count": null,
   "id": "40628aad-27f0-4bfd-b2d6-2d5dbc27b95a",
   "metadata": {},
   "outputs": [],
   "source": [
    "fig, ax = plt.subplots()\n",
    "ax.plot(u_backward[1], label=\"backward\")\n",
    "ax.plot(u_midpoint[1], label=\"midpoint\")\n",
    "ax.legend();"
   ]
  },
  {
   "cell_type": "markdown",
   "id": "099400fa-a137-4793-bf9f-dc6ad91c15c6",
   "metadata": {},
   "source": [
    "What do you think I'm trying to show you here?"
   ]
  },
  {
   "cell_type": "markdown",
   "id": "56620b23-021b-4863-87e3-6850b1d92c2f",
   "metadata": {},
   "source": [
    "#### Conservative problems\n",
    "\n",
    "Write some code to form the system matrix for the coupled oscillator problem.\n",
    "You can copy over code from the previous notebook.\n",
    "Remember that if $D$ is the incidence matrix and $\\Omega$ is the diagonal matrix of frequencies,\n",
    "$$A = \\left[\\begin{matrix}0 & D\\Omega \\\\ -\\Omega D^* & 0\\end{matrix}\\right].$$\n",
    "(The zeros in the upper left and lower right block don't have the same size -- we don't necessarily have the same number of nodes as edges.)"
   ]
  },
  {
   "cell_type": "code",
   "execution_count": null,
   "id": "8d60a059-1492-4bcc-bd3c-7a898ee5c970",
   "metadata": {},
   "outputs": [],
   "source": [
    "def make_incidence_matrix(springs):\n",
    "    ...\n",
    "\n",
    "def make_oscillator_matrix(frequencies, springs):\n",
    "    ..."
   ]
  },
  {
   "cell_type": "markdown",
   "id": "5746be12-0f34-4f79-adb4-9159dae5e607",
   "metadata": {},
   "source": [
    "Solve the oscillator problem using the initial condition of your choice for a periodic, linear chain of oscillators with 128 nodes and constant frequencies.\n",
    "Try it with the forward, backward, and midpoint methods.\n",
    "Pick a final time long enough for something interesting to happen and choose a timestep.\n",
    "This is, once again, trial and error.\n",
    "There's some code to make a movie below.\n",
    "Make sure to watch what happens for the midpoint method.\n",
    "If you have time, compare to the backward and forward methods."
   ]
  },
  {
   "cell_type": "code",
   "execution_count": null,
   "id": "b0c8b4c8-0dff-4829-aacf-13087797807b",
   "metadata": {},
   "outputs": [],
   "source": [
    "num_weights = 128\n",
    "springs = ...\n",
    "frequencies = ...\n",
    "A = make_oscillator_matrix(frequencies, springs)\n",
    "final_time = ...\n",
    "num_steps = ...\n",
    "z_0 = ..."
   ]
  },
  {
   "cell_type": "code",
   "execution_count": null,
   "id": "4f737cd3-8aa9-4940-86e0-8e8563e102bf",
   "metadata": {},
   "outputs": [],
   "source": [
    "zs_forward = linear_collocation(z_0, A, final_time, num_steps, 0.0)\n",
    "zs_backward = linear_collocation(z_0, A, final_time, num_steps, 1.0)\n",
    "zs_midpoint = linear_collocation(z_0, A, final_time, num_steps, 0.5)"
   ]
  },
  {
   "cell_type": "code",
   "execution_count": null,
   "id": "edd32ea3-b57b-4c5f-a1cc-cf122dcd4f34",
   "metadata": {},
   "outputs": [],
   "source": [
    "qs_forward = zs_forward[:, :num_weights]\n",
    "qs_backward = zs_backward[:, :num_weights]\n",
    "qs_midpoint = zs_midpoint[:, :num_weights]"
   ]
  },
  {
   "cell_type": "code",
   "execution_count": null,
   "id": "858b4b29-0b8e-4432-94f0-b746243d8f4e",
   "metadata": {},
   "outputs": [],
   "source": [
    "%%capture\n",
    "fig, ax = plt.subplots()\n",
    "x = np.array(list(range(num_weights)))\n",
    "ax.set_ylim((-1, +1))\n",
    "points = ax.scatter(x, qs_midpoint[0])\n",
    "\n",
    "def animate(q):\n",
    "    points.set_offsets(np.column_stack((x, q)))\n",
    "animation = FuncAnimation(fig, animate, qs_midpoint, interval=1e3/30)"
   ]
  },
  {
   "cell_type": "code",
   "execution_count": null,
   "id": "cbf96fc6-07ea-478e-8bbd-8df60b3acea1",
   "metadata": {},
   "outputs": [],
   "source": [
    "HTML(animation.to_html5_video())"
   ]
  },
  {
   "cell_type": "markdown",
   "id": "d0502405-9972-4502-bc83-2b541add44e6",
   "metadata": {},
   "source": [
    "Assuming that you saved the oscillator matrix in a variable named `A`, the function below will compute the energy of the time series `zs`.\n",
    "Compute the energies for the forward, backward, and midpoint methods and plot them.\n",
    "How do they compare?\n",
    "You might need to use [set_ylim](https://matplotlib.org/stable/api/_as_gen/matplotlib.axes.Axes.set_ylim.html) because of one of these schemes."
   ]
  },
  {
   "cell_type": "code",
   "execution_count": null,
   "id": "492cbff2-9abe-4ad9-a4f2-33d46bf0c112",
   "metadata": {},
   "outputs": [],
   "source": [
    "def energies(zs):\n",
    "    return -0.5 * np.array([np.dot(z, A @ (A @ z)) for z in zs])"
   ]
  },
  {
   "cell_type": "code",
   "execution_count": null,
   "id": "9f36cf32-3952-456e-8fbb-92921ae8ee2b",
   "metadata": {},
   "outputs": [],
   "source": [
    "ts = np.linspace(0, final_time, num_steps + 1)\n",
    "fig, ax = plt.subplots()\n",
    "energies_midpoint = energies(zs_midpoint)\n",
    "ax.plot(ts, energies_midpoint, label=\"midpoint\")\n",
    "ax.set_ylim((0, 2 * energies_midpoint.max()))\n",
    "ax.plot(ts, energies(zs_forward), label=\"forward\")\n",
    "ax.plot(ts, energies(zs_backward), label=\"backward\")\n",
    "ax.set_xlabel(\"time\")\n",
    "ax.set_ylabel(\"energy\")\n",
    "ax.legend();"
   ]
  },
  {
   "cell_type": "markdown",
   "id": "7c63cc61-8c4a-45b4-8282-812ee01c72fc",
   "metadata": {},
   "source": [
    "If you have time, try all this again with a smaller timestep.\n",
    "How does the energy drift of each method change when you use a different timestep?"
   ]
  },
  {
   "cell_type": "markdown",
   "id": "3ab7a774-4fea-4498-b361-da97e4c5cad1",
   "metadata": {},
   "source": [
    "### Stability\n",
    "\n",
    "The demonstrations above show the different orders of convergence for the forward, backward, and midpoint schemes.\n",
    "You'll also have seen that the forward scheme can become wildly oscillatory if you take too long a timestep.\n",
    "The backward and midpoint schemes don't give a very accurate answer if you use a very long timestep, but they at least remain bounded.\n",
    "\n",
    "The ODE that we're trying to solve is a dynamical system, but you can think of the numerical method as defining a dynamical system too, just in discrete time instead of continuous.\n",
    "The method is said to be *stable* for a given problem (i.e. matrix $A$) and timestep if the corresponding discrete dynamical system is stable, i.e. the trajectories $\\hat u_n$ remain bounded for large $n$.\n",
    "Note that stability depends on the timestep and the problem that you're trying to solve.\n",
    "\n",
    "**Exercise:** Show that the forward method is stable if $\\delta t < \\lambda^{-1}$.\n",
    "Show that the backward and midpoint methods are stable for any $\\delta t$ as long as the real part of $\\lambda$ is positive.\n",
    "*Hint*: Apply the formulas above for the different schemes to write down an expression for $\\hat u_n$ in terms of $\\hat u_0$ for each method.\n",
    "Then use the fact that, for any complex number $z$, $|z|^n$ is bounded for any $n$ only if $|z| \\le 1$.\n",
    "\n",
    "**Exercise:** What are the consequences if we're solving a system of ODE instead?"
   ]
  }
 ],
 "metadata": {
  "kernelspec": {
   "display_name": "Python 3 (ipykernel)",
   "language": "python",
   "name": "python3"
  },
  "language_info": {
   "codemirror_mode": {
    "name": "ipython",
    "version": 3
   },
   "file_extension": ".py",
   "mimetype": "text/x-python",
   "name": "python",
   "nbconvert_exporter": "python",
   "pygments_lexer": "ipython3",
   "version": "3.11.5"
  }
 },
 "nbformat": 4,
 "nbformat_minor": 5
}

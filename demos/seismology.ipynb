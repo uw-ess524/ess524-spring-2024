{
 "cells": [
  {
   "cell_type": "markdown",
   "id": "b61ec76e-2529-46d9-b00f-51ecb5eb69bf",
   "metadata": {},
   "source": [
    "# Seismology\n",
    "\n",
    "Continuing on our theme of elasticity, we're going to look at seismic wave propagation in earth's mantle.\n",
    "This is a time-dependent wave propagation problem and we're going to need to do some mesh generation.\n",
    "Once again, if $u$ is the displacement of the mantle, and $v = \\dot u$ is the velocity, the extensive quantity is the momentum $\\rho v$ and the flux is the stress $\\sigma$.\n",
    "The constitutive law is\n",
    "$$\\sigma = 2\\mu\\,\\varepsilon + \\lambda\\,\\text{tr}(\\varepsilon)I$$\n",
    "where $\\varepsilon = (\\nabla u + \\nabla u^\\top)/2$ is the infinitesimal strain tensor and $\\mu$, $\\lambda$ are the Lamé parameters.\n",
    "\n",
    "Note that if you contract together a symmetric and an anti-symmetric tensor, you get zero.\n",
    "This is going to let us rewrite some parts of the variational form.\n",
    "If we consider a test displacement $w$, then we can write\n",
    "$$\\nabla w = \\frac{1}{2}\\left(\\nabla w + \\nabla w^\\top\\right) + \\frac{1}{2}\\left(\\nabla w - \\nabla w^\\top\\right),$$\n",
    "i.e. as the sum of a symmetric and an anti-symmetric part.\n",
    "Now if we contract the strain tensor of $u$ with $\\nabla w$, we'll wipe out the anti-symmetric part of $\\nabla w.\n",
    "\n",
    "All this is to say that the weak form of the seismic wave equation is\n",
    "$$\\int_\\Omega\\left(\\rho\\ddot u\\cdot w - 2\\mu\\,\\varepsilon(u):\\varepsilon(w) - \\lambda\\;\\text{tr}\\,\\varepsilon(u)\\;\\text{tr}\\,\\varepsilon(w) - f\\cdot w\\right)dx = 0$$\n",
    "for any test displacement $w$.\n",
    "Don't grow too attached to this form, we're about to not use it at all.\n",
    "\n",
    "Like the shallow water wave problem that I showed before, seismic wave propagation is second-order in time.\n",
    "We'll thus have to split it into a system of first-order equations.\n",
    "Unlike the shallow water problem that I showed before, we're going to carry out this splitting in a slightly more interesting way.\n",
    "Rather than work with the displacement and velocity, we can instead take a time-derivative of the linear elastic constitutive law to write\n",
    "$$\\dot\\sigma = 2\\mu\\,\\dot\\varepsilon + \\lambda\\,\\text{tr}(\\dot\\varepsilon)I$$\n",
    "As we'll see, this decomposition of the problem will have certain advantages."
   ]
  },
  {
   "cell_type": "markdown",
   "id": "6473eb5a-4eda-48f5-9675-65353f8ab16e",
   "metadata": {},
   "source": [
    "### But first, meshing\n",
    "\n",
    "To do all this, we're going to first have to make a triangular mesh of our geometry.\n",
    "There are lots of mesh generators, many of which are unfortunately academic abandonware.\n",
    "We're going to use [Triangle](https://www.cs.cmu.edu/~quake/triangle.html), which was the first good open-source tool for 2D meshing.\n",
    "It hasn't been modified since 2005, but it's got good documentation and the file formats make sense.\n",
    "There's a Python wrapper for it called [MeshPy](https://documen.tician.de/meshpy/) which we'll use here.\n",
    "\n",
    "MeshPy has a few convenience functions for defining simple geometries like boxes and circles.\n",
    "These are in the namespace `meshpy.geometry`.\n",
    "We'll start by just making a box.\n",
    "The procedure is to create this `GeometryBuilder` object, and then add more things to it.\n",
    "Here we're only adding one, but I could also use this to create shapes with holes in them."
   ]
  },
  {
   "cell_type": "code",
   "execution_count": null,
   "id": "3b0f7110-13f3-4d13-9802-5e90d191d1b7",
   "metadata": {},
   "outputs": [],
   "source": [
    "import meshpy, meshpy.geometry, meshpy.triangle\n",
    "\n",
    "builder = meshpy.geometry.GeometryBuilder()\n",
    "\n",
    "lx = 200e3\n",
    "ly = 100e3\n",
    "box = meshpy.geometry.make_box((0.0, 0.0), (lx, ly))\n",
    "builder.add_geometry(*box)"
   ]
  },
  {
   "cell_type": "markdown",
   "id": "9eea213f-3c7e-46f6-a77f-51bd0cfe0606",
   "metadata": {},
   "source": [
    "Now we'll actually create the mesh.\n",
    "The utility of this GeometryBuilder is that it will internally keep track of what indices everything should be assigned and what boundary markers they should get.\n",
    "This is all very annoying so having someone do it for you is a huge time saver.\n",
    "The process is to first create a data structure (`MeshInfo`) that describes the boundary of the domain we're interested in.\n",
    "The geometry builder will fill in everything that needs to go in this MeshInfo.\n",
    "Then we can call `meshpy.triangle.build` to actually triangulate the domain.\n",
    "Here I'm using a resolution of 4km, which as we'll see is very coarse."
   ]
  },
  {
   "cell_type": "code",
   "execution_count": null,
   "id": "a9b5a2a2-247e-4acf-afb8-3b298e95a272",
   "metadata": {},
   "outputs": [],
   "source": [
    "mesh_info = meshpy.triangle.MeshInfo()\n",
    "builder.set(mesh_info)\n",
    "\n",
    "length = 4e3\n",
    "triangle_mesh = meshpy.triangle.build(mesh_info, max_volume=0.5 * length**2)"
   ]
  },
  {
   "cell_type": "markdown",
   "id": "edbcb56d-7b9e-4177-9970-a938b4ff5d43",
   "metadata": {},
   "source": [
    "Just so we can see the result, I'm pulling out all the points and triangles of the mesh."
   ]
  },
  {
   "cell_type": "code",
   "execution_count": null,
   "id": "723d6703-5cf1-4ef1-8e80-2edaac323dc1",
   "metadata": {},
   "outputs": [],
   "source": [
    "import numpy as np\n",
    "import matplotlib.pyplot as plt\n",
    "\n",
    "points = np.array(triangle_mesh.points)\n",
    "triangles = np.array(triangle_mesh.elements)\n",
    "\n",
    "fig, ax = plt.subplots()\n",
    "ax.set_aspect(\"equal\")\n",
    "ax.triplot(points[:, 0], points[:, 1], triangles);"
   ]
  },
  {
   "cell_type": "markdown",
   "id": "51e691de-57e5-45fe-9b6f-467aac71bcb0",
   "metadata": {},
   "source": [
    "The code below will convert MeshPy's data structure to Firedrake.\n",
    "Don't ask how I figured this out."
   ]
  },
  {
   "cell_type": "code",
   "execution_count": null,
   "id": "ccb2fac5-e98a-4ad1-be19-d8f7896bf85e",
   "metadata": {},
   "outputs": [],
   "source": [
    "import firedrake\n",
    "from firedrake.cython import dmcommon\n",
    "\n",
    "def triangle_to_firedrake(triangle_mesh):\n",
    "    points = np.array(triangle_mesh.points)\n",
    "    triangles = np.array(triangle_mesh.elements)\n",
    "    plex = firedrake.mesh.plex_from_cell_list(2, triangles, points, firedrake.COMM_WORLD)\n",
    "    markers = {\n",
    "        tuple(sorted((v1, v2))): triangle_mesh.facet_markers[index]\n",
    "        for index, (v1, v2) in enumerate(triangle_mesh.facets)\n",
    "    }\n",
    "    plex.createLabel(dmcommon.FACE_SETS_LABEL)\n",
    "    plex.markBoundaryFaces(\"boundary_faces\")\n",
    "    boundary_faces = plex.getStratumIS(\"boundary_faces\", 1).getIndices()\n",
    "    offset = plex.getDepthStratum(0)[0]\n",
    "    for face in boundary_faces:\n",
    "        vertices = tuple(sorted([v - offset for v in plex.getCone(face)]))\n",
    "        marker = markers[vertices]\n",
    "        plex.setLabelValue(dmcommon.FACE_SETS_LABEL, face, marker)\n",
    "    \n",
    "    return firedrake.Mesh(plex, reorder=False)"
   ]
  },
  {
   "cell_type": "markdown",
   "id": "7a918c45-2476-4c80-8bb7-e7ac5451a1ae",
   "metadata": {},
   "source": [
    "Now we'll plot the Firedrake mesh.\n",
    "I'm showing this mostly so you can see that we got all the boundary markers."
   ]
  },
  {
   "cell_type": "code",
   "execution_count": null,
   "id": "5d45ad48-084c-45ce-aa0b-27e680fb34f3",
   "metadata": {},
   "outputs": [],
   "source": [
    "mesh = triangle_to_firedrake(triangle_mesh)\n",
    "\n",
    "fig, ax = plt.subplots()\n",
    "ax.set_aspect(\"equal\")\n",
    "firedrake.triplot(mesh, axes=ax)\n",
    "ax.legend();"
   ]
  },
  {
   "cell_type": "markdown",
   "id": "eab6a9cb-72ac-422a-9c8a-d95e61632341",
   "metadata": {},
   "source": [
    "### The simulation\n",
    "\n",
    "Now we get to the actual physics.\n",
    "I wrote down a second-order wave equation for the displacements above.\n",
    "In order to use our usual ODE solvers, we need to reduce this to a 1st-order problem.\n",
    "We're going to do that by using both the velocity $v = \\dot u$ and the stress tensor as unknowns.\n",
    "We know that the rate of change of the stress tensor can be expressed in terms of the strain *rate* tensor\n",
    "$$\\varepsilon(v) = \\frac{1}{2}\\left(\\nabla v + \\nabla v^\\top\\right) = \\frac{1}{2}\\left(\\nabla\\dot u + \\nabla \\dot u^\\top\\right).$$\n",
    "So we can write the evolution equation for $\\sigma$ as\n",
    "$$\\dot \\sigma = 2\\mu\\varepsilon(v) + \\lambda\\,\\text{tr}\\,\\varepsilon(v)\\,I$$\n",
    "and so the variational form is\n",
    "$$\\int_\\Omega\\left\\{\\rho\\dot v\\cdot w + \\sigma\\cdot\\varepsilon(w) - f\\cdot w + \\dot\\sigma\\cdot\\tau - 2\\mu\\varepsilon(v):\\tau - \\lambda\\,\\text{tr}\\,\\varepsilon(v)\\,\\text{tr}(\\tau)\\right\\}dx = 0$$\n",
    "for all test velocities $w$ and stresses $\\tau$.\n",
    "There are no boundary terms because I'm assuming the external stresses are zero (more on this in a moment).\n",
    "\n",
    "First I'll have to create some physical constants.\n",
    "I'm assuming a shear wave speed of 7 km/s, a compressional wave speed of 11 km/s, and a density of 4500 kg/m${}^3$.\n",
    "We can then compute the parameters $\\mu$ and $\\lambda$ from the wave speeds and material density."
   ]
  },
  {
   "cell_type": "code",
   "execution_count": null,
   "id": "5a1da5a2-3214-4411-998e-8019ee7ade6a",
   "metadata": {},
   "outputs": [],
   "source": [
    "s_wave_speed = 7e3\n",
    "p_wave_speed = 11e3\n",
    "density = 4.5e3\n",
    "lame_μ = density * s_wave_speed**2\n",
    "lame_λ = density * (p_wave_speed**2 - 2 * s_wave_speed**2)"
   ]
  },
  {
   "cell_type": "markdown",
   "id": "0d29ef09-41cd-4db1-8e29-87590a1dced5",
   "metadata": {},
   "source": [
    "Once again, we'll create finite elements for the velocity and stress paces.\n",
    "Here we're using tensor function spaces for the first time.\n",
    "We added an extra argument `symmetry=True` in order to guarantee that we get only symmetric tensors."
   ]
  },
  {
   "cell_type": "code",
   "execution_count": null,
   "id": "8a543362-848c-4a0c-afb1-b791fc279e35",
   "metadata": {},
   "outputs": [],
   "source": [
    "cg_1 = firedrake.FiniteElement(\"CG\", \"triangle\", 1)\n",
    "dg_0 = firedrake.FiniteElement(\"DG\", \"triangle\", 0)\n",
    "\n",
    "V_1 = firedrake.VectorFunctionSpace(mesh, cg_1)\n",
    "Σ_0 = firedrake.TensorFunctionSpace(mesh, dg_0, symmetry=True)\n",
    "\n",
    "Z_1 = V_1 * Σ_0"
   ]
  },
  {
   "cell_type": "markdown",
   "id": "e9987f6b-ae9b-42c5-aa8f-fd7f2a9bfa52",
   "metadata": {},
   "source": [
    "Now we have to talk about seismic sources and I'm going to reveal my terrible ignorance of seismology.\n",
    "The internet and the book by Aki tell me that a reasonable seismic source is\n",
    "$$f_i(x, t) = -M_{ij}(t)\\partial_j\\delta(x - x_s)$$\n",
    "where $M_{ij}$ is the seismic *moment tensor* as a function of time, $x_s$ is the earthquake source location, and $\\delta$ is the [delta function](https://en.wikipedia.org/wiki/Dirac_delta_function).\n",
    "If you're unfamiliar with the delta function, you can think of it as a normal distribution with a very small variance.\n",
    "Here I'll take the souce term to be 600 km down from the surface at the very top of the domain.\n",
    "This is a fairly deep earthquake.\n",
    "\n",
    "The time dependence of a typical moment tensor is\n",
    "$$M_{ij}(t) = M_{ij}^0R(t)$$\n",
    "where $R$ is a [Ricker wavelet](https://en.wikipedia.org/wiki/Ricker_wavelet):\n",
    "$$R(t) = \\left(1 - 2\\pi^2\\frac{t^2}{T^2}\\right)\\exp\\left(-\\pi^2\\frac{t^2}{T^2}\\right)$$\n",
    "Here we'll take $T$ to be 0.25s; I've seen other references mention things on the order of 0.1s.\n",
    "\n",
    "I have no idea what a reasonable value for the moment tensor is.\n",
    "Luckily, this problem is linear, so if you change the scale of the moment tensor, you'll get a proportional change in the scale of the stress and velocity fields."
   ]
  },
  {
   "cell_type": "code",
   "execution_count": null,
   "id": "d59d1ba5-420c-4d28-bf73-c43cd8ad6108",
   "metadata": {},
   "outputs": [],
   "source": [
    "from firedrake import Constant, inner, outer, sym, tr, grad, dx, ds as dγ\n",
    "from numpy import pi as π\n",
    "\n",
    "ρ = Constant(density)\n",
    "μ = Constant(lame_μ)\n",
    "λ = Constant(lame_λ)\n",
    "\n",
    "t = Constant(0.0)\n",
    "t_0 = Constant(0.5)\n",
    "T = Constant(0.25)\n",
    "\n",
    "R = (1 - 2 * π**2 * (t - t_0)**2 / T**2) * firedrake.exp(-π**2 * (t - t_0)**2 / T**2)\n",
    "fault_length = 100e3\n",
    "fault_height = 1e3\n",
    "slip = 1.0\n",
    "m = Constant(μ * fault_length * fault_height * slip)\n",
    "M_0 = m * firedrake.as_tensor([[1.0, -1.0], [-1.0, 1.0]])"
   ]
  },
  {
   "cell_type": "markdown",
   "id": "f2f08c93-8648-4113-9313-332aa8663e44",
   "metadata": {},
   "source": [
    "To finish the definition of the sources, we need to define the delta function or something close enough to it.\n",
    "Here we'll use a Gaussian, normalized so that it integrates to 1.\n",
    "This is a bit of a dirty hack but it'll work for a demonstration.\n",
    "It is possible to include real honest delta functions in Firedrake if you need to."
   ]
  },
  {
   "cell_type": "code",
   "execution_count": null,
   "id": "93ff0ac5-d35a-4dd8-94cb-eb8897c802e4",
   "metadata": {},
   "outputs": [],
   "source": [
    "x = firedrake.SpatialCoordinate(mesh)\n",
    "depth = 30e3\n",
    "x_s = Constant((lx / 2, ly - depth))\n",
    "σ = Constant(5e3)\n",
    "expr = firedrake.exp(-inner(x - x_s, x - x_s) / (2 * σ**2))\n",
    "norm = firedrake.assemble(expr * dx)\n",
    "δ = expr / norm"
   ]
  },
  {
   "cell_type": "code",
   "execution_count": null,
   "id": "c94c6378-cf1e-43ac-89cf-880d025603ef",
   "metadata": {},
   "outputs": [],
   "source": [
    "Q = firedrake.FunctionSpace(mesh, \"DG\", 0)\n",
    "fig, ax = plt.subplots()\n",
    "ax.set_aspect(\"equal\")\n",
    "colors = firedrake.tripcolor(firedrake.Function(Q).project(δ), axes=ax)\n",
    "fig.colorbar(colors);"
   ]
  },
  {
   "cell_type": "markdown",
   "id": "adfc3762-903b-4e3d-a455-6277528f396a",
   "metadata": {},
   "source": [
    "Finally we define the source term for our problem as the product of the time-dependent part $R$, the magnitude $M_0$, and a delta function."
   ]
  },
  {
   "cell_type": "code",
   "execution_count": null,
   "id": "00af313b-6ff9-4772-bbce-64f5160506de",
   "metadata": {},
   "outputs": [],
   "source": [
    "M = R * M_0 * δ"
   ]
  },
  {
   "cell_type": "markdown",
   "id": "a8feb2ce-22db-46f9-b755-8a880ac0199b",
   "metadata": {},
   "source": [
    "Some helper functions that should be familiar from the Stokes demo."
   ]
  },
  {
   "cell_type": "code",
   "execution_count": null,
   "id": "4cdeb750-c840-45b9-b821-181840e683f6",
   "metadata": {},
   "outputs": [],
   "source": [
    "def ε(u):\n",
    "    return sym(grad(u))\n",
    "\n",
    "I = firedrake.Identity(2)"
   ]
  },
  {
   "cell_type": "markdown",
   "id": "08a19706-68be-4b0e-860a-13e9c81b3495",
   "metadata": {},
   "source": [
    "And finally the definition of the variational form from before.\n",
    "I'm wrapping up hte definition of the variational form in a Python function because we're going to solve this same problem more than once.\n",
    "Here I've split the definition of the form itself into two parts, one for the velocities and one for the stresses, that are added together."
   ]
  },
  {
   "cell_type": "code",
   "execution_count": null,
   "id": "0095c836-792e-42af-886f-695763d33980",
   "metadata": {},
   "outputs": [],
   "source": [
    "import irksome\n",
    "from irksome import Dt\n",
    "\n",
    "z = firedrake.Function(Z_1)\n",
    "\n",
    "def variational_form(z, M):\n",
    "    v, σ = firedrake.split(z)\n",
    "    w, τ = firedrake.TestFunctions(z.function_space())\n",
    "    F_v = (ρ * inner(Dt(v), w) + inner(σ, ε(w)) - inner(M, ε(w))) * dx\n",
    "    F_σ = (inner(Dt(σ), τ) - 2 * μ * inner(ε(v), τ) - λ * tr(ε(v)) * tr(τ)) * dx\n",
    "    return F_v + F_σ"
   ]
  },
  {
   "cell_type": "markdown",
   "id": "322a6bf9-5291-4aa5-a15c-8d3d2753ce5d",
   "metadata": {},
   "source": [
    "The rest of the simulation is a standard use of Irksome.\n",
    "The main difference here is the time-dependent source  term.\n",
    "Note that here I have to keep updating the variable `t` so that our source term actually does change in time."
   ]
  },
  {
   "cell_type": "code",
   "execution_count": null,
   "id": "86105fc9-6238-4cb7-a1a6-7f4a1dda5564",
   "metadata": {},
   "outputs": [],
   "source": [
    "dt = Constant(0.01)\n",
    "method = irksome.GaussLegendre(1)\n",
    "solver = irksome.TimeStepper(variational_form(z, M), method, t, dt, z)"
   ]
  },
  {
   "cell_type": "code",
   "execution_count": null,
   "id": "5a51d6e9-1a87-4c1a-8bb8-319b8c3ef18c",
   "metadata": {},
   "outputs": [],
   "source": [
    "import tqdm\n",
    "\n",
    "zs_coarse = [z.copy(deepcopy=True)]\n",
    "final_time = 10.0\n",
    "num_steps = int(final_time / float(dt))\n",
    "for step in tqdm.trange(num_steps):\n",
    "    solver.advance()\n",
    "    t.assign(t + dt)\n",
    "    zs_coarse.append(z.copy(deepcopy=True))"
   ]
  },
  {
   "cell_type": "code",
   "execution_count": null,
   "id": "4daa2df2-d974-4574-be18-7397b3f81b24",
   "metadata": {},
   "outputs": [],
   "source": [
    "v, σ = z.subfunctions"
   ]
  },
  {
   "cell_type": "markdown",
   "id": "52edae55-30d9-4210-af77-075198ee803d",
   "metadata": {},
   "source": [
    "Something at least vaguely sensible is happening (waves are propagating!) but we can obviously see the imprint of the mesh.\n",
    "Can we do better?"
   ]
  },
  {
   "cell_type": "code",
   "execution_count": null,
   "id": "9eb84220-fa61-40b0-ac20-54712d58d71f",
   "metadata": {},
   "outputs": [],
   "source": [
    "%%capture\n",
    "\n",
    "from matplotlib.animation import FuncAnimation\n",
    "from IPython.display import HTML\n",
    "\n",
    "fig, ax = plt.subplots()\n",
    "ax.set_aspect(\"equal\")\n",
    "colors = firedrake.tripcolor(zs_coarse[0].sub(0).sub(1), vmin=-30.0, vmax=30.0, cmap=\"RdBu\", num_sample_points=4, axes=ax)\n",
    "\n",
    "fn_plotter = firedrake.FunctionPlotter(mesh, num_sample_points=4)\n",
    "def animate(z):\n",
    "    colors.set_array(fn_plotter(z.sub(0).sub(1)))\n",
    "\n",
    "animation = FuncAnimation(fig, animate, zs_coarse[::2], interval=1e3/30)"
   ]
  },
  {
   "cell_type": "code",
   "execution_count": null,
   "id": "267654c6-8ac0-4263-b62c-7d668814d2ae",
   "metadata": {},
   "outputs": [],
   "source": [
    "HTML(animation.to_html5_video())"
   ]
  },
  {
   "cell_type": "markdown",
   "id": "ca5d3f0c-eac9-4191-ba35-4689f1a0c70a",
   "metadata": {},
   "source": [
    "### Simulation, again\n",
    "\n",
    "The first thing we might try is running the simulation again, but using higher-order elements.\n",
    "Here the advantage of wrapping up the creation of the variational form into a function that we can reuse becomes really clear."
   ]
  },
  {
   "cell_type": "code",
   "execution_count": null,
   "id": "2a16b1da-ef30-4d5d-8050-4e6390131e40",
   "metadata": {},
   "outputs": [],
   "source": [
    "cg_2 = firedrake.FiniteElement(\"CG\", \"triangle\", 2)\n",
    "dg_1 = firedrake.FiniteElement(\"DG\", \"triangle\", 1)\n",
    "\n",
    "V_2 = firedrake.VectorFunctionSpace(mesh, cg_2)\n",
    "Σ_1 = firedrake.TensorFunctionSpace(mesh, dg_1, symmetry=True)\n",
    "\n",
    "Z_2 = V_2 * Σ_1\n",
    "\n",
    "z = firedrake.Function(Z_2)\n",
    "\n",
    "t.assign(0.0)\n",
    "solver = irksome.TimeStepper(variational_form(z, M), method, t, dt, z)"
   ]
  },
  {
   "cell_type": "code",
   "execution_count": null,
   "id": "86374cff-f174-4f4b-9bb6-b5b3d5c2c5a2",
   "metadata": {},
   "outputs": [],
   "source": [
    "zs_fine = [z.copy(deepcopy=True)]\n",
    "for step in tqdm.trange(num_steps):\n",
    "    solver.advance()\n",
    "    t.assign(t + dt)\n",
    "    zs_fine.append(z.copy(deepcopy=True))"
   ]
  },
  {
   "cell_type": "markdown",
   "id": "8058acbd-f3bd-48d8-8e7c-e980dcf26425",
   "metadata": {},
   "source": [
    "Much nicer looking this time around.\n",
    "Can we do even better?"
   ]
  },
  {
   "cell_type": "code",
   "execution_count": null,
   "id": "020fcbd8-195d-4fc7-82e4-8035d789ade3",
   "metadata": {},
   "outputs": [],
   "source": [
    "%%capture\n",
    "\n",
    "from matplotlib.animation import FuncAnimation\n",
    "from IPython.display import HTML\n",
    "\n",
    "fig, ax = plt.subplots()\n",
    "ax.set_aspect(\"equal\")\n",
    "colors = firedrake.tripcolor(zs_fine[0].sub(0).sub(1), vmin=-30.0, vmax=30.0, cmap=\"RdBu\", num_sample_points=4, axes=ax)\n",
    "\n",
    "fn_plotter = firedrake.FunctionPlotter(mesh, num_sample_points=4)\n",
    "def animate(z):\n",
    "    colors.set_array(fn_plotter(z.sub(0).sub(1)))\n",
    "\n",
    "animation = FuncAnimation(fig, animate, zs_fine[::2], interval=1e3/30)"
   ]
  },
  {
   "cell_type": "code",
   "execution_count": null,
   "id": "522ee314-0307-4b36-97b7-f29b988cd5bd",
   "metadata": {},
   "outputs": [],
   "source": [
    "HTML(animation.to_html5_video())"
   ]
  },
  {
   "cell_type": "markdown",
   "id": "cc7f2b61-acde-4a0e-9b42-80561baed4c7",
   "metadata": {},
   "source": [
    "### Error estimation\n",
    "\n",
    "The key idea behind a posteriori error estimation is **using the discrepancy between lower- and higher-order solutions**.\n",
    "Where they differ most tells you something important.\n",
    "The code below creates a variable `discrepancy` which takes constant values in every triangle.\n",
    "The loop goes through the coarse and fine solutions at every timestep, computes their RMS difference, and adds it to the total time-integrated discrepancy.\n",
    "We're only using this discrepancy field to decide how we'll refine our mesh, so we don't need to normalize it."
   ]
  },
  {
   "cell_type": "code",
   "execution_count": null,
   "id": "867fead2-7877-434a-873d-cbce41081c8e",
   "metadata": {},
   "outputs": [],
   "source": [
    "discrepancy = firedrake.Function(Q)\n",
    "for z_coarse, z_fine in zip(zs_coarse, zs_fine):\n",
    "    v_c, v_f = z_coarse.sub(0), z_fine.sub(0)\n",
    "    δv = v_f - v_c\n",
    "    discrepancy.project(discrepancy + firedrake.sqrt(inner(δv, δv)))"
   ]
  },
  {
   "cell_type": "code",
   "execution_count": null,
   "id": "beabe412-d3ee-45a3-8a96-e8cddf42e4cb",
   "metadata": {},
   "outputs": [],
   "source": [
    "fig, ax = plt.subplots()\n",
    "ax.set_aspect(\"equal\")\n",
    "colors = firedrake.tripcolor(discrepancy, axes=ax);\n",
    "#fig.colorbar(colors);"
   ]
  },
  {
   "cell_type": "markdown",
   "id": "93055534-71ed-460e-8ab3-7df6eae897b5",
   "metadata": {},
   "source": [
    "I'm showing you only one way particularly blunt way to estimate the error, but you should know that there are loads more.\n",
    "For example, we could be looking at discrepancies between the stresses instead of the velocities; we could be using a different norm; and there are even error estimation strategies that don't require two different discretizations."
   ]
  },
  {
   "cell_type": "markdown",
   "id": "a892ba62-0265-4332-a11a-de4ca058420d",
   "metadata": {},
   "source": [
    "### Mesh refinement\n",
    "\n",
    "So we've made some field that tells us about the total error.\n",
    "How should we use this information?\n",
    "First, we'll want to compute the area of every triangle of the mesh.\n",
    "When we go to refine the mesh, we'll modify this `areas` field in place to define our desired triangle areas."
   ]
  },
  {
   "cell_type": "code",
   "execution_count": null,
   "id": "64c4888b-c6b6-4d3c-a2e3-a0bef695c340",
   "metadata": {},
   "outputs": [],
   "source": [
    "areas = firedrake.project(firedrake.CellVolume(mesh), Q)\n",
    "print(f\"Min/max triangle area: {areas.dat.data_ro.min()/1e6:.1f}, {areas.dat.data_ro.max()/1e6:.1f} km²\")"
   ]
  },
  {
   "cell_type": "markdown",
   "id": "d79e5ed6-5487-444f-9783-3bda97bf3e88",
   "metadata": {},
   "source": [
    "Next, I'm extracting the raw data out of the `discrepancy` field and using the numpy function `argsort` to return a permutation that sorts it.\n",
    "If I then take the tail of this `order` array, it tells me the indices of all the triangles that have the largest discrepancies.\n",
    "Finally, I'm modifying the `areas` array in place along those most offending indices to reduce their value by 4."
   ]
  },
  {
   "cell_type": "code",
   "execution_count": null,
   "id": "a3ab30ae-fcae-49b9-a475-ce70601974b6",
   "metadata": {},
   "outputs": [],
   "source": [
    "order = np.argsort(discrepancy.dat.data_ro)\n",
    "num_triangles = mesh.num_cells()\n",
    "indices = order[-num_triangles // 4:]\n",
    "areas.dat.data[indices] /= 4.0"
   ]
  },
  {
   "cell_type": "markdown",
   "id": "7055fe3b-0db5-42ba-9c08-865c4fd206d4",
   "metadata": {},
   "source": [
    "Now we go back to our mesh generator.\n",
    "First, we tell the mesh that we want to allocate space for an array of desired triangle areas.\n",
    "We can then fill in the array of desired element volumes with the values that we just calculated above."
   ]
  },
  {
   "cell_type": "code",
   "execution_count": null,
   "id": "9c8c2edd-b068-4af0-88c1-675c11ea10c4",
   "metadata": {},
   "outputs": [],
   "source": [
    "triangle_mesh.element_volumes.setup()\n",
    "for index in range(num_triangles):\n",
    "    triangle_mesh.element_volumes[index] = areas.dat.data_ro[index]"
   ]
  },
  {
   "cell_type": "markdown",
   "id": "9c950601-a8c0-40ea-a450-41caadd146a0",
   "metadata": {},
   "source": [
    "Now we'll call out to the mesh generator and ask it to refine the triangle mesh."
   ]
  },
  {
   "cell_type": "code",
   "execution_count": null,
   "id": "5433c199-0c17-4072-96c5-0fbce7b0f80a",
   "metadata": {},
   "outputs": [],
   "source": [
    "refined_triangle_mesh = meshpy.triangle.refine(triangle_mesh)"
   ]
  },
  {
   "cell_type": "markdown",
   "id": "d9673c87-a840-4606-9825-6e8beba67b64",
   "metadata": {},
   "source": [
    "We can see from the plot below that we get much more density in some regions in space."
   ]
  },
  {
   "cell_type": "code",
   "execution_count": null,
   "id": "e977381f-9530-4faf-84ca-630118af8587",
   "metadata": {},
   "outputs": [],
   "source": [
    "fig, ax = plt.subplots()\n",
    "ax.set_aspect(\"equal\")\n",
    "ax.triplot(*np.array(refined_triangle_mesh.points).T, np.array(refined_triangle_mesh.elements));"
   ]
  },
  {
   "cell_type": "markdown",
   "id": "67e4acee-e228-44ce-a882-118f2581721e",
   "metadata": {},
   "source": [
    "And we'll once again transform the data structure from MeshPy into a Firedrake mesh."
   ]
  },
  {
   "cell_type": "code",
   "execution_count": null,
   "id": "edfcf468-6d80-4652-81d8-12b46979bf1e",
   "metadata": {},
   "outputs": [],
   "source": [
    "refined_mesh = triangle_to_firedrake(refined_triangle_mesh)"
   ]
  },
  {
   "cell_type": "markdown",
   "id": "8c0aa398-1765-48f4-b141-fe68585f6e3e",
   "metadata": {},
   "source": [
    "Now that we're working on a new, refined mesh, we have to recreate the source function to be defined on it."
   ]
  },
  {
   "cell_type": "code",
   "execution_count": null,
   "id": "175925d0-251a-40db-a17e-0cd4801e1901",
   "metadata": {},
   "outputs": [],
   "source": [
    "x = firedrake.SpatialCoordinate(refined_mesh)\n",
    "depth = 30e3\n",
    "x_s = Constant((lx / 2, ly - depth))\n",
    "σ = Constant(5e3)\n",
    "expr = firedrake.exp(-inner(x - x_s, x - x_s) / (2 * σ**2))\n",
    "norm = firedrake.assemble(expr * dx)\n",
    "δ = expr / norm"
   ]
  },
  {
   "cell_type": "markdown",
   "id": "144b97ad-0efd-489e-9543-1e291f9bf619",
   "metadata": {},
   "source": [
    "We have to remember to re-set the time variable back to 0."
   ]
  },
  {
   "cell_type": "code",
   "execution_count": null,
   "id": "e66259d9-1c7c-43cc-801e-44c283d80bbe",
   "metadata": {},
   "outputs": [],
   "source": [
    "t.assign(0.0)\n",
    "M = R * M_0 * δ"
   ]
  },
  {
   "cell_type": "markdown",
   "id": "043c3432-3632-4842-8953-59593450a8eb",
   "metadata": {},
   "source": [
    "Now we'll run the simulation again at two different discretizations.\n"
   ]
  },
  {
   "cell_type": "code",
   "execution_count": null,
   "id": "018f2b31-332c-46b4-be0a-90ea59fa26cb",
   "metadata": {},
   "outputs": [],
   "source": [
    "V_1 = firedrake.VectorFunctionSpace(refined_mesh, cg_1)\n",
    "Σ_0 = firedrake.TensorFunctionSpace(refined_mesh, dg_0, symmetry=True)\n",
    "Z_1 = V_1 * Σ_0\n",
    "\n",
    "z_1 = firedrake.Function(Z_1)\n",
    "\n",
    "V_2 = firedrake.VectorFunctionSpace(refined_mesh, cg_2)\n",
    "Σ_1 = firedrake.TensorFunctionSpace(refined_mesh, dg_1, symmetry=True)\n",
    "Z_2 = V_2 * Σ_1\n",
    "\n",
    "z_2 = firedrake.Function(Z_2)"
   ]
  },
  {
   "cell_type": "code",
   "execution_count": null,
   "id": "ce4e8b1d-a8b4-4ba1-b698-6d7565483b6d",
   "metadata": {},
   "outputs": [],
   "source": [
    "solver_1 = irksome.TimeStepper(variational_form(z_1, M), method, t, dt, z_1)\n",
    "solver_2 = irksome.TimeStepper(variational_form(z_2, M), method, t, dt, z_2)"
   ]
  },
  {
   "cell_type": "code",
   "execution_count": null,
   "id": "255e79bb-9ade-4bd6-b820-8197885c1287",
   "metadata": {},
   "outputs": [],
   "source": [
    "zs_1 = [z_1.copy(deepcopy=True)]\n",
    "zs_2 = [z_2.copy(deepcopy=True)]\n",
    "\n",
    "for step in tqdm.trange(num_steps):\n",
    "    solver_1.advance()\n",
    "    solver_2.advance()\n",
    "    t.assign(t + dt)\n",
    "    zs_1.append(z_1.copy(deepcopy=True))\n",
    "    zs_2.append(z_2.copy(deepcopy=True))"
   ]
  },
  {
   "cell_type": "code",
   "execution_count": null,
   "id": "ab5f2618-d458-4b23-b163-7822f9790eed",
   "metadata": {},
   "outputs": [],
   "source": [
    "%%capture\n",
    "\n",
    "from matplotlib.animation import FuncAnimation\n",
    "from IPython.display import HTML\n",
    "\n",
    "fig, ax = plt.subplots()\n",
    "ax.set_aspect(\"equal\")\n",
    "colors = firedrake.tripcolor(zs_2[0].sub(0).sub(1), vmin=-30.0, vmax=30.0, cmap=\"RdBu\", num_sample_points=4, axes=ax)\n",
    "\n",
    "fn_plotter = firedrake.FunctionPlotter(refined_mesh, num_sample_points=4)\n",
    "def animate(z):\n",
    "    colors.set_array(fn_plotter(z.sub(0).sub(1)))\n",
    "\n",
    "animation = FuncAnimation(fig, animate, zs_2[::2], interval=1e3/30)"
   ]
  },
  {
   "cell_type": "code",
   "execution_count": null,
   "id": "b111bbec-93c4-40cd-a7fb-c3df19687dac",
   "metadata": {},
   "outputs": [],
   "source": [
    "HTML(animation.to_html5_video())"
   ]
  },
  {
   "cell_type": "markdown",
   "id": "9918fb90-e889-4d93-b773-74823650b9e3",
   "metadata": {},
   "source": [
    "### What now\n",
    "\n",
    "* Use an actually sensible seismic source instead of whatever I made up.\n",
    "* Change the S- and P-wave speeds in parts of the domain to be something more realistic, see [this](https://opentextbc.ca/physicalgeology2ed/chapter/9-1-understanding-earth-through-seismology/) for example.\n",
    "* On that note, you could also use a standard test case like the Marmousi velocity model.\n",
    "* Make the elasticity tensor anisotropic.\n",
    "* Use a larger spatial domain where the curvature of the earth can't be ignored.\n",
    "* Try this in 3D. MeshPy has an interface to TetGen.\n",
    "* Viscoelasticity -- change the constitutive relation to $\\dot\\sigma + t_m^{-1}\\sigma = \\mathscr{C}\\varepsilon$.\n",
    "* Try different ways of estimating the error; try changing the triangle distribution in the middle of the simulation and reprojecting."
   ]
  }
 ],
 "metadata": {
  "kernelspec": {
   "display_name": "firedrake",
   "language": "python",
   "name": "firedrake"
  },
  "language_info": {
   "codemirror_mode": {
    "name": "ipython",
    "version": 3
   },
   "file_extension": ".py",
   "mimetype": "text/x-python",
   "name": "python",
   "nbconvert_exporter": "python",
   "pygments_lexer": "ipython3",
   "version": "3.11.5"
  }
 },
 "nbformat": 4,
 "nbformat_minor": 5
}

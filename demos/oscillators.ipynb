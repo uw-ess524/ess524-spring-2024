{
 "cells": [
  {
   "cell_type": "code",
   "execution_count": null,
   "id": "f7fc4e2d-ea8f-4eb6-ba5a-48d975652d20",
   "metadata": {},
   "outputs": [],
   "source": [
    "import numpy as np\n",
    "from numpy import pi as π\n",
    "import scipy\n",
    "import matplotlib.pyplot as plt\n",
    "from matplotlib.animation import FuncAnimation\n",
    "from IPython.display import HTML\n",
    "import tqdm"
   ]
  },
  {
   "cell_type": "markdown",
   "id": "8e91b3a7-3d8d-4b05-91c8-e54f67d915d0",
   "metadata": {},
   "source": [
    "## Coupled oscillators\n",
    "\n",
    "**Why are we doing this:** This notebook will look at systems of many coupled harmonic oscillators, which, in the limit of infinitely many oscillators, gives us the shallow water or seismic wave equations.\n",
    "We can work out the hard parts of discretizing wave-type equations in time using this example.\n",
    "\n",
    "Here we'll in more detail at coupled systems of harmonic oscillators.\n",
    "In the previous notebook, we looked at how to simulate a system of four oscillators in a linear chain.\n",
    "This demo will look at what happens when we look at larger systems.\n",
    "The displacement $q$ obeys the 2nd-order ODE\n",
    "$$\\ddot q + D\\;\\text{diag}(\\omega)^2\\;D^*\\,q = 0$$\n",
    "where $D$ is the incidence matrix and $\\omega$ is the vector of fundamental frequencies.\n",
    "Recall that the incidence matrix has shape `(num_weights, num_springs)`.\n",
    "If spring $k$ connects weights $i_1$ and $i_2$, then $D_{i_1,k} = +1$ and $D_{i_2,k} = -1$.\n",
    "We get a different matrix if we flip $i_1$ and $i_2$, but this doesn't matter for the end result.\n",
    "\n",
    "Fill in the body of the routine below to compute the incidence matrix.\n",
    "The input `springs` is a numpy array of shape `(num_springs, 2)`, with each row corresponding to one spring.\n",
    "The total number of weights can be found by computing the maximum value of `springs` and adding 1 (remember that Python is 0-indexed)."
   ]
  },
  {
   "cell_type": "code",
   "execution_count": null,
   "id": "a4fcf25e-174f-4f60-b6e8-169fe7a717ad",
   "metadata": {},
   "outputs": [],
   "source": [
    "def make_incidence_matrix(springs):\n",
    "    ..."
   ]
  },
  {
   "cell_type": "markdown",
   "id": "4bcce997-1a2e-4917-850f-940e180ed07a",
   "metadata": {},
   "source": [
    "The code below will make the incidence matrix for a linear chain of 24 weights connected by springs."
   ]
  },
  {
   "cell_type": "code",
   "execution_count": null,
   "id": "6a596e7e-2e11-45d1-b910-41678dd50825",
   "metadata": {},
   "outputs": [],
   "source": [
    "num_weights = 24\n",
    "springs = np.array([(i, i + 1) for i in range(num_weights - 1)])\n",
    "num_springs = springs.shape[0]\n",
    "D = make_incidence_matrix(springs)"
   ]
  },
  {
   "cell_type": "markdown",
   "id": "f640ff1a-fcc5-4c13-ae0a-b0175572885e",
   "metadata": {},
   "source": [
    "You can use an `assert` call when you want to check that something is true."
   ]
  },
  {
   "cell_type": "code",
   "execution_count": null,
   "id": "046af71f-6fda-4a3c-bbf4-8228fde46478",
   "metadata": {},
   "outputs": [],
   "source": [
    "assert D.shape[0] == num_weights\n",
    "assert np.sum(np.abs(np.ones(num_weights) @ D)) == 0"
   ]
  },
  {
   "cell_type": "markdown",
   "id": "9db67ee1-546d-4748-93ec-a870cb9331d4",
   "metadata": {},
   "source": [
    "Before, we reduced the oscillator system to first order by introducing a new variable $v = \\dot q$.\n",
    "There's more than one way that we could do this however.\n",
    "For example, if we instead take\n",
    "$$\\dot q = D\\,\\text{diag}(\\omega) v,$$\n",
    "then we can rewrite the system as\n",
    "$$\\left[\\begin{matrix}\\dot q \\\\ \\dot v\\end{matrix}\\right] + \\left[\\begin{matrix}0 & -D\\,\\text{diag}(\\omega) \\\\ \\text{diag}(\\omega)\\,D^* & 0\\end{matrix}\\right]\\left[\\begin{matrix} q \\\\ v\\end{matrix}\\right] = 0.$$\n",
    "(Check that this is equivalent to the 2nd-order problem I wrote above if you're not sure.)\n",
    "Write some code below to compute the matrix for this system and store it in a variable `A`.\n",
    "You'll need to use `np.block`.\n",
    "Also, I've write $0$ twice to denote matrices whose entries are all zero.\n",
    "This is a little bit of an abuse of notation because each of those zeros has a different number of rows and columns.\n",
    "So you'll need to make two different size zero matrices.\n",
    "It's worth working out ahead of time what the sizes of all the block matrices are.\n",
    "Remember that the shape of $D$ is `(num_weights, num_springs)` and that you might have different numbers of weights and springs."
   ]
  },
  {
   "cell_type": "code",
   "execution_count": null,
   "id": "ea34429d-89f4-4275-ac97-1ea7cfa78265",
   "metadata": {},
   "outputs": [],
   "source": [
    "A = ..."
   ]
  },
  {
   "cell_type": "markdown",
   "id": "c56e9901-3b72-4ca2-baf5-79d01acac9bd",
   "metadata": {},
   "source": [
    "Make some initial displacement of the weights in a vector `q` and an initial \"velocity\" in a vector `v`.\n",
    "You can make the initial velocity all 0s to start.\n",
    "Then use np.concatenate to stack them into one vector `z`."
   ]
  },
  {
   "cell_type": "code",
   "execution_count": null,
   "id": "7517b4fa-df62-4964-afe5-5bfc70aed59c",
   "metadata": {},
   "outputs": [],
   "source": [
    "q = ...\n",
    "v = ...\n",
    "z = ..."
   ]
  },
  {
   "cell_type": "markdown",
   "id": "d64f6f9e-7706-4b78-a207-095edfbfc425",
   "metadata": {},
   "source": [
    "Let's examine the eigenvalues and eigenvectors of `A`."
   ]
  },
  {
   "cell_type": "code",
   "execution_count": null,
   "id": "22b62fb8-fdfd-4b27-98ac-ad5883cf6132",
   "metadata": {},
   "outputs": [],
   "source": [
    "λ, Q = scipy.linalg.eig(A)"
   ]
  },
  {
   "cell_type": "markdown",
   "id": "8feddf00-6fb1-44c8-95f6-9657d61882f2",
   "metadata": {},
   "source": [
    "Print out the imaginary parts of the eigenvalues of $A$.\n",
    "Notice anything about them?"
   ]
  },
  {
   "cell_type": "code",
   "execution_count": null,
   "id": "f2ddb0cb-6f62-4e51-bc58-fa2fa25a43ad",
   "metadata": {},
   "outputs": [],
   "source": []
  },
  {
   "cell_type": "markdown",
   "id": "1695ac83-c583-4f35-bc4f-be61abd5d879",
   "metadata": {},
   "source": [
    "Now print out the sum of the absolute values of the real parts of the eigenvalues.\n",
    "Does the result make sense?"
   ]
  },
  {
   "cell_type": "code",
   "execution_count": null,
   "id": "8fa4f982-9fcf-4451-9b31-67e98f91d567",
   "metadata": {},
   "outputs": [],
   "source": []
  },
  {
   "cell_type": "markdown",
   "id": "4f4cbd4c-be6e-4b84-8d0e-5b9b87e66de4",
   "metadata": {},
   "source": [
    "Now write the simulation loop.\n",
    "This should be similar to your solution for the random walk notebook.\n",
    "Use a final time of $8\\pi$ and 256 timesteps.\n",
    "Compute the propagator matrix $G = \\exp(-dt\\cdot A)$, make an array `zs` to hold the solution values at all the desired time intervals, and write a loop to fill this array.\n",
    "Use the same order as in the random walk notebook, i.e. the time index comes first."
   ]
  },
  {
   "cell_type": "code",
   "execution_count": null,
   "id": "d49778dd-f979-4049-8a54-caf8fcde6cf4",
   "metadata": {},
   "outputs": [],
   "source": [
    "zs = ...\n",
    "# Your code here"
   ]
  },
  {
   "cell_type": "markdown",
   "id": "519130cd-04c4-4099-9c12-2f3c0877b530",
   "metadata": {},
   "source": [
    "If you did everything right, this should show you a pretty movie."
   ]
  },
  {
   "cell_type": "code",
   "execution_count": null,
   "id": "5c28bdff-3cec-41c0-bd36-41a53942493c",
   "metadata": {},
   "outputs": [],
   "source": [
    "%%capture\n",
    "fig, ax = plt.subplots()\n",
    "x = np.array(list(range(num_weights)))\n",
    "qs = zs[:, :num_weights]\n",
    "ax.set_ylim((qs.min(), qs.max()))\n",
    "points = ax.scatter(x, qs[0])\n",
    "def animate(q):\n",
    "    points.set_offsets(np.column_stack((x, q)))\n",
    "animation = FuncAnimation(fig, animate, zs[:, :num_weights], interval=1e3/30)"
   ]
  },
  {
   "cell_type": "code",
   "execution_count": null,
   "id": "17309aee-14df-41f4-ab85-0aab33420b13",
   "metadata": {},
   "outputs": [],
   "source": [
    "HTML(animation.to_jshtml())"
   ]
  },
  {
   "cell_type": "markdown",
   "id": "faa7df5f-ef1d-4013-9431-ca30056c9eb4",
   "metadata": {},
   "source": [
    "The code below will plot the kinetic, potential, and total energy.\n",
    "If everything worked right, the total energy should be constant."
   ]
  },
  {
   "cell_type": "code",
   "execution_count": null,
   "id": "62747d5a-90fa-4ce4-8786-0a79a90b824c",
   "metadata": {},
   "outputs": [],
   "source": [
    "qs = zs[:, :num_weights]\n",
    "vs = zs[:, num_weights:]\n",
    "\n",
    "kinetic_energies = np.array([0.5 * np.inner(v, v) for v in vs])\n",
    "potential_energies = np.array([0.5 * np.inner(q, q) for q in qs])"
   ]
  },
  {
   "cell_type": "code",
   "execution_count": null,
   "id": "2b785047-ccff-410a-b4ca-2c968233d3a6",
   "metadata": {},
   "outputs": [],
   "source": [
    "fig, ax = plt.subplots()\n",
    "ax.plot(kinetic_energies, label=\"kinetic\")\n",
    "ax.plot(potential_energies, label=\"potential\")\n",
    "ax.plot(kinetic_energies + potential_energies, label=\"total\")\n",
    "ax.legend();"
   ]
  }
 ],
 "metadata": {
  "kernelspec": {
   "display_name": "Python 3 (ipykernel)",
   "language": "python",
   "name": "python3"
  },
  "language_info": {
   "codemirror_mode": {
    "name": "ipython",
    "version": 3
   },
   "file_extension": ".py",
   "mimetype": "text/x-python",
   "name": "python",
   "nbconvert_exporter": "python",
   "pygments_lexer": "ipython3",
   "version": "3.11.5"
  }
 },
 "nbformat": 4,
 "nbformat_minor": 5
}

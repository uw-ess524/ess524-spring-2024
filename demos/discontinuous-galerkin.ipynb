{
 "cells": [
  {
   "cell_type": "markdown",
   "id": "19bbe20b-5225-44af-93e2-6709195d1c84",
   "metadata": {},
   "source": [
    "### The domain\n",
    "\n",
    "First, we'll create our computational domain -- a regular mesh of the unit square with quadrilateral elements."
   ]
  },
  {
   "cell_type": "code",
   "execution_count": null,
   "id": "13dee5fb-6cae-4d5e-83b6-a8c3bbf4b1f7",
   "metadata": {},
   "outputs": [],
   "source": [
    "import firedrake\n",
    "from firedrake import Constant, inner, grad, dot, dx, ds\n",
    "import numpy as np\n",
    "import matplotlib.pyplot as plt\n",
    "\n",
    "nx, nz = 32, 32\n",
    "computational_domain = firedrake.UnitSquareMesh(nx, nz, quadrilateral=True)"
   ]
  },
  {
   "cell_type": "markdown",
   "id": "c1828d78-aa2c-4d98-9a63-344afed45a81",
   "metadata": {},
   "source": [
    "Our physical domain will be obtained by warping the coordinates, like we saw in the thermochronometry notebook.\n",
    "Here I've wrapped up some of the functions to create the bed topography because we'll have to do so more than once."
   ]
  },
  {
   "cell_type": "code",
   "execution_count": null,
   "id": "3dd6ae3f-c8ce-4df9-a568-ba4f4599f866",
   "metadata": {},
   "outputs": [],
   "source": [
    "δb = Constant(1 / 4)\n",
    "α = Constant(1 / 8)\n",
    "ξ_0 = Constant(1 / 2)\n",
    "\n",
    "def sech(z):\n",
    "    return 2 / (firedrake.exp(z) + firedrake.exp(-z))\n",
    "\n",
    "def bed_topography(ξ):\n",
    "    return δb * sech((ξ - ξ_0) / α)"
   ]
  },
  {
   "cell_type": "code",
   "execution_count": null,
   "id": "09ded1e4-b824-4b0b-bd03-2c9c745b081d",
   "metadata": {},
   "outputs": [],
   "source": [
    "ξ = firedrake.SpatialCoordinate(computational_domain)\n",
    "bed_expr = bed_topography(ξ[0])\n",
    "surf_expr = Constant(1.0)\n",
    "expr = firedrake.as_vector((ξ[0], (1 - ξ[1]) * bed_expr + ξ[1] * surf_expr))\n",
    "\n",
    "Vc = computational_domain.coordinates.function_space()\n",
    "X = firedrake.Function(Vc)\n",
    "X.interpolate(expr)\n",
    "domain = firedrake.Mesh(X, reorder=False)"
   ]
  },
  {
   "cell_type": "markdown",
   "id": "996545f3-5e48-48ec-85c5-1904e71b5d28",
   "metadata": {},
   "source": [
    "### Initial solution\n",
    "\n",
    "Let's try solving this using continuous Galerkin basis functions like we've done before."
   ]
  },
  {
   "cell_type": "code",
   "execution_count": null,
   "id": "e13fb08c-2e80-40f4-ba63-d6c10ef2b407",
   "metadata": {},
   "outputs": [],
   "source": [
    "cg1 = firedrake.FiniteElement(\"CG\", \"quadrilateral\", 1)\n",
    "Q_cg = firedrake.FunctionSpace(domain, cg1)"
   ]
  },
  {
   "cell_type": "code",
   "execution_count": null,
   "id": "30e7e038-891a-457b-abab-aa5189b3de12",
   "metadata": {},
   "outputs": [],
   "source": [
    "x = firedrake.SpatialCoordinate(domain)\n",
    "\n",
    "expr = (x[0] * (1 - x[0]) * (1 - x[1]) * (x[1] - bed_topography(x[0]))) ** 2\n",
    "Ψ = firedrake.Function(Q_cg).interpolate(expr)"
   ]
  },
  {
   "cell_type": "code",
   "execution_count": null,
   "id": "add7b26b-2a3a-48f9-b33e-0c2f1f86b48d",
   "metadata": {},
   "outputs": [],
   "source": [
    "fig, ax = plt.subplots()\n",
    "colors = firedrake.tripcolor(Ψ, axes=ax)\n",
    "fig.colorbar(colors);"
   ]
  },
  {
   "cell_type": "code",
   "execution_count": null,
   "id": "a1f64fbd-9d28-4bcb-b775-febfe0515ba6",
   "metadata": {},
   "outputs": [],
   "source": [
    "grad_Ψ = firedrake.grad(expr)\n",
    "V = firedrake.VectorFunctionSpace(domain, cg1)\n",
    "u_expr = firedrake.as_vector((-grad_Ψ[1], grad_Ψ[0]))\n",
    "u = firedrake.Function(V).interpolate(u_expr)"
   ]
  },
  {
   "cell_type": "code",
   "execution_count": null,
   "id": "e1e0e9dc-48cf-42b8-bf55-effb61f292ff",
   "metadata": {},
   "outputs": [],
   "source": [
    "fig, ax = plt.subplots()\n",
    "ax.set_aspect(\"equal\")\n",
    "colors = firedrake.quiver(u, axes=ax)\n",
    "fig.colorbar(colors);"
   ]
  },
  {
   "cell_type": "code",
   "execution_count": null,
   "id": "00cbc348-af89-4169-9980-4fdc624eb576",
   "metadata": {},
   "outputs": [],
   "source": [
    "import irksome\n",
    "from irksome import Dt\n",
    "import tqdm"
   ]
  },
  {
   "cell_type": "code",
   "execution_count": null,
   "id": "f85b4070-f2bc-4142-963f-435d8a72f8f1",
   "metadata": {},
   "outputs": [],
   "source": [
    "x_0 = firedrake.Constant((0.25, 0.55))\n",
    "r = firedrake.Constant(0.25)\n",
    "q_expr = firedrake.exp(-inner(x - x_0, x - x_0) / r**2)\n",
    "\n",
    "q = firedrake.Function(Q_cg)\n",
    "q.interpolate(q_expr);"
   ]
  },
  {
   "cell_type": "code",
   "execution_count": null,
   "id": "48759c41-2f2f-4af1-9b1e-096b9713b060",
   "metadata": {},
   "outputs": [],
   "source": [
    "max_speed = np.abs(u.dat.data_ro).flatten().max()\n",
    "domain_size = 1.0\n",
    "final_time = 2 * domain_size / max_speed\n",
    "min_cell_size = domain.cell_sizes.dat.data_ro.min()\n",
    "timestep = min_cell_size / max_speed / 8\n",
    "num_steps = int(final_time / timestep)\n",
    "\n",
    "print(f\"Final time: {final_time:.2f}\")\n",
    "print(f\"Timestep:   {timestep:.2f}\")"
   ]
  },
  {
   "cell_type": "markdown",
   "id": "47e48b6b-e72e-456b-b09a-dc0ddf7202d8",
   "metadata": {},
   "source": [
    "Once again, I'm wrapping up the important stuff in a function that I can reuse.\n",
    "The `degree=4` bit at the end of the form is to use a lower-order quadrature rule; without this, Firedrake will try to estimate the quadrature degree and will pick something ridiculous."
   ]
  },
  {
   "cell_type": "code",
   "execution_count": null,
   "id": "5ba87a68-029c-46c0-9a07-e9202dcb6058",
   "metadata": {},
   "outputs": [],
   "source": [
    "t = Constant(0.0)\n",
    "dt = Constant(timestep)\n",
    "\n",
    "ϕ = firedrake.TestFunction(Q_cg)\n",
    "F = (Dt(q) * ϕ - q * inner(u, grad(ϕ))) * dx\n",
    "method = irksome.BackwardEuler()\n",
    "solver = irksome.TimeStepper(F, method, t, dt, q)\n",
    "\n",
    "qs_cg = [q.copy(deepcopy=True)]\n",
    "for step in tqdm.trange(num_steps):\n",
    "    solver.advance()\n",
    "    qs_cg.append(q.copy(deepcopy=True))"
   ]
  },
  {
   "cell_type": "markdown",
   "id": "0a2dbec8-6dfc-4170-9c27-71355f2ec77e",
   "metadata": {},
   "source": [
    "That does not look good.\n",
    "It doesn't get much better with finer resolution either."
   ]
  },
  {
   "cell_type": "code",
   "execution_count": null,
   "id": "64583dc9-3a9b-46ac-8a7a-a470eb68ecab",
   "metadata": {},
   "outputs": [],
   "source": [
    "fig, ax = plt.subplots()\n",
    "ax.set_aspect(\"equal\")\n",
    "colors = firedrake.tripcolor(qs_cg[-1], axes=ax)\n",
    "fig.colorbar(colors);"
   ]
  },
  {
   "cell_type": "markdown",
   "id": "f482e7e4-8824-47c7-87be-e0b3b854941f",
   "metadata": {},
   "source": [
    "### Discontinuous Galerkin\n",
    "\n",
    "Now let's try another basis.\n",
    "The variational form becomes\n",
    "$$\\int_\\Omega\\left(\\partial_tq\\cdot\\phi - qu\\cdot\\nabla\\phi\\right)dx + \\sum_\\Gamma\\int_\\Gamma(f_+\\cdot - f_-)(\\phi_+ - \\phi_-)d\\gamma = 0$$"
   ]
  },
  {
   "cell_type": "code",
   "execution_count": null,
   "id": "466cd082-904f-4e0a-b791-345dbc819923",
   "metadata": {},
   "outputs": [],
   "source": [
    "from firedrake import dS\n",
    "\n",
    "dg = firedrake.FiniteElement(\"DQ\", \"quadrilateral\", 0)\n",
    "Q_dg = firedrake.FunctionSpace(domain, dg)\n",
    "\n",
    "q = firedrake.Function(Q_dg).project(q_expr)\n",
    "\n",
    "ϕ = firedrake.TestFunction(Q_dg)\n",
    "\n",
    "ν = firedrake.FacetNormal(domain)\n",
    "u_ν = firedrake.max_value(0, inner(u, ν))\n",
    "f = q * u_ν\n",
    "\n",
    "F = (Dt(q) * ϕ - q * inner(u, grad(ϕ))) * dx + (f(\"+\") - f(\"-\")) * (ϕ(\"+\") - ϕ(\"-\")) * dS\n",
    "method = irksome.BackwardEuler()\n",
    "solver = irksome.TimeStepper(F, method, t, dt, q)\n",
    "\n",
    "qs_dg = [q.copy(deepcopy=True)]\n",
    "for step in tqdm.trange(num_steps):\n",
    "    solver.advance()\n",
    "    qs_dg.append(q.copy(deepcopy=True))"
   ]
  },
  {
   "cell_type": "code",
   "execution_count": null,
   "id": "3d0439d9-7a2b-4b42-92d9-30da91240256",
   "metadata": {},
   "outputs": [],
   "source": [
    "fig, ax = plt.subplots()\n",
    "ax.set_aspect(\"equal\")\n",
    "colors = firedrake.tripcolor(qs_dg[-1], axes=ax)\n",
    "fig.colorbar(colors);"
   ]
  },
  {
   "cell_type": "code",
   "execution_count": null,
   "id": "31b641cf-23c3-4648-a84a-3227d2b14af1",
   "metadata": {},
   "outputs": [],
   "source": [
    "%%capture\n",
    "\n",
    "from matplotlib.animation import FuncAnimation\n",
    "\n",
    "fig, ax = plt.subplots()\n",
    "ax.set_aspect(\"equal\")\n",
    "colors = firedrake.tripcolor(qs_dg[0], vmin=0, vmax=1, num_sample_points=1, axes=ax);\n",
    "fn_plotter = firedrake.FunctionPlotter(domain, num_sample_points=1)\n",
    "\n",
    "def animate(q):\n",
    "    colors.set_array(fn_plotter(q))\n",
    "\n",
    "animation = FuncAnimation(fig, animate, qs_dg, interval=1e3/30)"
   ]
  },
  {
   "cell_type": "code",
   "execution_count": null,
   "id": "2cdb2e06-bfe1-401f-8b00-fa81e92904df",
   "metadata": {},
   "outputs": [],
   "source": [
    "from IPython.display import HTML\n",
    "HTML(animation.to_html5_video())"
   ]
  }
 ],
 "metadata": {
  "kernelspec": {
   "display_name": "firedrake",
   "language": "python",
   "name": "firedrake"
  },
  "language_info": {
   "codemirror_mode": {
    "name": "ipython",
    "version": 3
   },
   "file_extension": ".py",
   "mimetype": "text/x-python",
   "name": "python",
   "nbconvert_exporter": "python",
   "pygments_lexer": "ipython3",
   "version": "3.11.5"
  }
 },
 "nbformat": 4,
 "nbformat_minor": 5
}

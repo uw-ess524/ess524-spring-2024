{
 "cells": [
  {
   "cell_type": "code",
   "execution_count": null,
   "id": "ccd0a76e-bf2f-4fe8-9e5d-04ea71d2ba03",
   "metadata": {},
   "outputs": [],
   "source": [
    "import numpy as np\n",
    "import scipy\n",
    "import sympy\n",
    "import matplotlib.pyplot as plt"
   ]
  },
  {
   "cell_type": "markdown",
   "id": "35b63b20-0356-40da-b137-2cb2a4b1c120",
   "metadata": {},
   "source": [
    "# Some population models in biology\n",
    "\n",
    "Let's look at some more nonlinear ODEs so you can get more practice with them.\n",
    "All of these should be solvable using the approach I showed in the Lorenz notebook.\n",
    "\n",
    "The simplest models look at the population $p$ of a single species, which follows some ODE.\n",
    "Of these, the most elementary is the exponential growth model $\\dot p = \\tau^{-1}p$ for some timescale $\\tau$.\n",
    "Here we'll explore a slightly more complicated model.\n",
    "Then we can look at models for the populations $p$, $q$ of two interacting species, like prey and predators."
   ]
  },
  {
   "cell_type": "markdown",
   "id": "d4dfaf0c-7d94-4d75-ba73-b2117e8908cd",
   "metadata": {},
   "source": [
    "### Growth with carrying capacity\n",
    "\n",
    "Remember early on in the heady days of the pandemic when everyone was discovering what exponential growth was?\n",
    "More realistic population models account for the fact that the environment has some *carrying capacity* of organisms.\n",
    "For example, say we were looking at the growth of cyanobacteria on the surface of a lake, and $p$ represents the number of cells in the water column per unit centimeter squared.\n",
    "Once the population reaches its carrying capacity $p_c$, the population will fall back down.\n",
    "Likewise, if we look at the population of some herbivorous species like rabbits or deer, the environment only supports so much available food.\n",
    "Consequently, we might imagine that the growth rate slows multiplicatively as the population approaches capacity:\n",
    "$$\\dot p = \\tau^{-1}p\\cdot\\left(1 - \\frac{p}{p_c}\\right).$$\n",
    "This is called the **logistic equation**.\n",
    "\n",
    "I found [this paper](https://doi.org/10.1186/s12302-021-00483-1) which showed that some lakes have carrying capacities $p_c$ on the order of 10 mm${}^3$ / L and [this paper](https://doi.org/10.1186/s12934-023-02035-z) which tabulated growth timescales $\\tau$ on the order of 12h for some species at optimal conditions.\n",
    "\n",
    "Write some code in sympy to form the right-hand side of the logistic equation.\n",
    "Make the timescale and carrying capacity arguments symbolic."
   ]
  },
  {
   "cell_type": "code",
   "execution_count": null,
   "id": "dd8883c3-1c4e-4018-902f-dc2ce6a0683e",
   "metadata": {},
   "outputs": [],
   "source": [
    "p = sympy.symbols(\"p\", real=True)\n",
    "τ, p_c = sympy.symbols(\"τ p_c\", real=True, positive=True)\n",
    "f = ..."
   ]
  },
  {
   "cell_type": "markdown",
   "id": "a41d462d-e666-468f-b2b8-901e04f1a984",
   "metadata": {},
   "source": [
    "Now write some code to lambdify the expression.\n",
    "Make sure that the arguments are first $p$, then a numpy array of parameters, just like we did for the Lorenz system.\n",
    "We want the result to be equivalent to a function that might start like this:\n",
    "```python\n",
    "def F(p, params):\n",
    "    τ = params[0]\n",
    "    p_c = params[1]\n",
    "    ...\n",
    "```"
   ]
  },
  {
   "cell_type": "code",
   "execution_count": null,
   "id": "45e6dc5f-ce89-4efd-9f51-722296d5b464",
   "metadata": {},
   "outputs": [],
   "source": [
    "F = ..."
   ]
  },
  {
   "cell_type": "markdown",
   "id": "b65dc418-0b1d-4fb6-a7d0-9758112e41c6",
   "metadata": {},
   "source": [
    "Now define the parameters array.\n",
    "We'll use units of hours and mm${}^3$/L.\n",
    "Take $\\tau$ = 12 hours and $p_c$ = 10 mm${}^3$/L."
   ]
  },
  {
   "cell_type": "code",
   "execution_count": null,
   "id": "4cfb2a1c-875b-446d-8e6c-75cb08e7890f",
   "metadata": {},
   "outputs": [],
   "source": [
    "timescale = 12.0\n",
    "capacity = 10.0\n",
    "params = ..."
   ]
  },
  {
   "cell_type": "markdown",
   "id": "f80e6f27-c0af-4287-a2cc-7cfe1c326fd6",
   "metadata": {},
   "source": [
    "If you lambdified $f$ correctly, the code below should work."
   ]
  },
  {
   "cell_type": "code",
   "execution_count": null,
   "id": "07d300ce-7488-4dc4-9033-96b78a5359df",
   "metadata": {},
   "outputs": [],
   "source": [
    "print(f\"Growth rate at half capacity: {F(0.5 * capacity, params):.3f} mm³ / L / hr\")"
   ]
  },
  {
   "cell_type": "markdown",
   "id": "5df2c091-6e4d-4baf-9c88-b7f221df459c",
   "metadata": {},
   "source": [
    "Now compute the derivative of $f$ symbolically and lambdify it."
   ]
  },
  {
   "cell_type": "code",
   "execution_count": null,
   "id": "f166a685-4f76-4c80-94d8-2be6dcd6d0ac",
   "metadata": {},
   "outputs": [],
   "source": [
    "dF = ..."
   ]
  },
  {
   "cell_type": "markdown",
   "id": "7363d032-5130-49cb-971e-c95f3444a341",
   "metadata": {},
   "source": [
    "The growth rate is maximized at half capacity, so the derivative of $f$ should be 0 when evaluated there."
   ]
  },
  {
   "cell_type": "code",
   "execution_count": null,
   "id": "f07d9288-d2a5-42d6-b104-63d2f8c020d2",
   "metadata": {},
   "outputs": [],
   "source": [
    "dF(0.5 * capacity, params)"
   ]
  },
  {
   "cell_type": "markdown",
   "id": "36c15a6a-e62b-442c-a0c2-ceb7ac7a9a7f",
   "metadata": {},
   "source": [
    "Now solve the logistic equation using the backward or midpoint method or a linearly implicit version.\n",
    "Use a final time of 10 $\\times$ the timescale $\\tau$, a timestep of $\\tau / 100$, and an initial population of $p_c / 100$.\n",
    "This time, try to make your procedure flexible w.r.t. the timestep.\n",
    "\n",
    "If you're using scipy.optimize.root, you might get a warning from numpy if you try to assign the next value of the solution to be `result.x`.\n",
    "If the warning makes your eyes twitch, you can fix this with `result.x[0]`."
   ]
  },
  {
   "cell_type": "code",
   "execution_count": null,
   "id": "ac4fbc7a-115e-4f17-bafc-56f28223a23f",
   "metadata": {},
   "outputs": [],
   "source": [
    "G = ...\n",
    "dG = ..."
   ]
  },
  {
   "cell_type": "code",
   "execution_count": null,
   "id": "c43c1165-231c-48cd-95a6-8be33896debe",
   "metadata": {},
   "outputs": [],
   "source": [
    "final_time = 10.0 * timescale\n",
    "dt = timescale / 100.0\n",
    "num_steps = int(final_time / dt)\n",
    "p_0 = capacity / 100.0\n",
    "\n",
    "..."
   ]
  },
  {
   "cell_type": "markdown",
   "id": "c6624ae8-07dc-4021-a967-6a2b1e974b44",
   "metadata": {},
   "source": [
    "Plot the results."
   ]
  },
  {
   "cell_type": "code",
   "execution_count": null,
   "id": "b24149a0-1fec-4c95-86e8-82dcacee676b",
   "metadata": {},
   "outputs": [],
   "source": [
    "..."
   ]
  },
  {
   "cell_type": "markdown",
   "id": "e6c29520-fa9e-4123-a5ff-12512f3cdae7",
   "metadata": {},
   "source": [
    "In class, I'll show the analytical solution and how to do a convergence test."
   ]
  },
  {
   "cell_type": "markdown",
   "id": "9f8c380e-dcf3-48e5-9519-b971b8f6070d",
   "metadata": {},
   "source": [
    "### Predator-prey\n",
    "\n",
    "Now let's look at the interaction of two species, a prey species $p$ and a predator species $q$.\n",
    "The prey species grows exponentially, but declines according to predation.\n",
    "Likewise, the predator species grows according to how many of the prey species it can eat, but individuals die at some fixed rate.\n",
    "The frequency of predation is proportional to the product $p\\cdot q$ of the two populations.\n",
    "Putting all this together, we get the system\n",
    "$$\\begin{align}\n",
    "\\dot p & = a_1 p - a_2 pq \\\\\n",
    "\\dot q & = -b_1 q + b_2pq\n",
    "\\end{align}$$\n",
    "This is called the *Lotka-Volterra* model.\n",
    "One of the characteristic features is that it can exhibit limit cycles.\n",
    "With low predator population, the prey population grows rapidly; the predator population then eats the prey, causing the predator population to grow and the prey to decline; finally, the prey population is insufficient to maintain the predators, and the predators then begin to die off, starting the cycle anew.\n",
    "\n",
    "The Lotka-Volterra model has some fascinating observational corroboration.\n",
    "The plot below shows the number of pelts of snowshoe hares and Canadian lynxes sold to the Hudson Bay Company over a period of two decades.\n",
    "The peaks tend to lag each other.\n",
    "\n",
    "![hudson bay data](https://jmahaffy.sdsu.edu/courses/f09/math636/lectures/lotka/images/lynxgraph.jpg)\n",
    "\n",
    "[Joseph Mahaffy](https://jmahaffy.sdsu.edu/courses/f17/math636/beamer/lotvol-04.pdf) estimated the parameters of the model based on these observations and obtained\n",
    "$$a_1 = 0.453, \\quad a_2 = 0.0205, \\quad b_1 = 0.790, \\quad b_2 = 0.0229$$\n",
    "together with initial populations of $p = 30$, $q = 4$.\n",
    "\n",
    "Make a symbolic expression for the right-hand side $f$ of the predator-prey model using sympy.\n",
    "Now that this is a 2D problem, we'll use a sympy Matrix."
   ]
  },
  {
   "cell_type": "code",
   "execution_count": null,
   "id": "f10904da-fa18-49be-a9eb-021ebe62233b",
   "metadata": {},
   "outputs": [],
   "source": [
    "p, q = sympy.symbols(\"p q\", real=True)\n",
    "a_1, a_2, b_1, b_2 = sympy.symbols(\"a_1 a_2 b_1 b_2\", real=True, positive=True)\n",
    "\n",
    "f = sympy.Matrix(\n",
    "    [\n",
    "        ...\n",
    "    ]\n",
    ")"
   ]
  },
  {
   "cell_type": "markdown",
   "id": "1df32561-f97d-4982-acff-fd45272c3a7b",
   "metadata": {},
   "source": [
    "Now use sympy.solve to compute the equilibria of the system."
   ]
  },
  {
   "cell_type": "code",
   "execution_count": null,
   "id": "55836969-0c7f-476a-a87a-18f9217564e3",
   "metadata": {},
   "outputs": [],
   "source": [
    "equilibria = ...\n",
    "equilibria"
   ]
  },
  {
   "cell_type": "markdown",
   "id": "d0dfdeb9-36ed-4932-ad0a-4798de9d2500",
   "metadata": {},
   "source": [
    "The code below will generate the Jacobian of the system and symbolically calculate the eigenvalues at each equilibrium.\n",
    "What do you notice about the equilibria?"
   ]
  },
  {
   "cell_type": "code",
   "execution_count": null,
   "id": "91121477-4148-4efc-8f18-6e78ec3dd92c",
   "metadata": {},
   "outputs": [],
   "source": [
    "df = f.jacobian((p, q))\n",
    "\n",
    "for z in equilibria:\n",
    "    df_z = df.subs({p: z[0], q: z[1]})\n",
    "    print(list(df_z.eigenvals().keys()))"
   ]
  },
  {
   "cell_type": "markdown",
   "id": "4d2aa364-ff6b-4501-b228-7e5ab08c238e",
   "metadata": {},
   "source": [
    "Here I've done the magic to lambdify $f$ and flatten the result."
   ]
  },
  {
   "cell_type": "code",
   "execution_count": null,
   "id": "20eb66ef-c955-4fac-ac61-905a70a99781",
   "metadata": {},
   "outputs": [],
   "source": [
    "F_ = sympy.lambdify(((p, q), (a_1, a_2, b_1, b_2)), f)\n",
    "F = lambda *args, **kwargs: F_(*args, **kwargs).flatten()"
   ]
  },
  {
   "cell_type": "markdown",
   "id": "a4d04c18-04a2-486c-805f-2d819b9a2ccc",
   "metadata": {},
   "source": [
    "Make the vector of initial conditions and parameters."
   ]
  },
  {
   "cell_type": "code",
   "execution_count": null,
   "id": "1937fd4e-079a-40ac-bfdb-8479cfe859fd",
   "metadata": {},
   "outputs": [],
   "source": [
    "z_0 = ...\n",
    "params = ...\n",
    "F(z_0, params)"
   ]
  },
  {
   "cell_type": "markdown",
   "id": "650921ef-42b6-4c37-a774-424e81d3bd5b",
   "metadata": {},
   "source": [
    "Now lambdify the derivative of $f$ and store it in a variable `dF`."
   ]
  },
  {
   "cell_type": "code",
   "execution_count": null,
   "id": "b58bb4c0-bdf9-4c3a-9c0e-fafc1cd26809",
   "metadata": {},
   "outputs": [],
   "source": [
    "dF = ..."
   ]
  },
  {
   "cell_type": "markdown",
   "id": "0ddaef2c-3b9c-4911-ab9c-c35aa3ea802d",
   "metadata": {},
   "source": [
    "This code will evaluate the derivative of the right-hand side at the initial conditions just to make sure we don't get an error."
   ]
  },
  {
   "cell_type": "code",
   "execution_count": null,
   "id": "c5b4f346-3bda-4a64-ac9e-f5175c089d26",
   "metadata": {},
   "outputs": [],
   "source": [
    "dF(z_0, params)"
   ]
  },
  {
   "cell_type": "markdown",
   "id": "78f33a06-1e9b-4922-af8f-97963998e633",
   "metadata": {},
   "source": [
    "Now form the nonlinear system that we'll need to solve the predator-prey equations using the backward method or the midpoint method."
   ]
  },
  {
   "cell_type": "code",
   "execution_count": null,
   "id": "2de0ba5e-d10c-485b-8ddb-c50b77957137",
   "metadata": {},
   "outputs": [],
   "source": [
    "I = np.eye(2)\n",
    "G = ...\n",
    "dG = ..."
   ]
  },
  {
   "cell_type": "markdown",
   "id": "c7e602c9-11a8-4be5-9be1-f429c44972f1",
   "metadata": {},
   "source": [
    "Take a final time of 40 years and a timestep of 1/80th of a year and make a time series of the result."
   ]
  },
  {
   "cell_type": "code",
   "execution_count": null,
   "id": "7c2083e5-7365-4184-a3c1-b1a37c30935e",
   "metadata": {},
   "outputs": [],
   "source": [
    "final_time = 40.0\n",
    "dt = 0.0125\n",
    "num_steps = int(final_time / dt)\n",
    "\n",
    "zs = ..."
   ]
  },
  {
   "cell_type": "markdown",
   "id": "7949fd63-ad85-42dc-a083-077bc761e343",
   "metadata": {},
   "source": [
    "Plot the results below, either showing both populations against time, or each population on a different axis."
   ]
  },
  {
   "cell_type": "code",
   "execution_count": null,
   "id": "db5e89fe-e94f-424a-876f-abdc72e5eb41",
   "metadata": {},
   "outputs": [],
   "source": [
    "..."
   ]
  },
  {
   "cell_type": "markdown",
   "id": "3c1e1a84-61b9-4545-aceb-9646f4fba4f3",
   "metadata": {},
   "source": [
    "If you plot both populations against time, you should see results similar to the data from the Hudson Bay Company above.\n",
    "\n",
    "There are lots of ways you can alter this model.\n",
    "For example, if there are no predators at all, the prey population will grow without bound.\n",
    "You could trying using a carrying capacity for the number of prey, so that their growth rate is instead:\n",
    "$$\\dot p = a_1p(1 - p/p_c) - a_2pq.$$\n",
    "It's also possible to model multi-species interactions instead of just two.\n",
    "Later, we'll try an example where there's spatial structure as well.\n",
    "If you're interested in this sort of thing, [Mark Kot's book](https://doi.org/10.1017/CBO9780511608520) is a fun read."
   ]
  }
 ],
 "metadata": {
  "kernelspec": {
   "display_name": "Python 3 (ipykernel)",
   "language": "python",
   "name": "python3"
  },
  "language_info": {
   "codemirror_mode": {
    "name": "ipython",
    "version": 3
   },
   "file_extension": ".py",
   "mimetype": "text/x-python",
   "name": "python",
   "nbconvert_exporter": "python",
   "pygments_lexer": "ipython3",
   "version": "3.11.5"
  }
 },
 "nbformat": 4,
 "nbformat_minor": 5
}

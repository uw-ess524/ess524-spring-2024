{
 "cells": [
  {
   "cell_type": "markdown",
   "id": "a0edb1e3-872a-4778-9bca-baaee64972c0",
   "metadata": {},
   "source": [
    "# The (linear) shallow water equations\n",
    "\n",
    "Here we'll look at a linearization of the shallow water equations.\n",
    "This is a 2nd-order in time problem.\n",
    "To solve it, we'll introduce an additional variable to reduce it to first-order in time.\n",
    "This will force us to learn how to solve multi-component systems.\n",
    "We'll also try out the irksome implementation of the Gauss timestepping scheme, i.e. collocation based on the Gauss quadrature points."
   ]
  },
  {
   "cell_type": "code",
   "execution_count": null,
   "id": "74662149-89e8-4bd8-99f2-ed34dceca8a6",
   "metadata": {},
   "outputs": [],
   "source": [
    "import firedrake\n",
    "from firedrake import Constant, inner, grad, dx\n",
    "import irksome\n",
    "from irksome import Dt\n",
    "import matplotlib.pyplot as plt\n",
    "import numpy as np"
   ]
  },
  {
   "cell_type": "markdown",
   "id": "5220d1dc-93a5-4fd7-bcfe-8b31e32d0862",
   "metadata": {},
   "source": [
    "As a spatial domain, we'll consider a circular lake 100m wide.\n",
    "There's a built-in function to create a mesh of the unit disk.\n",
    "We'll make it 100m wide in a hacky way by altering the raw data that lives inside the mesh coordinates."
   ]
  },
  {
   "cell_type": "code",
   "execution_count": null,
   "id": "0bf246e0-8299-4e30-a918-049e7ecf1785",
   "metadata": {},
   "outputs": [],
   "source": [
    "mesh = firedrake.UnitDiskMesh(4)\n",
    "radius = 100.0\n",
    "mesh.coordinates.dat.data[:] *= radius"
   ]
  },
  {
   "cell_type": "code",
   "execution_count": null,
   "id": "3c6dda88-eafd-42d3-bf7e-52bfa15d1617",
   "metadata": {},
   "outputs": [],
   "source": [
    "element = firedrake.FiniteElement(\"CG\", \"triangle\", 1)\n",
    "Q = firedrake.FunctionSpace(mesh, element)"
   ]
  },
  {
   "cell_type": "markdown",
   "id": "6ab4e2e4-1898-4f2e-8fe9-178b155e2875",
   "metadata": {},
   "source": [
    "The variational form of the wave equation we're working with here is\n",
    "$$\\int_\\Omega\\left(\\partial_t^2h\\cdot\\phi + gH\\nabla h\\cdot\\nabla\\phi\\right)dx = 0$$\n",
    "for all test functions $\\phi$.\n",
    "Note that we now have a second time derivative of $h$, so we'll want to introduce a new variable\n",
    "$$u = \\partial_t h$$\n",
    "to reduce the system to first order.\n",
    "What's the variational form now that we've added a new variable?\n",
    "We now have not just one test function but two:\n",
    "$$\\int_\\Omega\\left\\{\\partial_tu\\cdot\\phi + gH\\nabla h\\cdot\\nabla\\phi + (\\partial_th - u)v\\right\\}dx = 0$$\n",
    "for all pairs of test functions $\\phi$, $v$.\n",
    "\n",
    "First, we'll make the input data.\n",
    "We'll start with a flat bottom ($H$ = 5m).\n",
    "I'll make you do this again with variable bottom topography for homework."
   ]
  },
  {
   "cell_type": "code",
   "execution_count": null,
   "id": "5a600595-245e-4c1c-b1ef-911f6822589b",
   "metadata": {},
   "outputs": [],
   "source": [
    "g = Constant(9.8)\n",
    "H = Constant(5.0)"
   ]
  },
  {
   "cell_type": "markdown",
   "id": "f7fa5959-197d-4abc-a0c3-5b4de0a915fc",
   "metadata": {},
   "source": [
    "The wave speed for shallow water waves is $c = \\sqrt{gH}$.\n",
    "(Check the units!)\n",
    "The radius of the domain is 100m, so we can calculate a timescale for a wave to cross the whole domain is\n",
    "$$T = R / \\sqrt{gH}.$$\n",
    "We can pick a sensible timestep in the same way -- how long does the wave take to cross a single grid cell?\n",
    "$$\\delta t = \\delta x / \\sqrt{gH}$$"
   ]
  },
  {
   "cell_type": "code",
   "execution_count": null,
   "id": "3608ee50-c845-461a-8aae-741d109eec7c",
   "metadata": {},
   "outputs": [],
   "source": [
    "wave_speed = np.sqrt(float(g) * float(H))\n",
    "\n",
    "final_time = 4 * radius / wave_speed\n",
    "cell_diam = mesh.cell_sizes.dat.data_ro.max() / 2\n",
    "timestep = cell_diam / wave_speed / 2\n",
    "num_steps = int(final_time / timestep)\n",
    "print(final_time, timestep, num_steps)"
   ]
  },
  {
   "cell_type": "markdown",
   "id": "1ee5bc22-7b8a-4c1b-8e57-a1d9850b0990",
   "metadata": {},
   "source": [
    "If we want to solve simultaneously for both $\\phi$ and $u$, we'll need to make a new function space containing *pairs* of variables."
   ]
  },
  {
   "cell_type": "code",
   "execution_count": null,
   "id": "f738df0e-0e83-4222-9269-4096724cdebe",
   "metadata": {},
   "outputs": [],
   "source": [
    "Z = Q * Q"
   ]
  },
  {
   "cell_type": "markdown",
   "id": "d289bc3b-a6ae-4926-8fba-d56369fe73c6",
   "metadata": {},
   "source": [
    "We can now see that the function space $Z$ has a new type, a *mixed* finite element:"
   ]
  },
  {
   "cell_type": "code",
   "execution_count": null,
   "id": "b429e70e-d65b-41f0-bbf7-2a87dec55122",
   "metadata": {},
   "outputs": [],
   "source": [
    "Z.ufl_element()"
   ]
  },
  {
   "cell_type": "markdown",
   "id": "28929663-6ce5-4515-b5fa-49479c44c37d",
   "metadata": {},
   "source": [
    "We can access the components of a function in a mixed space using the `.subs` method.\n",
    "Here, I'm creating a function $z$ in the space $Z$, and assigning a small perturbation in the wave height to the 0th component."
   ]
  },
  {
   "cell_type": "code",
   "execution_count": null,
   "id": "c3ae4a9e-7720-4299-8f60-3a8b377e5697",
   "metadata": {},
   "outputs": [],
   "source": [
    "z = firedrake.Function(Z)\n",
    "\n",
    "x = firedrake.SpatialCoordinate(mesh)\n",
    "x_0 = Constant((radius / 4, radius / 4))\n",
    "r = Constant(radius / 8)\n",
    "δh = Constant(H / 20)\n",
    "expr = δh * firedrake.exp(-inner(x - x_0, x - x_0) / r**2)\n",
    "\n",
    "z.sub(0).interpolate(expr);"
   ]
  },
  {
   "cell_type": "markdown",
   "id": "faa0daba-77e5-4b0e-8236-1ed9b80e4377",
   "metadata": {},
   "source": [
    "And in order to make sure we got something sensible looking, I've plotted the result below."
   ]
  },
  {
   "cell_type": "code",
   "execution_count": null,
   "id": "b89b126b-3b7d-42e0-a76f-6b195158140c",
   "metadata": {},
   "outputs": [],
   "source": [
    "fig, ax = plt.subplots()\n",
    "ax.set_aspect(\"equal\")\n",
    "colors = firedrake.tripcolor(z.sub(0), axes=ax)\n",
    "fig.colorbar(colors);"
   ]
  },
  {
   "cell_type": "markdown",
   "id": "c95f7e91-8bbd-4656-8755-33417b062666",
   "metadata": {},
   "source": [
    "In order to get some symbols representing $h$ and $u$ separately, we have to first create a function that lives in $Z$ and then split it in two.\n",
    "The function `firedrake.split` takes a function in a mixed space, and it returns us a tuple of symbolic objects that represent its component functions.\n",
    "Here I'm adopting the convention that the thickness variable comes first and the surface height change second."
   ]
  },
  {
   "cell_type": "code",
   "execution_count": null,
   "id": "736855f9-e903-4d60-a006-5b750adce4f9",
   "metadata": {},
   "outputs": [],
   "source": [
    "h, u = firedrake.split(z)\n",
    "\n",
    "w = firedrake.TestFunction(Z)\n",
    "ϕ, v = firedrake.split(w)\n",
    "\n",
    "F = (Dt(u) * ϕ + g * H * inner(grad(h), grad(ϕ)) + (Dt(h) - u) * v) * dx"
   ]
  },
  {
   "cell_type": "markdown",
   "id": "5122f005-4c2c-44a8-8f37-d76ae3ce99ed",
   "metadata": {},
   "source": [
    "Now we'll do the whole song and dance with Irksome.\n",
    "I've picked the Gauss-Legendre method because it works better for wave-type problems."
   ]
  },
  {
   "cell_type": "code",
   "execution_count": null,
   "id": "546c1c73-6ed9-4875-811e-52c95ed80068",
   "metadata": {},
   "outputs": [],
   "source": [
    "t = firedrake.Constant(0.0)\n",
    "dt = firedrake.Constant(timestep)\n",
    "method = irksome.GaussLegendre(1)\n",
    "solver = irksome.TimeStepper(F, method, t, dt, z)"
   ]
  },
  {
   "cell_type": "markdown",
   "id": "b22d5698-928e-4620-9c06-c624790f06c9",
   "metadata": {},
   "source": [
    "You'll notice that in the middle of the loop I'm calling a method `z.subfunctions`.\n",
    "The function `firedrake.split` gives us *symbolic* answers.\n",
    "The method `.subfunctions` gives us *numeric* answers.\n",
    "The last bit of the loop pulls out the thickness and height change fields and packs them into a list so that we can make a movie at the end."
   ]
  },
  {
   "cell_type": "code",
   "execution_count": null,
   "id": "605a4715-873c-4446-819c-414cbf273844",
   "metadata": {},
   "outputs": [],
   "source": [
    "hs = [z.sub(0).copy(deepcopy=True)]\n",
    "us = [z.sub(1).copy(deepcopy=True)]\n",
    "for step in range(num_steps):\n",
    "    t.assign(t + dt)\n",
    "    solver.advance()\n",
    "\n",
    "    h, u = z.subfunctions\n",
    "    hs.append(h.copy(deepcopy=True))\n",
    "    us.append(u.copy(deepcopy=True))"
   ]
  },
  {
   "cell_type": "markdown",
   "id": "58c44a35-97bd-4e3f-983e-0979da460869",
   "metadata": {},
   "source": [
    "Ooh pretty"
   ]
  },
  {
   "cell_type": "code",
   "execution_count": null,
   "id": "313eef0c-312f-4842-92b5-f708aa95a1b4",
   "metadata": {},
   "outputs": [],
   "source": [
    "%%capture\n",
    "\n",
    "from matplotlib.animation import FuncAnimation\n",
    "\n",
    "fig, ax = plt.subplots()\n",
    "ax.set_aspect(\"equal\")\n",
    "colors = firedrake.tripcolor(hs[0], vmin=-float(δh), vmax=+float(δh), num_sample_points=4, axes=ax)\n",
    "fig.colorbar(colors)\n",
    "\n",
    "fn_plotter = firedrake.FunctionPlotter(mesh, num_sample_points=4)\n",
    "def animate(h):\n",
    "    colors.set_array(fn_plotter(h))\n",
    "\n",
    "animation = FuncAnimation(fig, animate, hs, interval=1e3/12)"
   ]
  },
  {
   "cell_type": "code",
   "execution_count": null,
   "id": "e7d0ee7c-ee98-48f9-9dd8-2f1bdcec6ec3",
   "metadata": {},
   "outputs": [],
   "source": [
    "from IPython.display import HTML\n",
    "HTML(animation.to_html5_video())"
   ]
  },
  {
   "cell_type": "markdown",
   "id": "5f95728f-8127-49ca-a1a4-d1981e51d982",
   "metadata": {},
   "source": [
    "Let's try to see how well this method conserved energy."
   ]
  },
  {
   "cell_type": "code",
   "execution_count": null,
   "id": "2e9c3783-acfa-45f0-9b05-a0a6f38151ea",
   "metadata": {},
   "outputs": [],
   "source": [
    "energies = np.array(\n",
    "    [\n",
    "        firedrake.assemble((u**2 + g * H * inner(grad(h), grad(h))) * dx)\n",
    "        for h, u in zip(hs, us)\n",
    "    ]\n",
    ")"
   ]
  },
  {
   "cell_type": "markdown",
   "id": "880c9c4c-edec-4299-890b-97618c1e0c44",
   "metadata": {},
   "source": [
    "<a href=\"https://imgflip.com/i/8opj3r\"><img src=\"https://i.imgflip.com/8opj3r.jpg\" title=\"made at imgflip.com\"/></a><div><a href=\"https://imgflip.com/memegenerator\">from Imgflip Meme Generator</a></div>"
   ]
  },
  {
   "cell_type": "code",
   "execution_count": null,
   "id": "5966e61b-f969-4ef4-9269-67bb9b12bc5e",
   "metadata": {},
   "outputs": [],
   "source": [
    "print(f\"Average energy: {energies.mean():.1f}\")\n",
    "print(f\"Energy drift:   {energies.max() - energies.min():.1g}\")"
   ]
  }
 ],
 "metadata": {
  "kernelspec": {
   "display_name": "firedrake",
   "language": "python",
   "name": "firedrake"
  },
  "language_info": {
   "codemirror_mode": {
    "name": "ipython",
    "version": 3
   },
   "file_extension": ".py",
   "mimetype": "text/x-python",
   "name": "python",
   "nbconvert_exporter": "python",
   "pygments_lexer": "ipython3",
   "version": "3.11.5"
  }
 },
 "nbformat": 4,
 "nbformat_minor": 5
}

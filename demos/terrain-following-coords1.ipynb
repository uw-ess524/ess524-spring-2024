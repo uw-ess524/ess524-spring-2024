{
 "cells": [
  {
   "cell_type": "markdown",
   "id": "0a4531b2-c5df-4d27-b550-f3dd1b179241",
   "metadata": {},
   "source": [
    "# Terrain-following coordinates\n",
    "\n",
    "Many problems in the earth sciences are thin-film flows, i.e. the characteristic length-scale $L$ of the domain is much larger than the characteristic thickness $H$.\n",
    "We can then describe the geometry in terms of a *footprint* or *base* domain $\\Omega$ which lives in 1D or 2D.\n",
    "We then imagine that we know\n",
    "1. some *bed elevation* field $b$, which could be, say, the topography of the land surface or the bathymetry of the ocean floor, and\n",
    "2. a *thickness* field $h$ describing the vertical extent of the medium we care about.\n",
    "\n",
    "For example, ocean flow, glacier flow, lava flow, and rainfall runoff over a landscape are all thin-film flows.\n",
    "(I'm excluding atmospheric circulation because how you define a thickness field isn't quite as obvious.)\n",
    "We could discretize the geometry, toss it into a mesh generator, and then solve our problem using the finite element method.\n",
    "But what if the thickness field is changing in time, so that we have an evolving free surface?\n",
    "We would not only have to keep track of the evolution of, say, the velocity field inside the triangulation, but the triangulation itself would be changing in time in a non-trivial way.\n",
    "\n",
    "Terrain-following coordinates instead let us do all of our computing on the Cartesian product $\\Omega \\times [0, H]$ of the footprint domain and an interval.\n",
    "We then warp or deform this computational domain onto the physical domain.\n",
    "The basal topography and variable thickness of the true physical domain are \"encoded\" into the coordinate transformation, which works its way into the variational form.\n",
    "While the physical geometry might change in time, the computational geometry does not, and so we have a much simpler way of working with free surface flows."
   ]
  },
  {
   "cell_type": "markdown",
   "id": "7c5f94d2-0084-4586-aa2a-4d6c27b53bad",
   "metadata": {},
   "source": [
    "#### The transformation\n",
    "\n",
    "I'm going to derive all of this for 2 + 1D problems and you can do the appropriate simplifications for 1 + 1D ones.\n",
    "We'll write $x_1, x_2, x_3$ for the coordinates of the physical domain, where $x_1$, $x_2$ are the horizontal coordinates and $x_3$ the vertical coordinate.\n",
    "We start knowing the bed elevation field $b(x_1, x_2)$ and the thickness field $h(x_1, x_2)$.\n",
    "The *terrain-following coordinates* $\\xi_1$, $\\xi_2$, $\\xi_3$ are defined as\n",
    "$$\\begin{align}\n",
    "\\xi_1 & = x_1 \\\\\n",
    "\\xi_2 & = x_2 \\\\\n",
    "\\xi_3 & = H\\frac{x_3 - b(x_1, x_2)}{h(x_1, x_2)}\n",
    "\\end{align}$$\n",
    "where $H$ is a vertical scale that we can pick.\n",
    "In the physical domain, $x_3$ could take values between $b(x_1, x_2)$ and $b(x_1, x_2) + h(x_1, x_2)$, and this range changes with position in space.\n",
    "In terrain-following coordinates, $\\xi_3$ can only take values between 0 and $H$.\n",
    "\n",
    "#### Derivatives\n",
    "\n",
    "Now suppose that the problem we wanted to solve was posed as variational form on the physical domain:\n",
    "$$\\int_\\Omega\\int_b^{b + h}\\left\\{\\partial_tG(q)\\cdot\\phi - F(q, \\nabla_xq, \\ldots)\\cdot\\nabla_x\\phi - S(q, \\ldots)\\cdot\\phi\\right\\}dx_3\\,dx_2\\,dx_1 = 0$$\n",
    "for all test functions $\\phi$.\n",
    "How can we transform this into a variational form defined on the computational domain?\n",
    "We'll first have to transform derivatives defined with respect to $x$ into derivatives with respect to $\\xi$.\n",
    "\n",
    "One key observation.\n",
    "When we take a partial derivative of some field with respect to $x_1$, we do so with with the vertical coordinate $x_3$ held fixed.\n",
    "But when we take a partial derivative of a field with respect to $\\xi_1$, we do so with the *relative depth* $\\xi_3$ held fixed, and those two are not the same thing because of variations in the surface and bed topography.\n",
    "\n",
    "If we're talking about derivatives of the bed elevation and thickness, however, those fields only depend on the horizontal coordinates, which are unchanged.\n",
    "Consequently we can unambigously write $\\nabla b$ or $\\nabla h$ without having to specify which coordinate system we're working with.\n",
    "\n",
    "In order to transform derivatives of fields, we need to first calculate the derivative of the transformation itself, also known as the Jacobian:\n",
    "$$\\frac{\\partial\\xi}{\\partial x} \\equiv \\left[\\begin{matrix}\\frac{\\partial\\xi_1}{\\partial x_1} & \\frac{\\partial\\xi_1}{\\partial x_2} & \\frac{\\partial\\xi_1}{\\partial x_3} \\\\ \\frac{\\partial\\xi_2}{\\partial x_1} & \\frac{\\partial\\xi_2}{\\partial x_2} & \\frac{\\partial\\xi_2}{\\partial x_3} \\\\ \\frac{\\partial\\xi_3}{\\partial x_1} & \\frac{\\partial\\xi_3}{\\partial x_2} & \\frac{\\partial\\xi_3}{\\partial x_3} \\end{matrix}\\right].$$\n",
    "I'm going to introduce a new quantity here that's going to save a lot of math writing.\n",
    "The *geometric distortion factor* $\\gamma$ is the following vector:\n",
    "$$\\gamma = -\\frac{H}{h}\\left(\\nabla b + \\xi_3\\nabla h\\right)$$\n",
    "We can then calculate explicitly that\n",
    "$$\\frac{\\partial\\xi}{\\partial x} = \\left[\\begin{matrix}I & 0 \\\\ \\gamma^\\top & H/h\\end{matrix}\\right]$$\n",
    "where $I$ is the 2x2 identity matrix.\n",
    "It's worth working through this yourself.\n",
    "\n",
    "#### Volume distortion\n",
    "\n",
    "First, we can work out how volumes get distorted and how this changes the integrals we need to compute.\n",
    "The change of variables formula states that\n",
    "$$dx_3\\,dx_2\\,dx_1 = \\left|\\det\\frac{d\\xi}{dx}\\right|^{-1}d\\xi_3\\,d\\xi_2,d\\xi_1\\ldots$$\n",
    "and from the expression above we can calculate right away that this is:\n",
    "$$\\ldots = \\frac{h}{H}d\\xi_3\\,d\\xi_2\\,d\\xi_1$$\n",
    "You can remember this by thinking about the case where we take $H = 1$ to be a dimensionless constant.\n",
    "The differential volume element should have units of volume.\n",
    "\n",
    "#### Gradient distortion\n",
    "\n",
    "Now we can start asking ourselves how derivatives change.\n",
    "This is just the chain rule:\n",
    "$$\\frac{\\partial\\phi}{\\partial x} = \\frac{\\partial\\phi}{\\partial\\xi}\\frac{\\partial\\xi}{\\partial x}$$\n",
    "**There is a lurking subtlety here.**\n",
    "Derivatives start life as *row* vectors and not as column vectors.\n",
    "It's only when we think of a derivative as a row vector that the chain rule applies as straightforwardly for multidimensional problems as it does in single-variable calculus.\n",
    "The gradient of a scalar field, on the other hand, is a column vector which we obtain by taking the transpose of this row vector.\n",
    "Silly right?\n",
    "But when there are serious coordinate transformations, it means that **we need to take the transpose of the Jacobian**:\n",
    "$$\\nabla_x\\phi = \\frac{\\partial\\xi}{\\partial x}^\\top\\nabla_\\xi\\phi.$$\n",
    "This is profoundly strange, unless of course you've taken general relativity in which case you've already been broken."
   ]
  },
  {
   "cell_type": "markdown",
   "id": "19bbe20b-5225-44af-93e2-6709195d1c84",
   "metadata": {},
   "source": [
    "### The domain\n",
    "\n",
    "First, we'll create our computational domain -- a regular mesh of the unit square with quadrilateral elements."
   ]
  },
  {
   "cell_type": "code",
   "execution_count": null,
   "id": "13dee5fb-6cae-4d5e-83b6-a8c3bbf4b1f7",
   "metadata": {},
   "outputs": [],
   "source": [
    "import firedrake\n",
    "from firedrake import Constant, inner, grad, dot, dx, ds\n",
    "import numpy as np\n",
    "import matplotlib.pyplot as plt\n",
    "\n",
    "nx, nz = 32, 32\n",
    "computational_domain = firedrake.UnitSquareMesh(nx, nz, quadrilateral=True)"
   ]
  },
  {
   "cell_type": "markdown",
   "id": "c1828d78-aa2c-4d98-9a63-344afed45a81",
   "metadata": {},
   "source": [
    "Our physical domain will be obtained by warping the coordinates, like we saw in the thermochronometry notebook.\n",
    "Here I've wrapped up some of the functions to create the bed topography because we'll have to do so more than once."
   ]
  },
  {
   "cell_type": "code",
   "execution_count": null,
   "id": "3dd6ae3f-c8ce-4df9-a568-ba4f4599f866",
   "metadata": {},
   "outputs": [],
   "source": [
    "δb = Constant(1 / 4)\n",
    "α = Constant(1 / 8)\n",
    "ξ_0 = Constant(1 / 2)\n",
    "\n",
    "def sech(z):\n",
    "    return 2 / (firedrake.exp(z) + firedrake.exp(-z))\n",
    "\n",
    "def bed_topography(ξ):\n",
    "    return δb * sech((ξ - ξ_0) / α)"
   ]
  },
  {
   "cell_type": "code",
   "execution_count": null,
   "id": "09ded1e4-b824-4b0b-bd03-2c9c745b081d",
   "metadata": {},
   "outputs": [],
   "source": [
    "ξ = firedrake.SpatialCoordinate(computational_domain)\n",
    "bed_expr = bed_topography(ξ[0])\n",
    "surf_expr = Constant(1.0)\n",
    "expr = firedrake.as_vector((ξ[0], (1 - ξ[1]) * bed_expr + ξ[1] * surf_expr))\n",
    "\n",
    "Vc = computational_domain.coordinates.function_space()\n",
    "X = firedrake.Function(Vc)\n",
    "X.interpolate(expr)\n",
    "physical_domain = firedrake.Mesh(X, reorder=False)"
   ]
  },
  {
   "cell_type": "code",
   "execution_count": null,
   "id": "cc427151-6cba-46c9-ad31-02cd8d8c7325",
   "metadata": {},
   "outputs": [],
   "source": [
    "fig, ax = plt.subplots()\n",
    "ax.set_aspect(\"equal\")\n",
    "firedrake.triplot(computational_domain, axes=ax)\n",
    "ax.legend();"
   ]
  },
  {
   "cell_type": "code",
   "execution_count": null,
   "id": "453e5b0b-d17b-40a3-8dc8-b8931a2b6d15",
   "metadata": {},
   "outputs": [],
   "source": [
    "fig, ax = plt.subplots()\n",
    "ax.set_aspect(\"equal\")\n",
    "firedrake.triplot(physical_domain, axes=ax)\n",
    "ax.legend();"
   ]
  },
  {
   "cell_type": "markdown",
   "id": "169d0411-d910-432c-8f71-634074c21af9",
   "metadata": {},
   "source": [
    "### Steady diffusion\n",
    "\n",
    "We can work out some of the hard parts by focusing first on a steady-state diffusion problem.\n",
    "If we compute a temperature field on the physical domain and on the computational domain, we should get the same answer.\n",
    "In order to illustrate to you the importance of getting the metric terms correct, I'm going to do things the wrong way.\n",
    "\n",
    "I'll use $q$ for the field we're solving for (temperature, hydraulic head, etc).\n",
    "The variational form that I'll use for the code below is\n",
    "$$\\int_\\Omega \\left\\{k\\nabla q\\cdot\\nabla\\phi - fq\\right\\}g\\,dx = 0$$\n",
    "for all test functions $\\phi$ that are zero on the boundary, together with a fixed value boundary condition $q|_{\\partial\\Omega} = q_{\\text{ext}}$.\n",
    "Here $k$ is the conductivity and $g$ is a scalar field that can weight the integral differently in space.\n",
    "I haven't used this before but it'll represent the volume distortion derived above.\n",
    "We could have factored it into the source terms and conductivity, but it's arguably preferable not to do that.\n",
    "I'll also note here that, in previous problems, I've assumed that the conductivity $k$ is a scalar.\n",
    "We could also take $k$ to be a matrix here, in which case the variational form, written out in index notation, would be\n",
    "$$\\int_\\Omega\\left\\{k_{ij}\\partial_jq\\cdot\\partial_i\\phi - fq\\right\\}g\\,dx = 0.$$\n",
    "As I'll show below, **the diffusion equation in terrain-following coordinates looks like the diffusion equation in Cartesian coordinates, but with a tensorial conductivity.**\n",
    "\n",
    "First, I'm going to write a generic function that will solve the diffusion equation.\n",
    "The arguments are what function space we're solving in, the conductivity tensor $k$, and a volume distortion factor $g$."
   ]
  },
  {
   "cell_type": "code",
   "execution_count": null,
   "id": "658b160a-3e64-4bca-a05a-939acb276a47",
   "metadata": {},
   "outputs": [],
   "source": [
    "bottom_ids = (3,)\n",
    "top_ids = (4,)\n",
    "\n",
    "def solve_diffusion(fn_space, k, g):\n",
    "    q = firedrake.Function(fn_space)\n",
    "    ϕ = firedrake.TestFunction(fn_space)\n",
    "    F = inner(dot(k, grad(q)), grad(ϕ)) * g * dx\n",
    "    bottom_bc = firedrake.DirichletBC(fn_space, 0, bottom_ids)\n",
    "    top_bc = firedrake.DirichletBC(fn_space, 1, top_ids)\n",
    "    firedrake.solve(F == 0, q, [bottom_bc, top_bc])\n",
    "    return q"
   ]
  },
  {
   "cell_type": "markdown",
   "id": "b3dee12e-624b-48f1-9e3d-be373368a212",
   "metadata": {},
   "source": [
    "Now we'll create the ground truth solution defined on the physical domain.\n",
    "Here the conductivity tensor is a constant multiple of the identity matrix and the volume distortion factor is a constant."
   ]
  },
  {
   "cell_type": "code",
   "execution_count": null,
   "id": "e13fb08c-2e80-40f4-ba63-d6c10ef2b407",
   "metadata": {},
   "outputs": [],
   "source": [
    "cg1 = firedrake.FiniteElement(\"CG\", \"quadrilateral\", 1)\n",
    "Q_physical = firedrake.FunctionSpace(physical_domain, cg1)\n",
    "\n",
    "k = Constant(1.0)\n",
    "g = Constant(1.0)\n",
    "I = firedrake.Identity(2)\n",
    "\n",
    "q_physical = solve_diffusion(Q_physical, k * I, g)"
   ]
  },
  {
   "cell_type": "markdown",
   "id": "c0acd8a5-a8f1-45d6-9754-76f9411d0e72",
   "metadata": {},
   "source": [
    "Now let's make a solution on the computational domain which gets the right volume distortion factor, but which doesn't account for any distortion of the gradients -- we're still using a multiple of the identity matrix as our conductivity tensor."
   ]
  },
  {
   "cell_type": "code",
   "execution_count": null,
   "id": "385c82c2-e89d-4873-84b8-8dbcd447a811",
   "metadata": {},
   "outputs": [],
   "source": [
    "Q_computational = firedrake.FunctionSpace(computational_domain, cg1)\n",
    "\n",
    "k = Constant(1.0)\n",
    "ξ = firedrake.SpatialCoordinate(computational_domain)\n",
    "b = bed_topography(ξ[0])\n",
    "h = surf_expr - b\n",
    "H = Constant(1.0)\n",
    "\n",
    "q_bad = solve_diffusion(Q_computational, k * I, h / H)"
   ]
  },
  {
   "cell_type": "markdown",
   "id": "5cb343dc-26b2-4266-bb59-1b7e0b7bb026",
   "metadata": {},
   "source": [
    "I can compare the two solutions by manually transferring the raw data that lives inside `q_bad` into a Function defined on the physical domain."
   ]
  },
  {
   "cell_type": "code",
   "execution_count": null,
   "id": "1dab8c97-b8fb-4b73-97bd-9777407d5be0",
   "metadata": {},
   "outputs": [],
   "source": [
    "q_bad_transfer = firedrake.Function(Q_physical)\n",
    "q_bad_transfer.dat.data[:] = q_bad.dat.data_ro[:]"
   ]
  },
  {
   "cell_type": "markdown",
   "id": "651afe50-e38d-4e72-858e-f3ae861cf9a4",
   "metadata": {},
   "source": [
    "We can see by looking at the contour lines of the ground truth solution and the conjured up bad solution that the two are not equal."
   ]
  },
  {
   "cell_type": "code",
   "execution_count": null,
   "id": "242c534d-fe7d-4d61-bacc-c7efe532fc2e",
   "metadata": {},
   "outputs": [],
   "source": [
    "fig, ax = plt.subplots()\n",
    "ax.set_aspect(\"equal\")\n",
    "levels = np.linspace(0, 1.0, 11)\n",
    "firedrake.tricontour(q_physical, levels=levels, colors=\"tab:blue\", axes=ax)\n",
    "firedrake.tricontour(q_bad_transfer, levels=levels, colors=\"tab:orange\", linestyles=\"dotted\", axes=ax);"
   ]
  },
  {
   "cell_type": "markdown",
   "id": "90def1c7-9fc0-45cd-93bc-87bd4092612f",
   "metadata": {},
   "source": [
    "Here I'm using a function to create the Jacobian $\\partial\\xi/\\partial x$ as a tensor explicitly using the formula we wrote down above.\n",
    "Now we can compute that the inside of the variational form is:\n",
    "$$\\begin{align}\n",
    "k\\nabla_xq\\cdot\\nabla_x\\phi & = k\\left(\\frac{\\partial\\xi}{\\partial_x}^\\top\\nabla_\\xi q\\right)\\cdot\\frac{\\partial\\xi}{\\partial_x}^\\top\\nabla_\\xi\\phi \\\\\n",
    "& = k\\nabla_\\xi q\\cdot\\frac{\\partial\\xi}{\\partial x}\\frac{\\partial\\xi}{\\partial x}^\\top\\nabla_\\xi\\phi.\n",
    "\\end{align}$$\n",
    "Now we can hoist out the *metric tensor*\n",
    "$$m_{ij} = \\frac{\\partial\\xi_i}{\\partial x_k}\\frac{\\partial\\xi_j}{\\partial x_k}$$\n",
    "which is realized below using the function `firedrake.dot`.\n",
    "The product of the scalar conductivity and the metric tensor gives the tensor conductivity that we use in terrain-following coordinates."
   ]
  },
  {
   "cell_type": "code",
   "execution_count": null,
   "id": "d90fbe16-99fc-4780-be2e-8c22e33c1ee2",
   "metadata": {},
   "outputs": [],
   "source": [
    "γ = -H * (b.dx(0) + ξ[1] * h.dx(0)) / h\n",
    "dξ_dx = firedrake.as_tensor(\n",
    "    [\n",
    "        [1.0, 0.0],\n",
    "        [γ, H / h],\n",
    "    ]\n",
    ")\n",
    "\n",
    "m = dot(dξ_dx, dξ_dx.T)"
   ]
  },
  {
   "cell_type": "markdown",
   "id": "b9afe2e7-180e-4483-aac7-ab6116de720d",
   "metadata": {},
   "source": [
    "When we solve the problem again but with the correct factors of both the metric tensor and the volume distortion factor, everything lines up perfectly."
   ]
  },
  {
   "cell_type": "code",
   "execution_count": null,
   "id": "1f2a0b4f-9766-4465-abd5-328d925b8766",
   "metadata": {},
   "outputs": [],
   "source": [
    "q_tfc = solve_diffusion(Q_computational, k * m, h / H)"
   ]
  },
  {
   "cell_type": "code",
   "execution_count": null,
   "id": "7388d74c-8aaf-4443-a1f6-b2a7c7157d3f",
   "metadata": {},
   "outputs": [],
   "source": [
    "q_tfc_transfer = firedrake.Function(Q_physical)\n",
    "q_tfc_transfer.dat.data[:] = q_tfc.dat.data_ro[:]"
   ]
  },
  {
   "cell_type": "code",
   "execution_count": null,
   "id": "8a2969b9-1a78-4f78-b2d5-391f2004bb67",
   "metadata": {},
   "outputs": [],
   "source": [
    "fig, ax = plt.subplots()\n",
    "ax.set_aspect(\"equal\")\n",
    "levels = np.linspace(0, 1.0, 11)\n",
    "firedrake.tricontour(q_physical, levels=levels, colors=\"tab:blue\", axes=ax)\n",
    "firedrake.tricontour(q_tfc_transfer, levels=levels, colors=\"tab:orange\", linestyles=\"dotted\", axes=ax);"
   ]
  },
  {
   "cell_type": "markdown",
   "id": "6361f396-f9a0-40b3-b2aa-6413b800f379",
   "metadata": {},
   "source": [
    "Moral of the story: solving the diffusion equation in terrain-following coordinates looks just like doing it in Cartesian coordinates, but there's an anisotropic conductivity and its preferred directions are determined by the warping of space."
   ]
  },
  {
   "cell_type": "markdown",
   "id": "905bbcc6-6219-4661-8d7a-330d2492a393",
   "metadata": {},
   "source": [
    "### Advection + diffusion\n",
    "\n",
    "With the pure diffusion problem, we had to confront (1) the volumetric distortion term and (2) the gradient distortion terms.\n",
    "When we include advection, we also have to think about how vector fields transform.\n",
    "Vector fields don't transform the same as gradients!\n",
    "To see why this is so, let's write $u_x$ and $u_\\xi$ for the expressions of the same vector field in Cartesian and terrain-following coordinates.\n",
    "A vector field can be thought of as the trajectory of a point $x$, so\n",
    "$$u_x = \\frac{dx}{dt}$$\n",
    "and likewise $u_\\xi = d\\xi/dt$.\n",
    "But we can again apply the chain rule to express $u_x$ in terms of $u_\\xi$:\n",
    "$$\\begin{align}\n",
    "u_x & = \\frac{dx}{dt} \\\\\n",
    " & = \\frac{dx}{d\\xi}\\frac{d\\xi}{dt} \\\\\n",
    " & = \\left(\\frac{d\\xi}{dx}\\right)^{-1}\\frac{d\\xi}{dt} \\\\\n",
    " & = \\left(\\frac{d\\xi}{dx}\\right)^{-1}u_\\xi\n",
    "\\end{align}$$\n",
    "This is different from how we transformed gradients!\n",
    "The rules:\n",
    "* To transform a **gradient**, multiply on the left by $d\\xi/dx^\\top$\n",
    "* To transform a **vector field**, multiply on the left by $(d\\xi/dx)^{-1}$.\n",
    "\n",
    "Now let's suppose we were solving an advection-diffusion equation instead:\n",
    "$$\\int_\\Omega\\left(\\partial_tq\\cdot\\phi - qu_x\\cdot\\nabla_x\\phi + k\\nabla_xq\\cdot\\nabla_x\\phi\\right)dx = 0$$\n",
    "for all test functions $\\phi$.\n",
    "We already know how to rewrite the diffusive part in $\\xi$-coordinates.\n",
    "I'm going to write $J$ for the Jacobian $d\\xi/dx$.\n",
    "For the advective part, we can compute\n",
    "$$\\begin{align}\n",
    "u_x\\cdot\\nabla_x\\phi & = \\left(J^{-1}u_\\xi\\right)\\cdot J^\\top\\nabla_\\xi\\phi \\\\\n",
    "& = u_\\xi\\cdot J^{-\\top}J^\\top\\nabla_\\xi\\phi \\\\\n",
    "& = u_\\xi\\cdot\\nabla_\\xi\\phi.\n",
    "\\end{align}$$\n",
    "In other words, the factors of the Jacobian all cancel out!\n",
    "\n",
    "We will need to be able to compute the inverse of the Jacobian if we're to map the velocity field in Cartesian coordinates to the velocity in terrain-following coordinates.\n",
    "Luckily this is pretty easy to do by calculating the inverse of the transformation itself:\n",
    "$$\\begin{align}\n",
    "x_1 & = \\xi_1 \\\\\n",
    "x_2 & = \\xi_2 \\\\\n",
    "x_3 & = b(\\xi_1, \\xi_2) + \\frac{h(\\xi_1, \\xi_2)}{H}\\xi_3\n",
    "\\end{align}$$\n",
    "so we can compute directly that\n",
    "$$\\begin{align}\n",
    "\\frac{dx}{d\\xi} = \\left[\\begin{matrix}I & 0 \\\\ \\nabla b^\\top + \\xi_3\\nabla h^\\top/H & h/H\\end{matrix}\\right].\n",
    "\\end{align}$$\n",
    "It's worth thinking about the velocity field at a point on the bottom boundary assuming that a wind field tangential to the boundary.\n",
    "In Cartesian coordinates, the wind field has a non-zero vertical component, but in terrain-following coordinates it doesn't."
   ]
  },
  {
   "cell_type": "markdown",
   "id": "e47cdac2-53d9-4876-af75-9f7e3d4d6b50",
   "metadata": {},
   "source": [
    "#### Making a velocity field\n",
    "\n",
    "Once again, I'll make a divergence-free velocity field by taking a velocity potential $\\Psi$ and setting\n",
    "$$u_x = \\nabla_x\\times\\Psi = \\left(\\begin{matrix}-\\partial_{x_2}\\Psi \\\\ +\\partial_{x_1}\\Psi\\end{matrix}\\right).$$\n",
    "If $\\Psi$ is zero on the boundary, then the gradient of $\\Psi$ points away from the boundary and thus its curl is tangential to the boundary.\n",
    "We can further guarantee that $u$ is equal to zero on the boundary by taking $\\Psi = \\Upsilon^2$ for some function $\\Upsilon$ that is zero on the boundary.\n",
    "The code below creates the velocity potential and the velocity and plots them both."
   ]
  },
  {
   "cell_type": "code",
   "execution_count": null,
   "id": "30e7e038-891a-457b-abab-aa5189b3de12",
   "metadata": {},
   "outputs": [],
   "source": [
    "x = firedrake.SpatialCoordinate(physical_domain)\n",
    "\n",
    "expr = (x[0] * (1 - x[0]) * (1 - x[1]) * (x[1] - bed_topography(x[0]))) ** 2\n",
    "cg = firedrake.FiniteElement(\"CG\", \"quadrilateral\", 1)\n",
    "Ψ = firedrake.Function(Q_physical).interpolate(expr)"
   ]
  },
  {
   "cell_type": "code",
   "execution_count": null,
   "id": "add7b26b-2a3a-48f9-b33e-0c2f1f86b48d",
   "metadata": {},
   "outputs": [],
   "source": [
    "fig, ax = plt.subplots()\n",
    "colors = firedrake.tripcolor(Ψ, axes=ax)\n",
    "fig.colorbar(colors);"
   ]
  },
  {
   "cell_type": "code",
   "execution_count": null,
   "id": "a1f64fbd-9d28-4bcb-b775-febfe0515ba6",
   "metadata": {},
   "outputs": [],
   "source": [
    "grad_Ψ = firedrake.grad(expr)\n",
    "V_physical = firedrake.VectorFunctionSpace(physical_domain, cg)\n",
    "u_expr = firedrake.as_vector((-grad_Ψ[1], grad_Ψ[0]))\n",
    "u_x = firedrake.Function(V_physical).interpolate(u_expr)"
   ]
  },
  {
   "cell_type": "code",
   "execution_count": null,
   "id": "e1e0e9dc-48cf-42b8-bf55-effb61f292ff",
   "metadata": {},
   "outputs": [],
   "source": [
    "fig, ax = plt.subplots()\n",
    "ax.set_aspect(\"equal\")\n",
    "colors = firedrake.quiver(u_x, axes=ax)\n",
    "fig.colorbar(colors);"
   ]
  },
  {
   "cell_type": "markdown",
   "id": "2998b5c4-6e27-458a-8586-416092db0805",
   "metadata": {},
   "source": [
    "#### Transforming the velocity\n",
    "\n",
    "Now if we want to solve the advection-diffusion equation in terrain-following coordinates, we'll need to transform the velocity field.\n",
    "The formula I wrote above expressed the Cartesian velocity field $u_x$ as $J^{-1}u_\\xi$, but instead I started with the Cartesian velocity field and now I want the terrain-following one.\n",
    "This is just\n",
    "$$u_\\xi = Ju_x.$$\n",
    "We can implement this by transferring the raw data for the velocity field in Cartesian coordinates over the computational domain and then applying the inverse of the Jacobian pointwise.\n",
    "We could have also done this with the velocity potential but I won't.\n",
    "\n",
    "You might actually have to do this if you wanted to run a simulating in terrain-following coordinates but you got some velocity data in Cartesian coordinates from, say, a reanalysis product."
   ]
  },
  {
   "cell_type": "code",
   "execution_count": null,
   "id": "8d8536a0-ab75-41c6-bde0-cececad84f0c",
   "metadata": {},
   "outputs": [],
   "source": [
    "V_computational = firedrake.VectorFunctionSpace(computational_domain, cg)\n",
    "u_transfer = firedrake.Function(V_computational)\n",
    "u_transfer.dat.data[:] = u_x.dat.data_ro[:]\n",
    "u_ξ = firedrake.Function(V_computational).interpolate(dot(dξ_dx, u_transfer))"
   ]
  },
  {
   "cell_type": "code",
   "execution_count": null,
   "id": "9ca5d882-e240-4db0-8382-b44e6f8bfeb3",
   "metadata": {},
   "outputs": [],
   "source": [
    "fig, ax = plt.subplots()\n",
    "ax.set_aspect(\"equal\")\n",
    "colors = firedrake.quiver(u_ξ, axes=ax)\n",
    "fig.colorbar(colors);"
   ]
  },
  {
   "cell_type": "markdown",
   "id": "acbb91e4-f73b-4169-b7a4-2598345fd0bf",
   "metadata": {},
   "source": [
    "### Variational form and solution\n",
    "\n",
    "Now let's repeat the same exercise as above.\n",
    "Putting everything together, the variational form that we want to solve is\n",
    "$$\\int_\\Omega\\left\\{\\partial_tq\\cdot\\phi - qu_\\xi\\cdot\\nabla_\\xi\\phi + km\\nabla_\\xi q\\cdot\\nabla_\\xi\\phi\\right\\}g\\,dx = 0$$\n",
    "\n",
    "Here I'm going to set a different diffusion coefficient than the value I used before.\n",
    "I want to make the Péclet number large enough that the problem is advection-dominated.\n",
    "(Ask me what happens when there's no diffusion at all...)"
   ]
  },
  {
   "cell_type": "code",
   "execution_count": null,
   "id": "df5113c3-e0eb-4115-bc3b-857bbb214edc",
   "metadata": {},
   "outputs": [],
   "source": [
    "max_speed = np.abs(u_x.dat.data_ro).flatten().max()\n",
    "domain_size = 1.0\n",
    "peclet_number = 500.0\n",
    "\n",
    "diffusion_coefficient = max_speed * domain_size / peclet_number\n",
    "print(f\"Max speed:             {max_speed:.5e}\")\n",
    "print(f\"Diffusion coefficient: {diffusion_coefficient:.5e}\")\n",
    "k = Constant(diffusion_coefficient)"
   ]
  },
  {
   "cell_type": "code",
   "execution_count": null,
   "id": "00cbc348-af89-4169-9980-4fdc624eb576",
   "metadata": {},
   "outputs": [],
   "source": [
    "import irksome\n",
    "from irksome import Dt\n",
    "import tqdm"
   ]
  },
  {
   "cell_type": "code",
   "execution_count": null,
   "id": "f85b4070-f2bc-4142-963f-435d8a72f8f1",
   "metadata": {},
   "outputs": [],
   "source": [
    "x_0 = firedrake.Constant((0.25, 0.55))\n",
    "r = firedrake.Constant(0.25)\n",
    "q_expr = firedrake.exp(-inner(x - x_0, x - x_0) / r**2)\n",
    "\n",
    "q_physical = firedrake.Function(Q_physical)\n",
    "q_physical.interpolate(q_expr)\n",
    "\n",
    "q_computational = firedrake.Function(Q_computational)\n",
    "q_computational.dat.data[:] = q_physical.dat.data_ro[:]"
   ]
  },
  {
   "cell_type": "code",
   "execution_count": null,
   "id": "48759c41-2f2f-4af1-9b1e-096b9713b060",
   "metadata": {},
   "outputs": [],
   "source": [
    "final_time = 2 * domain_size / max_speed\n",
    "min_cell_size = physical_domain.cell_sizes.dat.data_ro.min()\n",
    "timestep = min_cell_size / max_speed / 8\n",
    "num_steps = int(final_time / timestep)\n",
    "\n",
    "print(f\"Final time: {final_time:.2f}\")\n",
    "print(f\"Timestep:   {timestep:.2f}\")"
   ]
  },
  {
   "cell_type": "markdown",
   "id": "47e48b6b-e72e-456b-b09a-dc0ddf7202d8",
   "metadata": {},
   "source": [
    "Once again, I'm wrapping up the important stuff in a function that I can reuse.\n",
    "The `degree=4` bit at the end of the form is to use a lower-order quadrature rule; without this, Firedrake will try to estimate the quadrature degree and will pick something ridiculous."
   ]
  },
  {
   "cell_type": "code",
   "execution_count": null,
   "id": "5ba87a68-029c-46c0-9a07-e9202dcb6058",
   "metadata": {},
   "outputs": [],
   "source": [
    "def solve_advection_diffusion(q_0, u, k, g, timestep, num_steps):\n",
    "    t = Constant(0.0)\n",
    "    dt = Constant(timestep)\n",
    "\n",
    "    Q = q_0.function_space()\n",
    "    q = q_0.copy(deepcopy=True)\n",
    "    ϕ = firedrake.TestFunction(Q)\n",
    "    F = (Dt(q) * ϕ - q * inner(u, grad(ϕ)) + inner(dot(k, grad(q)), grad(ϕ))) * g * dx(degree=4)\n",
    "    method = irksome.BackwardEuler()\n",
    "    solver = irksome.TimeStepper(F, method, t, dt, q)\n",
    "    \n",
    "    qs = [q.copy(deepcopy=True)]\n",
    "    for step in tqdm.trange(num_steps):\n",
    "        solver.advance()\n",
    "        qs.append(q.copy(deepcopy=True))\n",
    "\n",
    "    return qs"
   ]
  },
  {
   "cell_type": "code",
   "execution_count": null,
   "id": "470ccd7b-8aa4-4b42-ba31-247b8bbe1a47",
   "metadata": {},
   "outputs": [],
   "source": [
    "qs_physical = solve_advection_diffusion(q_physical, u_x, k * I, Constant(1.0), timestep, num_steps)\n",
    "qs_computational = solve_advection_diffusion(q_computational, u_ξ, k * m, h / H, timestep, num_steps)"
   ]
  },
  {
   "cell_type": "markdown",
   "id": "2b7b2f42-5aab-4ba9-914e-96a264b93eda",
   "metadata": {},
   "source": [
    "Now we can transfer all the results using terrain-following coordinates over onto the physical domain."
   ]
  },
  {
   "cell_type": "code",
   "execution_count": null,
   "id": "7af5a3ac-f5ed-4d82-a2a1-89165e14b968",
   "metadata": {},
   "outputs": [],
   "source": [
    "q_transfer = firedrake.Function(Q_physical)\n",
    "qs_transferred = []\n",
    "for q in qs_computational:\n",
    "    q_transfer.dat.data[:] = q.dat.data_ro[:]\n",
    "    qs_transferred.append(q_transfer.copy(deepcopy=True))"
   ]
  },
  {
   "cell_type": "markdown",
   "id": "1db0c9fb-c22a-431e-868c-3b1cae40aaaf",
   "metadata": {},
   "source": [
    "And finally make a movie of them both."
   ]
  },
  {
   "cell_type": "code",
   "execution_count": null,
   "id": "34333123-65f7-4707-af85-6f3aef88cc5b",
   "metadata": {},
   "outputs": [],
   "source": [
    "%%capture\n",
    "\n",
    "from matplotlib.animation import FuncAnimation\n",
    "\n",
    "fig, axes = plt.subplots(nrows=1, ncols=2, sharex=True, sharey=True)\n",
    "for ax in axes:\n",
    "    ax.set_aspect(\"equal\")\n",
    "    ax.get_xaxis().set_visible(False)\n",
    "    ax.get_yaxis().set_visible(False)\n",
    "\n",
    "axes[0].set_title(\"Physical\")\n",
    "axes[1].set_title(\"Terrain-following\")\n",
    "\n",
    "kw = {\"vmin\": 0.0, \"vmax\": 1.0, \"num_sample_points\": 4}\n",
    "colors_physical = firedrake.tripcolor(qs_physical[0], axes=axes[0], **kw)\n",
    "colors_computational = firedrake.tripcolor(qs_transferred[0], axes=axes[1], **kw)\n",
    "\n",
    "fn_plotter = firedrake.FunctionPlotter(physical_domain, num_sample_points=4)\n",
    "def animate(pair):\n",
    "    q_phys, q_comp = pair\n",
    "    colors_physical.set_array(fn_plotter(q_phys))\n",
    "    colors_computational.set_array(fn_plotter(q_comp))\n",
    "\n",
    "animation = FuncAnimation(fig, animate, zip(qs_physical, qs_transferred), interval=1e3/20)"
   ]
  },
  {
   "cell_type": "markdown",
   "id": "628540ca-675a-4b71-9edd-6f0ef1b9cfba",
   "metadata": {},
   "source": [
    "In the eyeball norm they look about the same."
   ]
  },
  {
   "cell_type": "code",
   "execution_count": null,
   "id": "843b4a5b-90cb-4f09-bb9e-448c01af9420",
   "metadata": {},
   "outputs": [],
   "source": [
    "from IPython.display import HTML\n",
    "HTML(animation.to_html5_video())"
   ]
  },
  {
   "cell_type": "code",
   "execution_count": null,
   "id": "d6b9b850-31f8-458d-8185-c097502b0491",
   "metadata": {},
   "outputs": [],
   "source": [
    "differences = np.array(\n",
    "    [\n",
    "        firedrake.assemble(abs(q_1 - q_2) * dx)\n",
    "        for q_1, q_2 in zip(qs_physical, qs_transferred)\n",
    "    ]\n",
    ")"
   ]
  },
  {
   "cell_type": "markdown",
   "id": "2b2e254c-cbfe-424b-a902-ca4cc9f730d0",
   "metadata": {},
   "source": [
    "If we plot the relative errors, they remain below 0.2% throughout."
   ]
  },
  {
   "cell_type": "code",
   "execution_count": null,
   "id": "10055f85-c376-4c25-918c-1eedafb40cc7",
   "metadata": {},
   "outputs": [],
   "source": [
    "times = np.linspace(0, final_time, num_steps + 1)\n",
    "fig, ax = plt.subplots()\n",
    "ax.set_xlabel(\"time\")\n",
    "ax.set_ylabel(\"relative difference\")\n",
    "ax.plot(times, differences / firedrake.assemble(q_expr * dx));"
   ]
  }
 ],
 "metadata": {
  "kernelspec": {
   "display_name": "firedrake",
   "language": "python",
   "name": "firedrake"
  },
  "language_info": {
   "codemirror_mode": {
    "name": "ipython",
    "version": 3
   },
   "file_extension": ".py",
   "mimetype": "text/x-python",
   "name": "python",
   "nbconvert_exporter": "python",
   "pygments_lexer": "ipython3",
   "version": "3.11.5"
  }
 },
 "nbformat": 4,
 "nbformat_minor": 5
}

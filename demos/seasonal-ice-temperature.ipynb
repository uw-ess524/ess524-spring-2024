{
 "cells": [
  {
   "cell_type": "code",
   "execution_count": null,
   "id": "afd05140-615a-4153-b635-272df0135407",
   "metadata": {},
   "outputs": [],
   "source": [
    "import numpy as np\n",
    "from numpy import pi as π\n",
    "import matplotlib.pyplot as plt\n",
    "from matplotlib.animation import FuncAnimation\n",
    "from IPython.display import HTML\n",
    "import firedrake\n",
    "from firedrake import Constant, inner, grad, dx as dz, ds"
   ]
  },
  {
   "cell_type": "markdown",
   "id": "229d72ad-509c-4e9a-9670-99d23bf6c42e",
   "metadata": {},
   "source": [
    "Before we do anything with Firedrake, we're going to define what the surface temperature forcing should be.\n",
    "Then we'll plot it in order to make sure it's doing what we want.\n",
    "The signal we want is\n",
    "$$T_{\\text{surf}}(t) = \\overline{T} + \\delta T\\cdot\\sin\\left(\\frac{2\\pi t}{1\\text{ year}} + \\phi\\right)$$\n",
    "where $\\phi$ is a phase shift.\n",
    "The mean temperature $\\overline{T}$ will be -50C and the amplitude variation $\\delta T$ will be +/-30C.\n",
    "We want it to start at the minimum temperature, so the phase shift will be $3\\pi/2$."
   ]
  },
  {
   "cell_type": "code",
   "execution_count": null,
   "id": "e93e34bc-8a53-4169-b6f3-896c0da1e2e5",
   "metadata": {},
   "outputs": [],
   "source": [
    "year = 365.25 * 24 * 60 * 60\n",
    "T_mean = -50.0\n",
    "δT = 30.0\n",
    "ϕ = 3 * π / 2\n",
    "\n",
    "def surface_temperature(t):\n",
    "    return T_mean + δT * np.sin(2 * π * t / year + ϕ)"
   ]
  },
  {
   "cell_type": "code",
   "execution_count": null,
   "id": "1d12f83e-9de7-4be7-a8dd-c0fef69a29d6",
   "metadata": {},
   "outputs": [],
   "source": [
    "num_times = 256\n",
    "ts = np.linspace(0.0, 2 * year, num_times + 1)\n",
    "fig, ax = plt.subplots()\n",
    "ax.set_xlabel(\"time (years)\")\n",
    "ax.set_ylabel(\"temperature (${}^\\circ$C)\")\n",
    "ax.plot(ts / year, surface_temperature(ts));"
   ]
  },
  {
   "cell_type": "markdown",
   "id": "e8a7c289-f049-4805-afc3-2c10e25aaa20",
   "metadata": {},
   "source": [
    "Create an initial interval mesh with 16 cells."
   ]
  },
  {
   "cell_type": "code",
   "execution_count": null,
   "id": "87831b70-0488-49b0-ad71-68a9464a2549",
   "metadata": {},
   "outputs": [],
   "source": [
    "nz = 16\n",
    "Lz = 200.0\n",
    "mesh = firedrake.IntervalMesh(nz, Lz)"
   ]
  },
  {
   "cell_type": "markdown",
   "id": "e92a5875-462e-4262-b894-2e163715a05c",
   "metadata": {},
   "source": [
    "We'll use degree-1 continuous Galerkin (CG) finite elements to start.\n",
    "Later we can try higher degree."
   ]
  },
  {
   "cell_type": "code",
   "execution_count": null,
   "id": "35e06cdd-e2a6-41c1-a8e9-0bda6c9e0108",
   "metadata": {},
   "outputs": [],
   "source": [
    "element = firedrake.FiniteElement(\"CG\", \"interval\", 1)\n",
    "V = firedrake.FunctionSpace(mesh, element)"
   ]
  },
  {
   "cell_type": "markdown",
   "id": "be0aef46-d88e-4d24-824e-83cfa4e00703",
   "metadata": {},
   "source": [
    "These variables are `Constant`, which means they don't depend on the spatial coordinate of the domain, but they can vary in time.\n",
    "It's a good idea to wrap a lot of physical parameters in `Constant` because otherwise the raw floating point value gets hard-coded into the generated C code."
   ]
  },
  {
   "cell_type": "code",
   "execution_count": null,
   "id": "3eaa4a3a-3954-46a5-8aaf-22ee57b01bb1",
   "metadata": {},
   "outputs": [],
   "source": [
    "T_basal = Constant(T_mean + δT)\n",
    "T_surface = Constant(T_mean - δT)"
   ]
  },
  {
   "cell_type": "markdown",
   "id": "a0d18aab-3c0d-45de-b2d1-32d5f7257ca4",
   "metadata": {},
   "source": [
    "The return value from the `SpatialCoordinate` function works similarly to a sympy symbol -- we can form more complex algebraic expressions out of it to use later.\n",
    "Here we make the initial temperature a linear function of depth."
   ]
  },
  {
   "cell_type": "code",
   "execution_count": null,
   "id": "f65791fe-08f1-49b5-9941-eeef60c2d64b",
   "metadata": {},
   "outputs": [],
   "source": [
    "z, = firedrake.SpatialCoordinate(mesh)\n",
    "\n",
    "T = firedrake.Function(V)\n",
    "lz = Constant(Lz)\n",
    "T.interpolate(T_basal * (1 - z / lz) + T_surface * z / lz)"
   ]
  },
  {
   "cell_type": "code",
   "execution_count": null,
   "id": "0ad4caca-62ff-45af-9775-ed57f8b7ab0f",
   "metadata": {},
   "outputs": [],
   "source": [
    "fig, ax = plt.subplots()\n",
    "firedrake.plot(T, axes=ax)\n",
    "ax.set_xlabel(\"depth (m)\")\n",
    "ax.set_ylabel(\"temperature (${}^\\circ$C)\");"
   ]
  },
  {
   "cell_type": "markdown",
   "id": "c2ae1e36-2708-4cff-8797-5338a872b28a",
   "metadata": {},
   "source": [
    "Next we'll choose the total time and timestep.\n",
    "I picked these sort of arbitrarily.\n",
    "We'll talk about how to choose them in class."
   ]
  },
  {
   "cell_type": "code",
   "execution_count": null,
   "id": "e57d20fc-2f0d-4cce-9590-94bafa6ca36e",
   "metadata": {},
   "outputs": [],
   "source": [
    "final_time = 30 * year\n",
    "timestep = year / 24\n",
    "num_steps = int(final_time / timestep)"
   ]
  },
  {
   "cell_type": "markdown",
   "id": "40517af8-c94c-49f8-a7e1-b7b6a9c50b5f",
   "metadata": {},
   "source": [
    "Some physical constants for ice."
   ]
  },
  {
   "cell_type": "code",
   "execution_count": null,
   "id": "722f4a5c-b58b-45cc-862f-3b7e435862b4",
   "metadata": {},
   "outputs": [],
   "source": [
    "ρ = Constant(917.0)    # kg / m^3\n",
    "c = Constant(2.18)     # kJ / kg C\n",
    "k = Constant(2.22e-3)  # kW / m C"
   ]
  },
  {
   "cell_type": "markdown",
   "id": "e4470d3d-e482-40b6-9c46-3c35d3bf33a3",
   "metadata": {},
   "source": [
    "Now the weak form of the time-dependent problem: find (at each timestep) a temperature field $T$ such that, for all test functions $\\psi$ in our basis set,\n",
    "$$\\int_0^{L_z}\\left(\\rho c(T - T_n)\\cdot\\psi + \\delta t\\cdot k\\nabla T\\cdot\\nabla\\psi\\right)dz = 0$$\n",
    "subject to the boundary conditions $T|_{z = 0} = T_{\\text{basal}}$ and $T|_{z = L_z} = T_{\\text{surface}}$."
   ]
  },
  {
   "cell_type": "code",
   "execution_count": null,
   "id": "17b7cbe2-9509-4b6c-abbe-19c472614142",
   "metadata": {},
   "outputs": [],
   "source": [
    "δt = Constant(timestep)\n",
    "\n",
    "ψ = firedrake.TestFunction(V)\n",
    "T_n = firedrake.Function(V)\n",
    "T_n.assign(T)\n",
    "F = (ρ * c * (T - T_n) * ψ + δt * k * inner(grad(T), grad(ψ))) * dz"
   ]
  },
  {
   "cell_type": "markdown",
   "id": "f0d159a6-7ff9-4093-9ef6-2a953002c1d6",
   "metadata": {},
   "source": [
    "Since we're fixing the values of $T$, the boundary conditions need to be imposed in the linear system (essential) as opposed to in the variational form (natural).\n",
    "Here we create them explicitly."
   ]
  },
  {
   "cell_type": "code",
   "execution_count": null,
   "id": "9d3666fa-8d50-4f18-b678-4986e7835c32",
   "metadata": {},
   "outputs": [],
   "source": [
    "bc1 = firedrake.DirichletBC(V, T_basal, [1])\n",
    "bc2 = firedrake.DirichletBC(V, T_surface, [2])\n",
    "bcs = [bc1, bc2]"
   ]
  },
  {
   "cell_type": "markdown",
   "id": "03a9e0f8-7b3a-4993-a3ec-2ccfbd594342",
   "metadata": {},
   "source": [
    "And the timestepping loop.\n",
    "When we `.assign` a value to `T_surface`, the surface boundary condition object sees the change."
   ]
  },
  {
   "cell_type": "code",
   "execution_count": null,
   "id": "afde3484-6e69-4b12-b7fa-1493b57ea2e8",
   "metadata": {},
   "outputs": [],
   "source": [
    "Ts = [T.copy(deepcopy=True)]\n",
    "t = 0.0\n",
    "for step in range(num_steps):\n",
    "    t += timestep\n",
    "    T_surface.assign(surface_temperature(t))\n",
    "    firedrake.solve(F == 0, T, bcs)\n",
    "    T_n.assign(T)\n",
    "    Ts.append(T.copy(deepcopy=True))"
   ]
  },
  {
   "cell_type": "markdown",
   "id": "b4839bbf-d2a0-4466-a41d-d6a8c1eb3a58",
   "metadata": {},
   "source": [
    "And a movie.\n",
    "Do you think we had a good enough discretization to start?"
   ]
  },
  {
   "cell_type": "code",
   "execution_count": null,
   "id": "e9e53262-9302-4e68-9467-3cbc17071a48",
   "metadata": {},
   "outputs": [],
   "source": [
    "%%capture\n",
    "\n",
    "fig, ax = plt.subplots()\n",
    "firedrake.plot(Ts[0], axes=ax)\n",
    "\n",
    "def animate(T):\n",
    "    ax.cla()\n",
    "    firedrake.plot(T, axes=ax)\n",
    "    ax.set_ylim((T_mean - δT, T_mean + δT))\n",
    "    ax.set_xlabel(\"depth (m)\")\n",
    "    ax.set_ylabel(\"temperature (${}^\\circ$C)\")\n",
    "\n",
    "from matplotlib.animation import FuncAnimation\n",
    "animation = FuncAnimation(fig, animate, Ts, interval=1e3/24)"
   ]
  },
  {
   "cell_type": "code",
   "execution_count": null,
   "id": "1f7190ed-d9fc-494d-ae06-571e69d5b006",
   "metadata": {},
   "outputs": [],
   "source": [
    "from IPython.display import HTML\n",
    "HTML(animation.to_html5_video())"
   ]
  },
  {
   "cell_type": "markdown",
   "id": "89d3e2f8-497d-441f-8abc-1ee876a6125b",
   "metadata": {},
   "source": [
    "### Things to try\n",
    "\n",
    "Wrap the code that creates the temperature time series in a Python function so that you can call it repeatedly with, say, different meshes or polynomial degrees.\n",
    "Run this again with double the resolution (i.e. take `nz` to be 32 or 64 instead of 16).\n",
    "Run it again with quadratic or cubic finite elements instead of linear elements.\n",
    "Run it with a smaller timestep.\n",
    "In whichever case you choose, compare the coarser to the finer solution somehow.\n",
    "\n",
    "Try altering the boundary conditions to use, say, Robin conditions (proportional gradient) instead of Dirichlet (fixed value) conditions.\n",
    "Generate a time series for both and see how they compare.\n",
    "Use two different values of the exchange coefficient with Robin conditions and see how the solutions differ."
   ]
  }
 ],
 "metadata": {
  "kernelspec": {
   "display_name": "firedrake",
   "language": "python",
   "name": "firedrake"
  },
  "language_info": {
   "codemirror_mode": {
    "name": "ipython",
    "version": 3
   },
   "file_extension": ".py",
   "mimetype": "text/x-python",
   "name": "python",
   "nbconvert_exporter": "python",
   "pygments_lexer": "ipython3",
   "version": "3.11.5"
  }
 },
 "nbformat": 4,
 "nbformat_minor": 5
}

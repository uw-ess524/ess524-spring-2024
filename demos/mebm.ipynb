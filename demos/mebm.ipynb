{
 "cells": [
  {
   "cell_type": "code",
   "execution_count": null,
   "id": "c4a4bf75-9a50-4814-b708-a495f55fd1bf",
   "metadata": {},
   "outputs": [],
   "source": [
    "import numpy as np\n",
    "import firedrake\n",
    "from firedrake import Constant, inner, grad, dx\n",
    "import matplotlib.pyplot as plt"
   ]
  },
  {
   "cell_type": "markdown",
   "id": "c4dbc247-b51d-4392-8070-8b98f17353a9",
   "metadata": {},
   "source": [
    "## Energy balance models\n",
    "\n",
    "This demonstration is based on *energy balance models*.\n",
    "Specifically, we will be looking at three different papers:\n",
    "* [North et al. (1981), Energy balance climate models](https://doi.org/10.1029/RG019i001p00091)\n",
    "* [Flannery (1984), Energy Balance Models Incorporating Transport of Thermal and Latent Energy](https://doi.org/10.1175/1520-0469(1984)041<0414:EBMITO>2.0.CO;2)\n",
    "* [Roe et al. (2015), The remote impacts of climate feedbacks on regional climate predictability](https://doi.org/10.1038/ngeo2346)\n",
    "\n",
    "These models aim to describe how the temperature distribution $T$ of the earth varies with latitude, averaging over any variation in the longitudinal direction.\n",
    "They include at least three effects:\n",
    "* Latitudinal transport of heat, which we assume is diffusive.\n",
    "* Absorption of solar radiation, which depends on both insolation and the albedo or reflectivity of the earth.\n",
    "* Emittance of longwave radiation from earth, which is temperature-dependent through the [Planck law](https://en.wikipedia.org/wiki/Planck%27s_law).\n",
    "\n",
    "We'll start with the most simplified version of each of these effects and then build up in complexity.\n",
    "A word of warning: the paper by Flannery prefers to describe spatial dependence of the coefficients in the problem as polynomials in $x$, while the paper by North and others prefers to describe spatial dependence in terms of Legendre polynomials.\n",
    "You may have to convert back and forth at times.\n",
    "\n",
    "#### Net balance\n",
    "\n",
    "The total balance equation states that the flow of heat into and out of a given latitude band has to be balanced by the sum of heat energy coming in and heat energy lost to space.\n",
    "If $F$ is the heat flux, then the conservation form of our problem is\n",
    "$$F(x_2) - F(x_1) = \\int_{x_1}^{x_2}(a\\cdot S - I)dx$$\n",
    "where $S$ is the solar radiation hitting the earth, $I$ is the emission of longwave radiation.\n",
    "The coalbedo $a$ dictates how much of the solar radiation is actually absorbed; some will be reflected.\n",
    "**Exercise**: derive the differential and variational forms of this problem.\n",
    "\n",
    "#### Diffusive transport\n",
    "\n",
    "Rather than use the latitude itself as the coordinate, these models use the sine of the latitude, which we'll write as $x$.\n",
    "This choice of coordinate system means that the expressions for differential operators have to change.\n",
    "First, the easy part: if $F$ is the heat flux, then\n",
    "$$\\nabla\\cdot F = \\frac{dF}{dx}.$$\n",
    "The challenging part is what has to happen to the temperature gradient:\n",
    "$$\\nabla T = (1 - x^2)\\frac{dT}{dx}.$$\n",
    "Again, this extra factor of $1 - x^2$ is because of the transformation to spherical coordinates.\n",
    "We'll assume at first that the heat flux is proportional to the temperature gradient:\n",
    "$$F = -D\\nabla T$$\n",
    "for some constant coefficient $D$.\n",
    "In real applications, we obtain this coefficient by fitting to a combination of global circulation model output and remote sensing data.\n",
    "\n",
    "Treating heat transport as diffusive is a huge simplification of the general circulation of the ocean and atmosphere.\n",
    "These simplified models nonetheless have their uses in describing the bulk behavior of the climate.\n",
    "\n",
    "#### Outgoing longwave radiation\n",
    "\n",
    "The earth loses heat to space by emission of infrared or longwave radiation.\n",
    "The hotter the earth surface is, the more energetic the longwave emissions.\n",
    "The magnitude of the longwave emissions and their temperature sensitivity can be estimated from observational data, giving\n",
    "$$I(T) = A + BT$$\n",
    "where A = 203.3 W/m${}^2$ and B = 2.09 W/(m${}^2\\; {}^{\\circ}$C).\n",
    "Quoting North et al. 1981, these coefficients are effectively including many complex processes including clouds, infrared-absorbing gases, etc.\n",
    "\n",
    "#### Incoming shortwave radiation\n",
    "\n",
    "The earth gains heat from solar radiation, but some amount of this radiation is reflected back to space.\n",
    "We can approximate the solar input by a parabola (equation 3 in Flannery):\n",
    "$$S(x) = Q(s_0 - s_2x^2)$$\n",
    "where Q = 334 W/m${}^2$, s${}_0$ = 1.246, and s${}_2$ = 0.738.\n",
    "\n",
    "Next, we need to prescribe the co-albedo $a$; the total heat absorbed is equal to $a\\cdot S$.\n",
    "For starters, we can take observed values (equation 18 in North et al, converted to the monomial basis):\n",
    "$$a(x) = a_0 - a_2x^2$$\n",
    "where a${}_0$ = 0.782, a${}_2$ = 0.303.\n",
    "\n",
    "A lot of the interesting physics is wrapped up in the co-albedo.\n",
    "In particular, the co-albedo is much lower over icy surfaces than over land or ocean -- in other words, $a$ really depends on $T$, which makes the problem nonlinear.\n",
    "We'll start with the observed values first and then work our way to the nonlinear case."
   ]
  },
  {
   "cell_type": "markdown",
   "id": "e0f8f16a-b71f-4c35-a492-0934dbf0f5ea",
   "metadata": {},
   "source": [
    "## All together now\n",
    "\n",
    "The equation we wish to solve has the conservation form\n",
    "$$-D(1 - x^2)\\frac{dT}{dx}\\Bigg|_{x_1}^{x_2} + \\int_{x_1}^{x_2}(A + BT - aS)dx = 0$$\n",
    "for any latitude band $x_1$, $x_2$.\n",
    "Using the procedure that I showed in class, this problem then has the variational form\n",
    "$$\\int_{-1}^1\\left\\{D(1 - x^2)\\frac{dT}{dx}\\frac{d\\phi}{dx} + (A + BT - aS)\\phi\\right\\}dx = 0$$\n",
    "for all test functions $\\phi$.\n",
    "The coalbedo and insolation are\n",
    "$$a = a_0 - a_2x^2$$\n",
    "and\n",
    "$$S = Q(s_0 - s_2x^2).$$\n",
    "The remaining physical constants and their units are in the table below.\n",
    "\n",
    "| Name    | Symbol    | Value\n",
    "| ------- | --------- | --------------\n",
    "| diffusivity | $D$ | 0.649 W/m${}^2$/${}^\\circ$C\n",
    "| solar constant | $Q$ | 334 W/m${}^2$\n",
    "| solar flux at eq | $s_0$ | 1.246 \n",
    "| solar flux curvature | $s_2$ | 0.738\n",
    "| coalbedo at eq | $a_0$ | 0.782\n",
    "| coalbedo curvature | $a_2$ | 0.303\n",
    "| longwave mean | $A$ | 205 W/m${}^2$\n",
    "| longwave $T$ sensitivity | $B$| 2.23 W/m${}^2$/${}^\\circ$C\n",
    "\n",
    "Here I've made a Python dictionary containing all the physical constants below.\n",
    "This isn't strictly speaking necessary, but it is good practice to have a *single source of truth* when coding things like this -- all the important input data is in one place rather than scattered everywhere, so you can be sure that none of it gets modified accidentally."
   ]
  },
  {
   "cell_type": "code",
   "execution_count": null,
   "id": "50450e31-4e4a-4fed-afed-f809eb636b11",
   "metadata": {},
   "outputs": [],
   "source": [
    "physical_constants = {\n",
    "    \"diffusivity\": 0.649,\n",
    "    \"solar_constant\": 334,\n",
    "    \"solar_flux_equator\": 1.246,\n",
    "    \"solar_flux_curvature\": 0.738,\n",
    "    \"coalbedo_equator\": 0.782,\n",
    "    \"coalbedo_curvature\": 0.303,\n",
    "    \"mean_longwave\": 205,\n",
    "    \"longwave_sensitivity\": 2.23,\n",
    "}"
   ]
  },
  {
   "cell_type": "markdown",
   "id": "67326b57-8715-4e27-bc17-482857b6ee40",
   "metadata": {},
   "source": [
    "First, we have to create the geometry of the problem we wish to solve."
   ]
  },
  {
   "cell_type": "code",
   "execution_count": null,
   "id": "3359eb8d-9866-49f8-869e-264702e87ca5",
   "metadata": {},
   "outputs": [],
   "source": [
    "num_cells = 64\n",
    "mesh = firedrake.IntervalMesh(num_cells, -1, +1)"
   ]
  },
  {
   "cell_type": "markdown",
   "id": "9a4ab143-74b6-4933-b249-44aa6a80e723",
   "metadata": {},
   "source": [
    "Next we need to choose what basis functions we wish to use to describe the numerical solution.\n",
    "Here I've chosen a higher-order element family (we'll talk about this more in class).\n",
    "You might notice in the original papers that they use the basis of Legendre polynomials, which you might remember from when we talked about higher-order collocation methods."
   ]
  },
  {
   "cell_type": "code",
   "execution_count": null,
   "id": "0bc60e4e-afcd-4eae-bff7-035e00ad83d8",
   "metadata": {},
   "outputs": [],
   "source": [
    "degree = 4\n",
    "element = firedrake.FiniteElement(\"Gauss-Lobatto-Legendre\", \"interval\", degree)\n",
    "V = firedrake.FunctionSpace(mesh, element)"
   ]
  },
  {
   "cell_type": "markdown",
   "id": "a7de223c-bef1-4102-973a-cc055d3be8db",
   "metadata": {},
   "source": [
    "Now we'll create all the physical parameters: the outgoing longwave radiation, the incoming shortwave radiation, the coalbedo, and the absorbed shortwave."
   ]
  },
  {
   "cell_type": "code",
   "execution_count": null,
   "id": "8e93b1c2-5594-4c27-a277-e0ca7c68df27",
   "metadata": {},
   "outputs": [],
   "source": [
    "x, = firedrake.SpatialCoordinate(mesh)\n",
    "T = firedrake.Function(V)\n",
    "\n",
    "D = Constant(physical_constants[\"diffusivity\"])\n",
    "\n",
    "A = Constant(physical_constants[\"mean_longwave\"])\n",
    "B = Constant(physical_constants[\"longwave_sensitivity\"])\n",
    "I = A + B * T\n",
    "\n",
    "Q = Constant(physical_constants[\"solar_constant\"])\n",
    "s_0 = Constant(physical_constants[\"solar_flux_equator\"])\n",
    "s_2 = Constant(physical_constants[\"solar_flux_curvature\"])\n",
    "S = Q * (s_0 - s_2 * x**2)\n",
    "\n",
    "a_0 = Constant(physical_constants[\"coalbedo_equator\"])\n",
    "a_2 = Constant(physical_constants[\"coalbedo_curvature\"])\n",
    "a = a_0 - a_2 * x**2"
   ]
  },
  {
   "cell_type": "markdown",
   "id": "8e00159e-0096-4352-a9fe-fcfec40e169d",
   "metadata": {},
   "source": [
    "And finally we'll create the variational form of the problem.\n",
    "Observe again how similar it looks to the math."
   ]
  },
  {
   "cell_type": "code",
   "execution_count": null,
   "id": "11989eaa-9cd5-41bc-a092-461a6dc7ebe7",
   "metadata": {},
   "outputs": [],
   "source": [
    "ϕ = firedrake.TestFunction(V)\n",
    "F = (\n",
    "    (1 - x**2) * D * inner(grad(T), grad(ϕ)) + (I - a * S) * ϕ\n",
    ") * dx"
   ]
  },
  {
   "cell_type": "markdown",
   "id": "f3927137-5d90-4152-b223-3a18bb98400b",
   "metadata": {},
   "source": [
    "We don't have to explicitly impose any boundary conditions here; you should think about why that is."
   ]
  },
  {
   "cell_type": "code",
   "execution_count": null,
   "id": "9c24952c-cde3-402d-b43b-ce1fb81d5101",
   "metadata": {},
   "outputs": [],
   "source": [
    "firedrake.solve(F == 0, T)"
   ]
  },
  {
   "cell_type": "markdown",
   "id": "a8be52cf-28d0-4427-a187-f34adca3351d",
   "metadata": {},
   "source": [
    "The results reproduce the temperatures in the original North paper and are roughly in line with the real values, which suggests that we actually did this correctly."
   ]
  },
  {
   "cell_type": "code",
   "execution_count": null,
   "id": "b4b22f0d-63b4-4f0f-8f67-47e38bc12814",
   "metadata": {},
   "outputs": [],
   "source": [
    "fig, ax = plt.subplots()\n",
    "firedrake.plot(T, axes=ax);"
   ]
  },
  {
   "cell_type": "markdown",
   "id": "dc5024be-8980-4635-b60b-7705f4921766",
   "metadata": {},
   "source": [
    "## Ice-albedo feedback\n",
    "\n",
    "Before, we used the average coalbedo of the earth today, which includes icy regions.\n",
    "The real coalbedo depends on temperature.\n",
    "When the annual average temperature is below 0C, you can expect this part of the earth to be ice-covered.\n",
    "Ice is much more reflective than land or open ocean, so including this effect makes the problem nonlinear:\n",
    "$$a(x, T) = \\begin{cases}a_0 - a_2x^2 & T > T_s \\\\ b_0 & T < T_s\\end{cases}$$\n",
    "where $T_s$ is a critical temperature -- which might be different from 0C -- and $b_0$ is coalbedo of ice.\n",
    "See equation 5 in Flannery.\n",
    "\n",
    "| Name | Symbol | Value\n",
    "| ---- | ------ | -----\n",
    "| critical temp | $T_s$ | -10${}^\\circ$C\n",
    "| ice coalbedo | $b_0$ | 0.380\n",
    "\n",
    "We'll solve this using a basic iterative method.\n",
    "Before, we had to solve a linear system $L\\hat T = f$ for the coefficients $\\hat T$.\n",
    "The nonlinear system we have to solve now, including ice-albedo feedback, has the form\n",
    "$$L\\hat T = f(\\hat T).$$\n",
    "We can approximate it by instead solving\n",
    "$$L\\hat T_{k + 1} = f(\\hat T_k),$$\n",
    "which only involves solving a linear system at each step.\n",
    "\n",
    "Below, I've rewritten the expression to compute the right-hand side so that it includes the ice-albedo feedback.\n",
    "To do this, I used the function firedrake.conditional."
   ]
  },
  {
   "cell_type": "code",
   "execution_count": null,
   "id": "feefb82d-0e0e-46d4-b11d-5251e34cd9f5",
   "metadata": {},
   "outputs": [],
   "source": [
    "help(firedrake.conditional)"
   ]
  },
  {
   "cell_type": "code",
   "execution_count": null,
   "id": "e5c301c0-c618-447d-b3c7-0a2ca7845e4b",
   "metadata": {},
   "outputs": [],
   "source": [
    "physical_constants.update(\n",
    "    {\n",
    "        \"critical_temp\": -10.0,\n",
    "        \"ice_coalbedo\": 0.380,\n",
    "    }\n",
    ")\n",
    "\n",
    "T_c = Constant(physical_constants[\"critical_temp\"])\n",
    "a_0 = Constant(physical_constants[\"coalbedo_equator\"])\n",
    "b_0 = Constant(physical_constants[\"ice_coalbedo\"])\n",
    "\n",
    "T_n = T.copy(deepcopy=True)\n",
    "a = firedrake.conditional(T_n <= T_c, b_0, a_0 - a_2 * x**2)\n",
    "\n",
    "I = A + B * T\n",
    "F = (\n",
    "    (1 - x**2) * D * inner(grad(T), grad(ϕ)) + (I - a * S) * ϕ\n",
    ") * dx"
   ]
  },
  {
   "cell_type": "markdown",
   "id": "3b22237f-54da-44f3-b67e-96cc87aca900",
   "metadata": {},
   "source": [
    "Here I did 10 steps of an iterative method to compute the steady-state temperature.\n",
    "It's mostly converged after the 3rd stpe."
   ]
  },
  {
   "cell_type": "code",
   "execution_count": null,
   "id": "271571cb-f274-49eb-8eb1-d512cdd7983c",
   "metadata": {},
   "outputs": [],
   "source": [
    "Ts = [T.copy(deepcopy=True)]\n",
    "num_steps = 10\n",
    "for step in range(num_steps):\n",
    "    firedrake.solve(F == 0, T)\n",
    "    T_n.assign(T)\n",
    "    Ts.append(T.copy(deepcopy=True))"
   ]
  },
  {
   "cell_type": "code",
   "execution_count": null,
   "id": "c775715d-4f3a-426d-986a-234c316e0ebb",
   "metadata": {},
   "outputs": [],
   "source": [
    "[firedrake.norm(Ts[n + 1] - Ts[n]) for n in range(num_steps - 1)]"
   ]
  },
  {
   "cell_type": "markdown",
   "id": "48f61f33-3edb-45b2-8dca-182d3f66e6b9",
   "metadata": {},
   "source": [
    "The plot below shows the first three iterations."
   ]
  },
  {
   "cell_type": "code",
   "execution_count": null,
   "id": "2293cded-00b2-4163-a82a-ad5f93e9eacd",
   "metadata": {},
   "outputs": [],
   "source": [
    "fig, ax = plt.subplots()\n",
    "coordinates = mesh.coordinates.dat.data_ro[:]\n",
    "ax.scatter(coordinates, physical_constants[\"critical_temp\"] * np.ones_like(coordinates), 0.5, color=\"tab:grey\")\n",
    "firedrake.plot(Ts[0], axes=ax, edgecolor=\"tab:blue\", label=\"0\")\n",
    "firedrake.plot(Ts[1], axes=ax, edgecolor=\"tab:green\", label=\"1\")\n",
    "firedrake.plot(Ts[2], axes=ax, edgecolor=\"tab:orange\", label=\"2\")\n",
    "ax.legend();"
   ]
  },
  {
   "cell_type": "markdown",
   "id": "a26ad0c8-1017-4343-8975-02b43548c44e",
   "metadata": {},
   "source": [
    "### Some things to try\n",
    "\n",
    "See how sensitive the solutions are to changes in the parameters.\n",
    "Try a time-dependent version and slowly change, say, the longwave feedback.\n",
    "You could also vary one of the parameters stochastically in time and space and see what the excursions in temperature look like.\n",
    "With the ice-albedo feedback, can you get a snowball earth?\n",
    "Gerard has a version that includes moisture and the Clausius-Clapeyron effect.\n",
    "You could try this on the sphere and change the coalbedo for land surfaces vs ocean.\n",
    "Aaron Donohoe tells me you'd want to make the diffusivity much higher in the meridional direction.\n",
    "Aaron also said you could write a paper off of this.\n",
    "Any of the above would be suitable as a project.\n",
    "For more inspiration, see [North and Kim](https://www.wiley.com/en-us/Energy+Balance+Climate+Models-p-9783527411320)."
   ]
  }
 ],
 "metadata": {
  "kernelspec": {
   "display_name": "firedrake",
   "language": "python",
   "name": "firedrake"
  },
  "language_info": {
   "codemirror_mode": {
    "name": "ipython",
    "version": 3
   },
   "file_extension": ".py",
   "mimetype": "text/x-python",
   "name": "python",
   "nbconvert_exporter": "python",
   "pygments_lexer": "ipython3",
   "version": "3.11.5"
  }
 },
 "nbformat": 4,
 "nbformat_minor": 5
}

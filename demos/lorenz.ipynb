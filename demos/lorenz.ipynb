{
 "cells": [
  {
   "cell_type": "code",
   "execution_count": null,
   "id": "47df80f8-bf29-4328-b0a0-70316e6b5faa",
   "metadata": {},
   "outputs": [],
   "source": [
    "import tqdm\n",
    "import numpy as np\n",
    "import scipy\n",
    "import sympy\n",
    "import matplotlib.pyplot as plt\n",
    "from mpl_toolkits import mplot3d"
   ]
  },
  {
   "cell_type": "markdown",
   "id": "d551fe42-95ad-4e9f-b998-dcf5ae5509e3",
   "metadata": {},
   "source": [
    "## The Lorenz system\n",
    "\n",
    "Because we practically have to.\n",
    "Lorenz originally devised this system as a simplified model of atmospheric convection.\n",
    "The unknowns don't actually represent physical space as such but that's how everyone writes it.\n",
    "The Lorenz system is:\n",
    "$$\\begin{align}\n",
    "\\dot x & = \\sigma(y - x) \\\\\n",
    "\\dot y & = x(\\rho - z) - y \\\\\n",
    "\\dot z & = xy - \\beta z\n",
    "\\end{align}$$\n",
    "where $\\sigma$, $\\rho$, and $\\beta$ are respectively the Prandtl number, Rayleigh number, and physical scale of the system.\n",
    "Here we'll simulate the Lorenz system using several methods."
   ]
  },
  {
   "cell_type": "markdown",
   "id": "8968080d-8edb-42c3-b012-3fb7bd5e29af",
   "metadata": {},
   "source": [
    "### Forming the problem\n",
    "\n",
    "Make the right-hand side of the system using sympy.\n",
    "Since this is a vector problem, it's worth thinking about how we account for this using the symbolic algebra system.\n",
    "In principle, we could use a Python list of symbolic expressions, but some of the bookkeeping will then be up to us.\n",
    "Here I've suggested that you put this inside a call to sympy.Matrix because it'll do the bookkeeping for us."
   ]
  },
  {
   "cell_type": "code",
   "execution_count": null,
   "id": "6ada1ee1-7bc2-4cc3-9559-230406b7dca0",
   "metadata": {},
   "outputs": [],
   "source": [
    "x, y, z = sympy.symbols(\"x y z\", real=True)\n",
    "σ, ρ, β = sympy.symbols(\"σ ρ β\", real=True, positive=True)\n",
    "\n",
    "f = sympy.Matrix(\n",
    "    ...\n",
    ")\n",
    "f"
   ]
  },
  {
   "cell_type": "markdown",
   "id": "d02100d7-e9a1-44cf-9576-724153e555c7",
   "metadata": {},
   "source": [
    "Compute the derivative of the right-hand of the system.\n",
    "Remember that (1) the derivative of a vector-valued function is a matrix, and (2) derivatives with respect to the same variable all go in the same row of this matrix.\n",
    "It's worth doing this by hand first and then checking with sympy after.\n",
    "Hint: you can do this with one call to [f.jacobian](https://docs.sympy.org/latest/modules/matrices/matrices.html#sympy.matrices.matrices.MatrixCalculus.jacobian)."
   ]
  },
  {
   "cell_type": "code",
   "execution_count": null,
   "id": "bede1020-2e8b-4f41-9980-e9bc52a41642",
   "metadata": {},
   "outputs": [],
   "source": [
    "df = ...\n",
    "df"
   ]
  },
  {
   "cell_type": "markdown",
   "id": "b6a88fe9-5460-4073-b28d-9a075704c617",
   "metadata": {},
   "source": [
    "Compute the equilibrium points of the Lorenz system.\n",
    "Do it by hand, then use sympy.solve to check your work.\n",
    "I used the first equation to eliminated $y$ and then the third equation to eliminate $z$, but up to you."
   ]
  },
  {
   "cell_type": "code",
   "execution_count": null,
   "id": "5e4e7ec2-da92-418c-8c3a-8deb6f99a5f1",
   "metadata": {},
   "outputs": [],
   "source": [
    "equilibria = ...\n",
    "equilibria"
   ]
  },
  {
   "cell_type": "markdown",
   "id": "1b2fad83-2458-4337-b514-c5372ba99c7e",
   "metadata": {},
   "source": [
    "### Lambdifying it\n",
    "\n",
    "What we'd like to do next is take these symbolic expressions, turn them into Python functions that we can cheaply call repeatedly, and then solve the ODE numerically using a few different methods.\n",
    "We're going to run into a slight stumbling block that I'll try to illustrate below.\n",
    "First, we'll create two arrays to represent the initial conditions of the system and the parameters that we'll use:\n",
    "$$u_0 = \\left[\\begin{matrix} 2.0 \\\\ 1.0 \\\\ 1.0\\end{matrix}\\right], \\qquad \\left[\\begin{matrix}\\sigma \\\\ \\rho \\\\ \\beta\\end{matrix}\\right] = \\left[\\begin{matrix}10.0 \\\\ 28.0 \\\\ 8/3\\end{matrix}\\right]$$"
   ]
  },
  {
   "cell_type": "code",
   "execution_count": null,
   "id": "a859d3e1-b27d-447e-b603-73e304516659",
   "metadata": {},
   "outputs": [],
   "source": [
    "u_0 = np.array([2.0, 1.0, 1.0])\n",
    "params = np.array([10.0, 28, 8/3])"
   ]
  },
  {
   "cell_type": "markdown",
   "id": "2e05e761-04fa-406c-adfe-7c4ba4d09175",
   "metadata": {},
   "source": [
    "The code below will lambdify the symbolic expression.\n",
    "It's worth unpacking what this does and thinking about how it might turn out differently if we had passed the arguments in a different order.\n",
    "The sympy.lambdify function takes in the arguments first and the expression second.\n",
    "We could have written this as `sympy.lambdify((x, y, z, σ, ρ, β), f)`, in which case we would have to pass in all of the arguments and parameters separately.\n",
    "That involves some annoying extra work pulling out vector entries and putting them back together again.\n",
    "The way I've written it below, we can pass in first a numpy array containing the coordinates, then another numpy array containing the parameters."
   ]
  },
  {
   "cell_type": "code",
   "execution_count": null,
   "id": "3349c788-24d8-493e-9b80-5a2dc1aaa28a",
   "metadata": {},
   "outputs": [],
   "source": [
    "F = sympy.lambdify([(x, y, z), (σ, ρ, β)], f)"
   ]
  },
  {
   "cell_type": "markdown",
   "id": "884c0775-a320-4047-9038-958635cd9dd3",
   "metadata": {},
   "source": [
    "Just to check that things are working correctly, let's evaluate it at the initial condition using the parameters defined above."
   ]
  },
  {
   "cell_type": "code",
   "execution_count": null,
   "id": "5b7b99f7-5642-40e6-a041-b467310fbcf6",
   "metadata": {},
   "outputs": [],
   "source": [
    "F(u_0, params)"
   ]
  },
  {
   "cell_type": "markdown",
   "id": "0fe702d9-9bb1-456b-a6d9-4f93cc199e9a",
   "metadata": {},
   "source": [
    "This is sort of what we want, but it returns a numpy array of shape `(3, 1)`.\n",
    "What happens if we add it to `x_0`, as if we were using the forward method?"
   ]
  },
  {
   "cell_type": "code",
   "execution_count": null,
   "id": "ba7ec0c4-dcf7-4149-861e-755c4f44da0a",
   "metadata": {},
   "outputs": [],
   "source": [
    "u_0 + 0.001 * F(u_0, params)"
   ]
  },
  {
   "cell_type": "markdown",
   "id": "df8623fe-303e-402a-8211-bfc26a9bf228",
   "metadata": {},
   "source": [
    "Clearly something is off here.\n",
    "The reason for this is that sympy's linear algebra features -- being able to define symbolic matrices -- doesn't have a separate type for vectors.\n",
    "They can only be represented as 3 $\\times$ 1 matrices.\n",
    "In order to get everything to work the way we want, we can wrap the result of lambdify like so:"
   ]
  },
  {
   "cell_type": "code",
   "execution_count": null,
   "id": "9087dc64-6c1a-4691-b0f4-b758d02c5bf0",
   "metadata": {},
   "outputs": [],
   "source": [
    "F_ = sympy.lambdify([(x, y, z), (σ, ρ, β)], f)\n",
    "def F(*args, **kwargs):\n",
    "    return F_(*args, **kwargs).flatten()"
   ]
  },
  {
   "cell_type": "markdown",
   "id": "15bbab55-9d1a-4aab-a07a-7bb6e10566c0",
   "metadata": {},
   "source": [
    "Now we should see that this extra step gives us an array of the right shape."
   ]
  },
  {
   "cell_type": "code",
   "execution_count": null,
   "id": "71236bfd-eb24-40ed-8d96-b3bc99a75ac0",
   "metadata": {},
   "outputs": [],
   "source": [
    "F(u_0, params)"
   ]
  },
  {
   "cell_type": "code",
   "execution_count": null,
   "id": "2bd755dd-77fd-464c-a0e7-5da209a6fe55",
   "metadata": {},
   "outputs": [],
   "source": [
    "assert F(u_0, params).shape == (3,)"
   ]
  },
  {
   "cell_type": "markdown",
   "id": "0e099388-e691-4eb9-a203-7d7eaa83ee2f",
   "metadata": {},
   "source": [
    "If we lambdify the Jacobian of $f$, everything is fine -- it was always supposed to be a matrix."
   ]
  },
  {
   "cell_type": "code",
   "execution_count": null,
   "id": "689cee2d-d079-473a-8487-b604403ef61e",
   "metadata": {},
   "outputs": [],
   "source": [
    "dF = sympy.lambdify([(x, y, z), (σ, ρ, β)], df)"
   ]
  },
  {
   "cell_type": "code",
   "execution_count": null,
   "id": "fc37886a-5c16-48ab-9de4-0b3ef9c16cc3",
   "metadata": {},
   "outputs": [],
   "source": [
    "dF(u_0, params)"
   ]
  },
  {
   "cell_type": "code",
   "execution_count": null,
   "id": "398b87d5-65ab-4446-9c11-d106dc601b72",
   "metadata": {},
   "outputs": [],
   "source": [
    "assert dF(u_0, params).shape == (3, 3)"
   ]
  },
  {
   "cell_type": "markdown",
   "id": "7d3a650c-f7cc-4b62-adb3-6643bdebd87d",
   "metadata": {},
   "source": [
    "### Numerical solution\n",
    "\n",
    "Finally, let's solve the Lorenz system using a few different approaches.\n",
    "First, we'll set up the parts that are the same regardless of which method you're using."
   ]
  },
  {
   "cell_type": "code",
   "execution_count": null,
   "id": "605b5602-dd1d-4401-92dd-d9b6493d31d5",
   "metadata": {},
   "outputs": [],
   "source": [
    "dt = 1e-2\n",
    "T = 20.0\n",
    "num_steps = int(T / dt)"
   ]
  },
  {
   "cell_type": "markdown",
   "id": "c1ae8768-bdec-4427-a92f-697c1f429619",
   "metadata": {},
   "source": [
    "Next, fill in the code below to solve the ODE using the forward method."
   ]
  },
  {
   "cell_type": "code",
   "execution_count": null,
   "id": "f76e7887-00e1-4a6c-a3df-1f702202a83c",
   "metadata": {},
   "outputs": [],
   "source": [
    "us = np.zeros((num_steps + 1, 3))\n",
    "us[0] = u_0\n",
    "for n in tqdm.trange(num_steps):\n",
    "    ..."
   ]
  },
  {
   "cell_type": "code",
   "execution_count": null,
   "id": "2b4569f9-2645-4bbf-9e8f-368cb8951a9e",
   "metadata": {},
   "outputs": [],
   "source": [
    "fig, ax = plt.subplots(subplot_kw={\"projection\": \"3d\"})\n",
    "ax.plot(*us.T);"
   ]
  },
  {
   "cell_type": "markdown",
   "id": "a87cd225-55a3-4c20-a11a-621d9e67b932",
   "metadata": {},
   "source": [
    "Next we'll do the midpoint method.\n",
    "First, you should look up the documentation for [scipy.optimize.root](https://docs.scipy.org/doc/scipy/reference/generated/scipy.optimize.root.html).\n",
    "In order to use it, we need to provide:\n",
    "1. The function whose root we want to find\n",
    "2. The initial guess for the root\n",
    "3. Any additional arguments to pass to the function from 1., passed in the keyword argument `args`\n",
    "4. The derivative of the function from 1., passed in the keyword argument `jac`\n",
    "\n",
    "We've already written some code above to form the right-hand side of the ODE (`F`).\n",
    "In order to use this rootfinding procedure, we're going to need to define a few extra auxiliary Python functions -- we're not trying to find a root of `F` but rather a root $u_{n + 1}$ of the equation\n",
    "$$\\frac{u_{n + 1} - u_n}{\\delta t} = F\\left(\\frac{u_n + u_{n + 1}}{2}, \\sigma, \\rho, \\beta\\right). \\tag{*}$$\n",
    "So we'll need to rewrite this into the form\n",
    "$$G(u_{n + 1}, \\text{other parameters}) = 0.$$\n",
    "Crucially, we can make the value at the previous step into one of the additional arguments that we'll supply to the rootfinding function.\n",
    "Fill in the body of this function below.\n",
    "You can rearrange equation (*) however you see fit."
   ]
  },
  {
   "cell_type": "code",
   "execution_count": null,
   "id": "256d42d2-54f5-467f-9668-fd9bc40326d9",
   "metadata": {},
   "outputs": [],
   "source": [
    "def G(u, u_n, params):\n",
    "    ..."
   ]
  },
  {
   "cell_type": "markdown",
   "id": "f07ed63b-e2a5-4977-9f57-fa3ee934de4b",
   "metadata": {},
   "source": [
    "Next, fill in the derivative of $G$ below."
   ]
  },
  {
   "cell_type": "code",
   "execution_count": null,
   "id": "f6e24f38-0778-45dd-a2d3-d7512851b48b",
   "metadata": {},
   "outputs": [],
   "source": [
    "I = np.eye(3)\n",
    "def dG(u, u_n, params):\n",
    "    ..."
   ]
  },
  {
   "cell_type": "markdown",
   "id": "334abdb0-71cf-46c0-9daf-a2f578a36fed",
   "metadata": {},
   "source": [
    "Now write a procedure to approximate the solution of the Lorenz system by repeatedly finding a root of $G$.\n",
    "It's worth noting that scipy.optimize.root doesn't return just the solution of the nonlinear system, because it can only calculate that solution approximately.\n",
    "Instead it returns a data structure called an [OptimizeResult](https://docs.scipy.org/doc/scipy/reference/generated/scipy.optimize.OptimizeResult.html#scipy.optimize.OptimizeResult).\n",
    "An OptimizeResult has a member called `.x` which contains the approximate solution, but it also has a field called `.success` to check whether the rootfinding procedure successfully terminated or not.\n",
    "In your code below, get the result of the rootfinding procedure and an assert into the loop to make sure that it actually succeeded."
   ]
  },
  {
   "cell_type": "code",
   "execution_count": null,
   "id": "7b22d8d0-bca4-4adb-a54e-358706282e3f",
   "metadata": {},
   "outputs": [],
   "source": [
    "us = np.zeros((num_steps + 1, 3))\n",
    "us[0] = u_0\n",
    "\n",
    "for n in tqdm.trange(num_steps):\n",
    "    ..."
   ]
  },
  {
   "cell_type": "markdown",
   "id": "9f41d3d5-d216-478f-9d33-fc835dc5aaa5",
   "metadata": {},
   "source": [
    "Does your solution differ appreciably from that obtained with the forward method?\n",
    "When you're done with this whole notebook, go back and see what kind of timestep you need to take with the forward method in order to make it produce similar-looking results to the midpoint method."
   ]
  },
  {
   "cell_type": "code",
   "execution_count": null,
   "id": "3459b3db-0f65-4f71-b43b-352ab4070889",
   "metadata": {},
   "outputs": [],
   "source": [
    "fig, ax = plt.subplots(subplot_kw={\"projection\": \"3d\"})\n",
    "ax.plot(*us.T);"
   ]
  },
  {
   "cell_type": "markdown",
   "id": "b54877ce-9d4f-4711-8495-f3d880785444",
   "metadata": {},
   "source": [
    "That was more involved than the forward method.\n",
    "Can we take some shortcuts?"
   ]
  },
  {
   "cell_type": "markdown",
   "id": "424719f9-b270-4283-9f11-412b665b07ec",
   "metadata": {},
   "source": [
    "### Linearly implicit schemes\n",
    "\n",
    "Or, probably the greatest secret of numerical methods.\n",
    "I've told you to use scipy.optimize.root in order to solve the nonlinear system in each timestep.\n",
    "**How does scipy solve that nonlinear system?**\n",
    "\n",
    "This is admittedly about to get *really confusing* because there are too many indices (i.e. more than 1).\n",
    "I've written $u_n$ for the value of $u$ at the $n$th timestep.\n",
    "Now we're going to need another index to specify each successive guess for solving that nonlinear system, at a single timestep.\n",
    "I'll write these as an upper index $k$ in brackets (seriously if you have a better way I am all ears).\n",
    "It's going to look awful but we'll get rid of it almost immediately.\n",
    "\n",
    "The gold standard way to find the root of a function $G$ is *Newton's method*.\n",
    "Say that $U$ is the true root of $G$, i.e. $G(U) = 0$.\n",
    "Then we can expand $G$ in a 1st-order Taylor series about the current candidate solution $u^{[k]}$:\n",
    "$$0 = G(U) = G(u^{[k]} + (U - u^{[k]})) \\approx G(u^{[k]}) + dG(u^{[k]})(U - u^{[k]})$$\n",
    "If we rearrange this equation, it suggests that we can take the next guess $u^{[k + 1]}$ by first solving a linear system for the *update* vector $v$:\n",
    "$$dG(u^{[k]})v = -G(u^{[k]})$$\n",
    "and then setting the next guess as\n",
    "$$u^{[k + 1]} = u^{[k]} + v.$$\n",
    "More succinctly, we can write this as\n",
    "$$u^{[k + 1]} = u^{[k]} - dG(u^{[k]})^{-1}G(u^{[k]}).$$\n",
    "When you have a good enough initial guess, Newton's method converges really fast.\n",
    "It might not convergence from any starting guess, but there are modifications of this algorithm that do guarnatee convergence.\n",
    "In short, **Newton's method reduces the problem of solving a *nonlinear* system to the repeated solution of many *linear* systems.**\n",
    "\n",
    "Why am I telling you all this?\n",
    "Unless $\\delta t$ is really large, it's probably a fair bet that $u_n$ is a pretty good starting guess for $u_{n + 1}$.\n",
    "The idea of *linearly* implicit schemes is that, rather than execute Newton's method to convergence, **do only a single iteration of Newton's method** in each timestep.\n",
    "\n",
    "You've already defined $G$ and $dG$ above.\n",
    "You have everything you need to implement a linearly implicit method."
   ]
  },
  {
   "cell_type": "code",
   "execution_count": null,
   "id": "c2bb4eda-540a-4b2a-bbfa-78e3f8f3b337",
   "metadata": {},
   "outputs": [],
   "source": [
    "us = np.zeros((num_steps + 1, 3))\n",
    "us[0] = u_0\n",
    "for n in tqdm.trange(num_steps):\n",
    "    ..."
   ]
  },
  {
   "cell_type": "code",
   "execution_count": null,
   "id": "8811ee26-c426-431a-921c-82d27871c389",
   "metadata": {},
   "outputs": [],
   "source": [
    "fig, ax = plt.subplots(subplot_kw={\"projection\": \"3d\"})\n",
    "ax.plot(*us.T);"
   ]
  },
  {
   "cell_type": "markdown",
   "id": "3a086297-c188-48f1-b0ae-88c95d518d5c",
   "metadata": {},
   "source": [
    "How does its appearance compare to that of the forward solution and the midpoint solution?\n",
    "If you want, try it with two steps of Newton instead of one.\n",
    "How does the total execution time differ for each method?"
   ]
  }
 ],
 "metadata": {
  "kernelspec": {
   "display_name": "Python 3 (ipykernel)",
   "language": "python",
   "name": "python3"
  },
  "language_info": {
   "codemirror_mode": {
    "name": "ipython",
    "version": 3
   },
   "file_extension": ".py",
   "mimetype": "text/x-python",
   "name": "python",
   "nbconvert_exporter": "python",
   "pygments_lexer": "ipython3",
   "version": "3.11.5"
  }
 },
 "nbformat": 4,
 "nbformat_minor": 5
}

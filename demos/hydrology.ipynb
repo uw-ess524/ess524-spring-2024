{
 "cells": [
  {
   "cell_type": "markdown",
   "id": "963cee21-774a-42c2-8c7e-fa0c6389794f",
   "metadata": {},
   "source": [
    "# Groundwater hydrology\n",
    "\n",
    "This example comes from exercises 4.2.1-4.2.3 of the book *Inverse Problems in Groundwater Modeling* by Ne-Zhung Sun.\n",
    "Here we are interested in the flow of groundwater in a saturated aquifer.\n",
    "The conserved quantity is water mass, and the field we are solving for is the *hydraulic head* $h$.\n",
    "The hydraulic head has units of length; if we were to drill into the aquifer, the hydraulic head is how far up the borehole the groundwater would rise to.\n",
    "In a saturated porous medium, the hydraulic head is greater or equal to the thickness $H$ of the aquifer itself.\n",
    "Later we'll look at unsaturated porous media.\n",
    "\n",
    "The relation between the actual volume of water stored per unit volume of the porous medium is quantified in a coefficient called the *storativity* $S$.\n",
    "Using the notation from class, our extensive density $G$ is water volume per unit footprint area, and the relation between the extensive density and the field to be solved for is\n",
    "$$G = S\\cdot h.$$\n",
    "In some media, the storativity itself depends on the hydraulic head, but we'll assume it's a constant for now.\n",
    "\n",
    "In this demo we're going to use a 2D setup in the $x$ and $y$ directions.\n",
    "We'll use a set of equations for groundwater flow that assume some depth-averaging so that the vertical dependence is ignorable.\n",
    "\n",
    "*Darcy's law* states that the flux of water through the aquifer is proportional to the gradient in hydraulic head:\n",
    "$$F = -KH\\nabla h$$\n",
    "where $H$ is the aquifer thickness and $K$ is the *hydraulic conductivity* of the porous medium, which has units of length / time.\n",
    "The hydraulic conductivity measures the ease with which water can percolate through the medium; sand and gravel have high conductivities, clays very low.\n",
    "\n",
    "The sources $q$ of water come from infiltration from above, say from rainwater, while the sinks are loss of water to an aquifer below or direct pumping.\n",
    "\n",
    "### Variational form\n",
    "\n",
    "This is all worth writing out in a table so it's easy to refer back to.\n",
    "\n",
    "| Name | Symbol | Units\n",
    "| ---- | ------ | -----\n",
    "| Hydraulic head | $h$ | length\n",
    "| Water flux | $F$ | length${}^2$ / time\n",
    "| Aquifer thickness | $H$| length\n",
    "| Hydraulic conductivity | $K$ | length / time\n",
    "| Storativity | $S$ | dimensionless\n",
    "| Water sources | $Q$ | length / time\n",
    "| External fluxes | $f$ | length${}^2$ / time\n",
    "\n",
    "Putting everything together, the variational form of the problem is to find the hydraulic head $h$ for which\n",
    "$$\\int_\\Omega\\left(S\\frac{\\partial h}{\\partial t}\\phi + KH\\nabla h\\cdot\\nabla\\phi - Q\\phi\\right)dx - \\int_{\\Gamma_N} f\\,d\\gamma = 0$$\n",
    "for all test functions $\\phi$.\n",
    "Here $\\Gamma_N$ denotes the segment of the boundary where there are external fluxes.\n",
    "On the remaining part $\\Gamma_D$ of the domain boundary, we impose a fixed value of the hydraulic head:\n",
    "$$h|_{\\Gamma_D} = h_{\\text{ext}}$$\n",
    "Remember that fixed or proportional fluxes are *natural* boundary conditions (we incorporate them into the variational form) while Dirichlet conditions are *essential* (we have to modify the linear system and test functions)."
   ]
  },
  {
   "cell_type": "markdown",
   "id": "faf5c02f-160b-469a-83ec-d967182c1b83",
   "metadata": {},
   "source": [
    "### Geometry\n",
    "\n",
    "First, we need to create a spatial domain.\n",
    "Use a length $L_x$ of 6500m, a height $L_y$ of 4500m, and pick some sane-looking values for the number of points in the $x$ and $y$ directions.\n",
    "You can pick `nx` and then set `ny = int(Ly / Lx * nx)` in order to make sure the triangles have the same aspect ratio."
   ]
  },
  {
   "cell_type": "code",
   "execution_count": null,
   "id": "9f1c1c26-18f6-41ec-9d5a-05f00ef64705",
   "metadata": {},
   "outputs": [],
   "source": [
    "import matplotlib.pyplot as plt\n",
    "import firedrake\n",
    "from firedrake import Constant, conditional, inner, grad, dx, ds\n",
    "\n",
    "Lx = ...\n",
    "Ly = ...\n",
    "nx = ...\n",
    "ny = ...\n",
    "mesh = firedrake.RectangleMesh(\n",
    "    nx=nx,\n",
    "    ny=ny,\n",
    "    Lx=Lx,\n",
    "    Ly=Ly,\n",
    "    diagonal=\"crossed\",\n",
    ")"
   ]
  },
  {
   "cell_type": "markdown",
   "id": "1f874bb0-8935-438d-b675-1d7c49ec8f00",
   "metadata": {},
   "source": [
    "Remember when I said that the most common thing to mess up is boundary conditions?\n",
    "The code below will plot the mesh and show the different boundary segments with different colors.\n",
    "This is important because we're going to fix the hydraulic head on some of the boundary segments and fix the flux on others."
   ]
  },
  {
   "cell_type": "code",
   "execution_count": null,
   "id": "3393b3a4-33d1-4eea-a71c-6d5dbd6be32e",
   "metadata": {},
   "outputs": [],
   "source": [
    "fig, ax = plt.subplots()\n",
    "ax.set_aspect(\"equal\")\n",
    "firedrake.triplot(mesh, boundary_kw={\"linewidth\": 5}, axes=ax)\n",
    "ax.legend();"
   ]
  },
  {
   "cell_type": "markdown",
   "id": "e756595b-8938-450f-be84-e8cb29f7ae63",
   "metadata": {},
   "source": [
    "Next we're going to make a finite element.\n",
    "This has three ingredients.\n",
    "First and most important is the *family*.\n",
    "Here, we're using \"CG\" for \"Continuous Galerkin\".\n",
    "We'll see other families later in this class.\n",
    "Next is the cell, which in this case is triangles -- this can also be `\"interval\"` in 1D, `\"quadrilateral\"` in 2D, or `\"tetrahedron\"` in 3D.\n",
    "Finally, the *degree* specieis what polynomial degree we'll use in each element.\n",
    "We'll start with 1, and you can try this with degree 2 later."
   ]
  },
  {
   "cell_type": "code",
   "execution_count": null,
   "id": "4be2af0e-acd9-460c-a047-8ffc4f4b5d90",
   "metadata": {},
   "outputs": [],
   "source": [
    "element = firedrake.FiniteElement(family=\"CG\", cell=\"triangle\", degree=1)"
   ]
  },
  {
   "cell_type": "markdown",
   "id": "9da114fa-dfd0-413c-adfe-fc113ce3ecb6",
   "metadata": {},
   "source": [
    "Now we create a function space on our mesh with this choice of element."
   ]
  },
  {
   "cell_type": "code",
   "execution_count": null,
   "id": "0d50d922-5896-46c4-80e0-f0d8a860e261",
   "metadata": {},
   "outputs": [],
   "source": [
    "V = firedrake.FunctionSpace(mesh, element)"
   ]
  },
  {
   "cell_type": "markdown",
   "id": "d493921d-e648-4ba1-b9c8-2ce0dbcd9e62",
   "metadata": {},
   "source": [
    "### Storativity and conductivity\n",
    "\n",
    "Make the aquifer thickness a constant 50m and the storativity a constant $10^{-4}$."
   ]
  },
  {
   "cell_type": "code",
   "execution_count": null,
   "id": "19194056-738b-4327-8749-a7fd6a94e3c3",
   "metadata": {},
   "outputs": [],
   "source": [
    "H = ...\n",
    "S = ..."
   ]
  },
  {
   "cell_type": "markdown",
   "id": "ec14ee74-3331-4071-a515-be5f5015d58e",
   "metadata": {},
   "source": [
    "The aquifer is divided into three different zones, with boundaries at $x$ = 2500m and 4500m.\n",
    "The conductivity is:\n",
    "$$K = \\begin{cases} 10 m/d & 0m \\le x < 2500m \\\\ 20 m/d & 2500m \\le x < 4500m \\\\ 40 m/d & 4500m \\le x \\le 6500m\\end{cases}$$\n",
    "Make an expression for the conductivity field below using `firedrake.conditional`.\n",
    "You could nest one conditional inside another, or you could add up several conditionals.\n",
    "If it's too confusing to make three zones at first, just make two to start."
   ]
  },
  {
   "cell_type": "code",
   "execution_count": null,
   "id": "b01338b0-d671-43b0-ae32-7db0102a8035",
   "metadata": {},
   "outputs": [],
   "source": [
    "x, y = firedrake.SpatialCoordinate(mesh)\n",
    "expr = conditional(\n",
    "    ...,\n",
    "    ...,\n",
    "    ...,\n",
    ")"
   ]
  },
  {
   "cell_type": "markdown",
   "id": "acc99ae3-66aa-411a-b369-e1238f00904b",
   "metadata": {},
   "source": [
    "Next we'll create the conductivity field and plot it."
   ]
  },
  {
   "cell_type": "code",
   "execution_count": null,
   "id": "0239d2fb-ce78-4525-bdfe-86158facea17",
   "metadata": {},
   "outputs": [],
   "source": [
    "K = firedrake.Function(V)\n",
    "K.interpolate(expr);"
   ]
  },
  {
   "cell_type": "code",
   "execution_count": null,
   "id": "091cbbee-7b19-452a-8570-54800fc89283",
   "metadata": {},
   "outputs": [],
   "source": [
    "fig, ax = plt.subplots()\n",
    "ax.set_aspect(\"equal\")\n",
    "ax.set_xlabel(\"x (m)\")\n",
    "ax.set_ylabel(\"y (m)\")\n",
    "colors = firedrake.tripcolor(K, axes=ax)\n",
    "fig.colorbar(colors, label=\"conductivity (m/day)\");"
   ]
  },
  {
   "cell_type": "markdown",
   "id": "78657d35-b7dd-4370-8794-f7075bd4eaf6",
   "metadata": {},
   "source": [
    "You should see a field with discontinuities at the breakpoints we defined above."
   ]
  },
  {
   "cell_type": "markdown",
   "id": "0d33dc85-5e5f-44e1-9de3-f73c0d314888",
   "metadata": {},
   "source": [
    "### Sources\n",
    "\n",
    "The problem from the book specifies pumping of 2000m${}^3$ / day at a point in the right-most zone.\n",
    "We can put in a point sink but it takes some extra finagling, so instead we'll approximate it as a Gaussian.\n",
    "Make the expression below\n",
    "\n",
    "$$w = \\exp\\left(-\\frac{(x - x_s)^2 + (y - y_s)^2}{r^2}\\right)$$\n",
    "\n",
    "where $r$ = 100m, $x_s$ = 5500m, $y_s$ = 2250m.\n",
    "To get the right symbolic exponential function, you'll want to use `firedrake.exp` rather than, say, the numpy or sympy `exp` functions."
   ]
  },
  {
   "cell_type": "code",
   "execution_count": null,
   "id": "eaa09f2f-a99b-481c-b61b-cd52fcde2f6f",
   "metadata": {},
   "outputs": [],
   "source": [
    "w = ..."
   ]
  },
  {
   "cell_type": "markdown",
   "id": "c817d346-f5a3-4272-874d-4aa21a5eadf6",
   "metadata": {},
   "source": [
    "We want to get a sink field that adds up to the original pumping rate.\n",
    "First, we'll evaluate the integral of $w$ over the whole domain by using the `assemble` function:"
   ]
  },
  {
   "cell_type": "code",
   "execution_count": null,
   "id": "acdc05e8-a2df-4f1e-8f90-631c4a667136",
   "metadata": {},
   "outputs": [],
   "source": [
    "w_total = firedrake.assemble(w * dx)  # <- the integral of `w`\n",
    "print(f\"{w_total:0.2f}\")"
   ]
  },
  {
   "cell_type": "markdown",
   "id": "efeb7f77-060f-481c-8408-bc43e15dd892",
   "metadata": {},
   "source": [
    "Now create an expression for $Q$ as\n",
    "\n",
    "$$Q = -2000\\frac{\\text{m}^3}{\\text{day}} \\cdot \\frac{w}{\\int_\\Omega w\\;dx}$$"
   ]
  },
  {
   "cell_type": "code",
   "execution_count": null,
   "id": "164fde9b-01f4-484b-9c05-4242c085b659",
   "metadata": {},
   "outputs": [],
   "source": [
    "expr = ..."
   ]
  },
  {
   "cell_type": "markdown",
   "id": "d1bab539-0ae2-4a83-9804-d530579e6b93",
   "metadata": {},
   "source": [
    "In order to make sure we did everything right, evaluate the integral of this expression using `assemble`.\n",
    "You should get -2000.0."
   ]
  },
  {
   "cell_type": "code",
   "execution_count": null,
   "id": "bbff9610-de3d-43ba-9e94-c5274ce3af8e",
   "metadata": {},
   "outputs": [],
   "source": [
    "firedrake.assemble(expr * dx)"
   ]
  },
  {
   "cell_type": "markdown",
   "id": "2189e76f-0321-439e-8ef5-3280e68bdb6a",
   "metadata": {},
   "source": [
    "Now make a function $Q$ and interpolate this expression to it so we can plot it.\n",
    "You should see something that looks roughly like a point sink."
   ]
  },
  {
   "cell_type": "code",
   "execution_count": null,
   "id": "45bcc02f-1528-477a-8f66-2f49ad30e464",
   "metadata": {},
   "outputs": [],
   "source": [
    "Q = ..."
   ]
  },
  {
   "cell_type": "code",
   "execution_count": null,
   "id": "3b96bcb2-9755-4835-a8d5-c6e33031bf8a",
   "metadata": {},
   "outputs": [],
   "source": [
    "fig, ax = plt.subplots()\n",
    "ax.set_xlabel(\"x (m)\")\n",
    "ax.set_ylabel(\"y (m)\")\n",
    "colors = firedrake.tripcolor(Q, axes=ax)\n",
    "fig.colorbar(colors, label=\"m / day\");"
   ]
  },
  {
   "cell_type": "markdown",
   "id": "247cafa1-5034-4ddf-9666-05c905d310ad",
   "metadata": {},
   "source": [
    "### Boundary conditions\n",
    "\n",
    "Here we'll assume impermeable boundaries on the top, bottom, and right-hand sides, and a fixed value of 100m hydraulic head on the left-hand side.\n",
    "Make the boundary condition below.\n",
    "Scroll up to look at the plot of the mesh to find the right boundary ID."
   ]
  },
  {
   "cell_type": "code",
   "execution_count": null,
   "id": "b39398cc-0a99-4d01-ac9d-11b5fb109073",
   "metadata": {},
   "outputs": [],
   "source": [
    "bc = ..."
   ]
  },
  {
   "cell_type": "markdown",
   "id": "4f8beb90-2ef1-454a-9dab-d87a6db63aa0",
   "metadata": {},
   "source": [
    "We don't have to do anything for the remaining boundaries since the fluxes there are zero, and fixed flux is a natural boundary condition."
   ]
  },
  {
   "cell_type": "markdown",
   "id": "08c4a1cc-7b18-4686-8fad-6ff105f808b6",
   "metadata": {},
   "source": [
    "### Modeling\n",
    "\n",
    "Now make the initial hydraulic head field a constant 100m."
   ]
  },
  {
   "cell_type": "code",
   "execution_count": null,
   "id": "5f314533-edd5-44e0-890a-e7b549ca23ca",
   "metadata": {},
   "outputs": [],
   "source": [
    "h_0 = ..."
   ]
  },
  {
   "cell_type": "markdown",
   "id": "8165c338-eef4-4c9e-aeb0-34a96b250ca4",
   "metadata": {},
   "source": [
    "We'll choose a final time of 1.5 days and a timestep of 1/24 days (i.e. 1 hour)."
   ]
  },
  {
   "cell_type": "code",
   "execution_count": null,
   "id": "d9e942ea-58e1-415f-8bb6-8b2455d04c5f",
   "metadata": {},
   "outputs": [],
   "source": [
    "final_time = 1.5\n",
    "num_steps = int(final_time * 24)\n",
    "timestep = final_time / num_steps\n",
    "δt = Constant(timestep)"
   ]
  },
  {
   "cell_type": "markdown",
   "id": "136ebedb-968c-454f-aa3c-3c3bb85a3f8a",
   "metadata": {},
   "source": [
    "Next we'll create variables for the current and previous hydraulic head."
   ]
  },
  {
   "cell_type": "code",
   "execution_count": null,
   "id": "48072ff5-d6b5-4bfb-b605-224b0db5c143",
   "metadata": {},
   "outputs": [],
   "source": [
    "h = firedrake.Function(V)\n",
    "h.assign(h_0)\n",
    "h_n = h.copy(deepcopy=True)"
   ]
  },
  {
   "cell_type": "markdown",
   "id": "ea3c1d1a-aa4e-4451-8295-0699322d3729",
   "metadata": {},
   "source": [
    "The variational form of the groundwater flow equation using backward timestepping is:\n",
    "$$\\int_\\Omega\\left(S\\frac{h - h_n}{\\delta t}\\phi + KH\\nabla h\\cdot\\nabla\\phi - Q\\phi\\right)dx = 0$$\n",
    "Make the variational form below."
   ]
  },
  {
   "cell_type": "code",
   "execution_count": null,
   "id": "d2c9eee6-d3c7-4605-9dec-6e575bc1f6a4",
   "metadata": {},
   "outputs": [],
   "source": [
    "ϕ = ...\n",
    "F = ..."
   ]
  },
  {
   "cell_type": "markdown",
   "id": "60fde7e6-f092-4774-9a55-0c6f9edeb3b0",
   "metadata": {},
   "source": [
    "Now make the timestepping loop to compute the hydraulic head at the final time."
   ]
  },
  {
   "cell_type": "code",
   "execution_count": null,
   "id": "6adcfee1-c643-4c4d-b0aa-466f90f1843d",
   "metadata": {},
   "outputs": [],
   "source": []
  },
  {
   "cell_type": "markdown",
   "id": "7a8d46a2-d49b-47a5-bdd8-7949453c4cfd",
   "metadata": {},
   "source": [
    "Make a plot of the final value.\n",
    "The hydraulic head should be a little lower in the vicinity of the pumping well.\n",
    "If you messed up the sign of $Q$, you'll see that the hydraulic head is higher instead of lower.\n",
    "How do I know that this is the kind of mistake one could make?\n",
    "How indeed."
   ]
  },
  {
   "cell_type": "code",
   "execution_count": null,
   "id": "5b9c7934-e5d7-47d1-b352-10b22990a38b",
   "metadata": {},
   "outputs": [],
   "source": [
    "fig, ax = plt.subplots()\n",
    "ax.set_xlabel(\"x (m)\")\n",
    "ax.set_ylabel(\"y (m)\")\n",
    "colors = firedrake.tripcolor(h, axes=ax)\n",
    "fig.colorbar(colors, label=\"m\");"
   ]
  },
  {
   "cell_type": "markdown",
   "id": "6a6761c1-c6de-42b2-9d06-ad16ae4861db",
   "metadata": {},
   "source": [
    "The code below shows how we can extract values of the function $h$ at some specific points by using `h.at`."
   ]
  },
  {
   "cell_type": "code",
   "execution_count": null,
   "id": "15c6fb22-5248-405d-9891-2b76885a1c48",
   "metadata": {},
   "outputs": [],
   "source": [
    "import numpy as np\n",
    "xs = np.linspace(0.0, Lx, 66)\n",
    "ys = 2250.0 * np.ones_like(xs)\n",
    "X = np.column_stack((xs, ys))\n",
    "h_transect = h.at(X)"
   ]
  },
  {
   "cell_type": "markdown",
   "id": "9bf50555-e2cc-4dbf-8e85-26933a2017ad",
   "metadata": {},
   "source": [
    "Here we can see from the transect plot that there's a change in the slope at the interfaces 2500m and 4500m between the parts of the aquifer with different conductivities."
   ]
  },
  {
   "cell_type": "code",
   "execution_count": null,
   "id": "2c16b59c-5962-4c63-8d47-121a91e5bcbf",
   "metadata": {},
   "outputs": [],
   "source": [
    "fig, ax = plt.subplots()\n",
    "ax.set_xlabel(\"x (m)\")\n",
    "ax.set_ylabel(\"h (m)\")\n",
    "ax.axvline(2500.0, color=\"Grey\", linestyle=\"dashed\")\n",
    "ax.axvline(4500.0, color=\"Grey\", linestyle=\"dashed\")\n",
    "ax.plot(xs, h_transect);"
   ]
  }
 ],
 "metadata": {
  "kernelspec": {
   "display_name": "firedrake",
   "language": "python",
   "name": "firedrake"
  },
  "language_info": {
   "codemirror_mode": {
    "name": "ipython",
    "version": 3
   },
   "file_extension": ".py",
   "mimetype": "text/x-python",
   "name": "python",
   "nbconvert_exporter": "python",
   "pygments_lexer": "ipython3",
   "version": "3.11.5"
  }
 },
 "nbformat": 4,
 "nbformat_minor": 5
}

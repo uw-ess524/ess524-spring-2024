{
 "cells": [
  {
   "cell_type": "code",
   "execution_count": null,
   "id": "3de2ea78-2233-4e0d-aa9a-e477ca4894e9",
   "metadata": {},
   "outputs": [],
   "source": [
    "import subprocess\n",
    "import pathlib\n",
    "import matplotlib.pyplot as plt\n",
    "import numpy as np\n",
    "import rasterio\n",
    "import icepack"
   ]
  },
  {
   "cell_type": "code",
   "execution_count": null,
   "id": "aa596781-e8ff-4fe9-8b09-b064f4f5d9fa",
   "metadata": {},
   "outputs": [],
   "source": [
    "surface_filename = \"greenland-surface.tif\"\n",
    "if not pathlib.Path(surface_filename).is_file():\n",
    "    bedmachine_filename = icepack.datasets.fetch_bedmachine_greenland()\n",
    "    command = f\"rio convert netcdf:{bedmachine_filename}:surface {surface_filename}\"\n",
    "    subprocess.run(command.split())\n",
    "\n",
    "bounds = {\n",
    "    \"left\": -256.6e3, \"bottom\": -2345.8e3, \"right\": -79.3e3, \"top\": -2215.8e3,\n",
    "}\n",
    "\n",
    "with rasterio.open(surface_filename, \"r\") as source:\n",
    "    transform = source.transform\n",
    "    window = (\n",
    "        rasterio.windows.from_bounds(**bounds, transform=transform)\n",
    "        .round_lengths()\n",
    "        .round_offsets()\n",
    "    )\n",
    "    surface = source.read(indexes=1, window=window)\n",
    "    xmin, ymin, xmax, ymax = rasterio.windows.bounds(window, transform)\n",
    "    transform = rasterio.windows.transform(window, transform)\n",
    "\n",
    "extent = (xmin, xmax, ymin, ymax)"
   ]
  },
  {
   "cell_type": "code",
   "execution_count": null,
   "id": "453fe7e7-eb77-4966-919c-f8f84e9dcd54",
   "metadata": {},
   "outputs": [],
   "source": [
    "fig, ax = plt.subplots()\n",
    "ax.set_xlabel(\"easting (meters)\")\n",
    "ax.set_ylabel(\"northing (meters)\")\n",
    "ax.set_title(\"Jakobshavn Isbrae surface elevation\")\n",
    "colors = ax.imshow(surface, cmap=\"Blues_r\", extent=extent)\n",
    "fig.colorbar(colors, label=\"meters\");"
   ]
  },
  {
   "cell_type": "code",
   "execution_count": null,
   "id": "95e4c9ee-a2a8-425c-9043-b66f4ac90166",
   "metadata": {},
   "outputs": [],
   "source": [
    "velocity_filename = \"greenland-v.tif\"\n",
    "if not pathlib.Path(velocity_filename).is_file():\n",
    "    measures_filenames = icepack.datasets.fetch_measures_greenland()\n",
    "    filenames = [[f for f in measures_filenames if val in f][0] for val in (\"vx\", \"vy\")]\n",
    "    for filename, val in zip(filenames, (\"vx\", \"vy\")):\n",
    "        command = f\"rio warp {filename} greenland-{val}.tif --like {surface_filename}\"\n",
    "        subprocess.run(command.split())\n",
    "\n",
    "    command = f\"rio stack greenland-vx.tif greenland-vy.tif {velocity_filename}\"\n",
    "    subprocess.run(command.split())\n",
    "\n",
    "with rasterio.open(velocity_filename, \"r\") as source:\n",
    "    velocity = source.read(window=window, masked=True)"
   ]
  },
  {
   "cell_type": "code",
   "execution_count": null,
   "id": "5bf7f95e-3c42-46eb-91b7-a1168ee46ae2",
   "metadata": {},
   "outputs": [],
   "source": [
    "from matplotlib import colors as clrs\n",
    "speed = np.sqrt(velocity[0]**2 + velocity[1]**2)\n",
    "\n",
    "fig, ax = plt.subplots()\n",
    "ax.set_xlabel(\"easting (meters)\")\n",
    "ax.set_ylabel(\"northing (meters)\")\n",
    "ax.set_title(\"Jakobshavn Isbrae speed\")\n",
    "colors = ax.imshow(speed, cmap=\"Blues\", extent=extent, norm=clrs.LogNorm(vmin=1.0, vmax=14e3))\n",
    "fig.colorbar(colors, label=\"meters/year\");"
   ]
  },
  {
   "cell_type": "code",
   "execution_count": null,
   "id": "e1405436-2fa1-42a1-b919-f19ffda930e7",
   "metadata": {},
   "outputs": [],
   "source": [
    "ds_dx = np.zeros_like(surface)\n",
    "ds_dy = np.zeros_like(surface)\n",
    "ds_dx[:, 1:-1] = (surface[:, 2:] - surface[:, :-2]) / transform.a\n",
    "ds_dy[1:-1, :] = (surface[2:, :] - surface[:-2, :]) / transform.e"
   ]
  },
  {
   "cell_type": "code",
   "execution_count": null,
   "id": "bcbc0b22-19b2-40ce-9d3c-cbb39b16fd31",
   "metadata": {},
   "outputs": [],
   "source": [
    "slope = np.sqrt(ds_dx**2 + ds_dy**2)\n",
    "\n",
    "fig, ax = plt.subplots()\n",
    "ax.set_xlabel(\"easting (meters)\")\n",
    "ax.set_ylabel(\"northing (meters)\")\n",
    "ax.set_title(\"Jakobshavn Isbrae surface slope\")\n",
    "colors = ax.imshow(slope, vmax=0.25, cmap=\"Blues\", extent=extent)\n",
    "fig.colorbar(colors);"
   ]
  },
  {
   "cell_type": "code",
   "execution_count": null,
   "id": "3edce49f-d1c2-4bb0-96eb-fb1335a95866",
   "metadata": {},
   "outputs": [],
   "source": [
    "product = velocity[0] * ds_dx + velocity[1] * ds_dy\n",
    "\n",
    "vmin, vmax = -1e3, +1e3\n",
    "fig, ax = plt.subplots()\n",
    "ax.set_xlabel(\"easting (meters)\")\n",
    "ax.set_ylabel(\"northing (meters)\")\n",
    "ax.set_xlim((-200e3, -150e3))\n",
    "ax.set_ylim((-2300e3, -2240e3))\n",
    "ax.set_title(\"$u\\\\cdot\\\\nabla s$\")\n",
    "colors = ax.imshow(product, extent=extent, vmin=vmin, vmax=vmax, cmap=\"RdBu\")\n",
    "fig.colorbar(colors);"
   ]
  },
  {
   "cell_type": "code",
   "execution_count": null,
   "id": "48f95512-6fa1-4fe0-91ec-d4145a9966c7",
   "metadata": {},
   "outputs": [],
   "source": [
    "xs = np.linspace(xmin, xmax, surface.shape[1])\n",
    "ys = np.linspace(ymax, ymin, surface.shape[0])\n",
    "\n",
    "fig, ax = plt.subplots()\n",
    "ax.set_xlabel(\"easting (meters)\")\n",
    "ax.set_ylabel(\"northing (meters)\")\n",
    "ax.set_xlim((-200e3, -150e3))\n",
    "ax.set_ylim((-2300e3, -2240e3))\n",
    "colors = ax.imshow(speed, cmap=\"Blues\", extent=extent, norm=clrs.LogNorm(vmin=1.0, vmax=14e3))\n",
    "ax.contour(xs, ys, surface, colors=\"k\", linewidths=0.5, levels=np.linspace(0.0, 2000.0, 21));"
   ]
  }
 ],
 "metadata": {
  "kernelspec": {
   "display_name": "firedrake",
   "language": "python",
   "name": "firedrake"
  },
  "language_info": {
   "codemirror_mode": {
    "name": "ipython",
    "version": 3
   },
   "file_extension": ".py",
   "mimetype": "text/x-python",
   "name": "python",
   "nbconvert_exporter": "python",
   "pygments_lexer": "ipython3",
   "version": "3.11.5"
  }
 },
 "nbformat": 4,
 "nbformat_minor": 5
}

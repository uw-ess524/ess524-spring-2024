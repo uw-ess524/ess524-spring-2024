{
 "cells": [
  {
   "cell_type": "markdown",
   "id": "3c34692d-0e87-4d23-84db-7bc301f72caa",
   "metadata": {},
   "source": [
    "# Thermochronometry\n",
    "\n",
    "The calculation below is based on the very last section of chapter 6 of Anderson and Anderson's *Geomorphology* book.\n",
    "Briefly, many chemical reactions in rocks only occur above certain temperatures and pressures.\n",
    "By examining the chemistry of rocks at earth's surface, one can ascertain how long that parcel of rock spent above a given temperature and pressure during its exhumation from the interior.\n",
    "In the simplest settings, one assumes that the surfaces of constant temperature (isotherms) are flat, but in complex landscapes this is no longer true and one needs some estimate of the slope of the isotherms.\n",
    "Several papers have explored using numerical models for this heat flow calculation and there are some open-source software packages for it as well:\n",
    "* [Braun (2003)](https://doi.org/10.1016/S0098-3004(03)00052-9)\n",
    "* [Braun (2005)](https://doi.org/10.2138/rmg.2005.58.13)\n",
    "* [Ehlers (2005)](https://doi.org/10.2138/rmg.2005.58.12)\n",
    "* [Ehlers and Farley (2003)](https://doi.org/10.1016/S0012-821X(02)01069-5)\n",
    "* [Ehlers et al (2003)](https://doi.org/10.1029/2001JB001723)\n",
    "\n",
    "The setup that this demo will reproduce is from figure 6.45 in Anderson and Anderson."
   ]
  },
  {
   "cell_type": "code",
   "execution_count": null,
   "id": "5f507fc5-d048-4369-ad20-65d44391f4e0",
   "metadata": {},
   "outputs": [],
   "source": [
    "import numpy as np\n",
    "import matplotlib.pyplot as plt\n",
    "import firedrake\n",
    "from firedrake import Constant, inner, grad, dx, ds"
   ]
  },
  {
   "cell_type": "markdown",
   "id": "1f7df6c6-c011-4589-9ea1-85681e0e079e",
   "metadata": {},
   "source": [
    "### Geometry\n",
    "\n",
    "Here I'll show how to warp or deform an initial computational mesh into a new mesh.\n",
    "First, we'll create an initial mesh of the unit square.\n",
    "The colors in the plot below show the IDs of the boundary segments.\n",
    "You'll need those later when we want to apply different boundary conditions."
   ]
  },
  {
   "cell_type": "code",
   "execution_count": null,
   "id": "5293016a-f77c-4204-a91a-dcbfafafce9d",
   "metadata": {},
   "outputs": [],
   "source": [
    "nx, nz = 32, 32\n",
    "initial_mesh = firedrake.UnitSquareMesh(nx, nz, quadrilateral=True)"
   ]
  },
  {
   "cell_type": "code",
   "execution_count": null,
   "id": "9bdeffa9-95a3-4a53-868e-d41c03544a2c",
   "metadata": {},
   "outputs": [],
   "source": [
    "fig, ax = plt.subplots()\n",
    "ax.set_aspect(\"equal\")\n",
    "firedrake.triplot(initial_mesh, axes=ax)\n",
    "ax.legend();"
   ]
  },
  {
   "cell_type": "markdown",
   "id": "752e55ef-9460-4f59-a7d4-86a8bbc0f1e8",
   "metadata": {},
   "source": [
    "Now to create the jagged topography in figure 6.45 of A&A, we'll use the `firedrake.conditional` function.\n",
    "The physical domain is 10km long, and there are break points at the positions $x$ = 0, 2.5, 5, 7.5, and 10km.\n",
    "In our initial, computational domain, these will be at the positions 0, 1/4, 1/2, 3/4, and 1.\n",
    "The depths at the break points in the figure are 0, 2, 0, 1, and 0km.\n",
    "We'll reverse this and instead assume the highest peak is 2km above sea level.\n",
    "The deepest point is at an elevation of -3km."
   ]
  },
  {
   "cell_type": "code",
   "execution_count": null,
   "id": "f5764014-3701-40cb-b1c5-e5b8e3e5b892",
   "metadata": {},
   "outputs": [],
   "source": [
    "xs = [Constant(x) for x in [0.0, 0.25, 0.5, 0.75, 1.0]]\n",
    "hs = [Constant(h) for h in [2.0, 0.0, 2.0, 1.0, 2.0]]"
   ]
  },
  {
   "cell_type": "markdown",
   "id": "30154ae0-2889-4c8e-8860-3d6e090f35d2",
   "metadata": {},
   "source": [
    "We're going to start by making an expression for the surface elevation in the right-most segment of the domain.\n",
    "The surface elevation linearly interpolates the values `hs[3]` and `hs[4]` between the points `xs[3]` and `xs[4]`."
   ]
  },
  {
   "cell_type": "code",
   "execution_count": null,
   "id": "7894eeee-37a5-4c9b-b3bb-d16667c6e8f1",
   "metadata": {},
   "outputs": [],
   "source": [
    "x, z = firedrake.SpatialCoordinate(initial_mesh)\n",
    "\n",
    "ξ_4 = (x - xs[3]) / (xs[4] - xs[3])\n",
    "expr4 = hs[3] * (1 - ξ_4) + hs[4] * ξ_4"
   ]
  },
  {
   "cell_type": "markdown",
   "id": "e6430f7d-bbc8-4c34-9575-0f5f496981d6",
   "metadata": {},
   "source": [
    "But this expression alone doesn't describe the topography over the whole domain, only between the last two break points.\n",
    "We can at least get something that's correct in the next interval to the left by using the conditional function.\n",
    "When the condition `x <= xs[3]` evaluates to true, it picks the first expression, which now interpolates the height values between `xs[2]` and `xs[3]`; when it evaluates to false, it picks the second expression, which we just defined in the cell above."
   ]
  },
  {
   "cell_type": "code",
   "execution_count": null,
   "id": "f14c6145-749a-448a-b56f-b4085c2823d7",
   "metadata": {},
   "outputs": [],
   "source": [
    "ξ_3 = (x - xs[2]) / (xs[3] - xs[2])\n",
    "expr3 = firedrake.conditional(\n",
    "    x <= xs[3],\n",
    "    hs[2] * (1 - ξ_3) + hs[3] * ξ_3,\n",
    "    expr4,\n",
    ")"
   ]
  },
  {
   "cell_type": "markdown",
   "id": "38d3b290-72c0-4ff1-b6a3-077e189bfacd",
   "metadata": {},
   "source": [
    "But why stop there?"
   ]
  },
  {
   "cell_type": "code",
   "execution_count": null,
   "id": "5aab23ae-836c-4595-bc4a-60f49102ba79",
   "metadata": {},
   "outputs": [],
   "source": [
    "ξ_2 = (x - xs[1]) / (xs[2] - xs[1])\n",
    "expr2 = firedrake.conditional(\n",
    "    x <= xs[2],\n",
    "    hs[1] * (1 - ξ_2) + hs[2] * ξ_2,\n",
    "    expr3,\n",
    ")\n",
    "\n",
    "ξ_1 = (x - xs[0]) / (xs[1] - xs[0])\n",
    "Z = firedrake.conditional(\n",
    "    x <= xs[1],\n",
    "    hs[0] * (1 - ξ_1) + hs[1] * ξ_1,\n",
    "    expr2,\n",
    ")"
   ]
  },
  {
   "cell_type": "markdown",
   "id": "978fa28a-a6ee-492b-8d63-865cee33e89d",
   "metadata": {},
   "source": [
    "Finally, we'll make an expression for the mapping between the initial mesh and the computational mesh.\n",
    "Since we're making a vector expression now, we pass a tuple or list of its components to the function `firedrake.as_vector`.\n",
    "In the $x$ component, we linearly scale all the values up to the length of the domain, which is 10km.\n",
    "In the $z$ component, we linearly interpolate between the elevation of the bottom of the domain (-3km) at the bottom of the computational domain, up to the expression for the surface elevation defined above at the top of the computational domain."
   ]
  },
  {
   "cell_type": "code",
   "execution_count": null,
   "id": "d43a3ded-16e1-45cf-be3d-42b4dc2ccd9f",
   "metadata": {},
   "outputs": [],
   "source": [
    "Lx = Constant(10.0)\n",
    "z_b = Constant(-3.0)\n",
    "expr = firedrake.as_vector([Lx * x, (1 - z) * z_b + z * Z])"
   ]
  },
  {
   "cell_type": "markdown",
   "id": "eedbe467-1be4-4bda-bfd2-04c4b4e8ca50",
   "metadata": {},
   "source": [
    "Finally, we extract the function space for the coordinates on the initial mesh, interpolate our incredibly annoying vector expression above, and define a new mesh based on these coordinates."
   ]
  },
  {
   "cell_type": "code",
   "execution_count": null,
   "id": "3cded3ff-1654-4720-940f-a0e2b3c88970",
   "metadata": {},
   "outputs": [],
   "source": [
    "Vc = initial_mesh.coordinates.function_space()\n",
    "X = firedrake.Function(Vc).interpolate(expr)\n",
    "mesh = firedrake.Mesh(X)"
   ]
  },
  {
   "cell_type": "markdown",
   "id": "36c709a1-b2f4-4ef0-854c-c8c922fb091b",
   "metadata": {},
   "source": [
    "Now let's plot the result.\n",
    "Note how the boundary labels stay the same."
   ]
  },
  {
   "cell_type": "code",
   "execution_count": null,
   "id": "c221f38b-b21d-478d-842e-6eb5f8576079",
   "metadata": {},
   "outputs": [],
   "source": [
    "fig, ax = plt.subplots()\n",
    "ax.set_aspect(\"equal\")\n",
    "ax.set_xlabel(\"x (km)\")\n",
    "ax.set_ylabel(\"z (km)\")\n",
    "firedrake.triplot(mesh, axes=ax)\n",
    "ax.legend();"
   ]
  },
  {
   "cell_type": "markdown",
   "id": "b5d96743-3f64-498f-a89a-3fd466066894",
   "metadata": {},
   "source": [
    "I've had a lot of practice at this."
   ]
  },
  {
   "cell_type": "markdown",
   "id": "ded12e2b-972f-4518-b4d2-6526dfe60175",
   "metadata": {},
   "source": [
    "### Modeling\n",
    "\n",
    "Compared to that awful expression for the geometry, the modeling part will be easy.\n",
    "We won't ever have to refer to the initial mesh or its coordinates again, so we can now make `x` and `z` stand for the spatial coordinates on our real mesh."
   ]
  },
  {
   "cell_type": "code",
   "execution_count": null,
   "id": "6a44ca2e-6e52-4e2c-ab75-51a9871f5066",
   "metadata": {},
   "outputs": [],
   "source": [
    "x, z = firedrake.SpatialCoordinate(mesh)"
   ]
  },
  {
   "cell_type": "markdown",
   "id": "24ac32f7-22dd-4270-a410-ed01a3a6a973",
   "metadata": {},
   "source": [
    "First, we'll make the temperature field at the surface from a typical moist adiabatic lapse rate of 5${}^\\circ$C / km.\n",
    "We store the boundary IDs of the surface in the list `surf_ids`.\n",
    "We can identify these by looking at the colors and legend in the figure above."
   ]
  },
  {
   "cell_type": "code",
   "execution_count": null,
   "id": "9a668147-b7ba-48ef-acb9-d09af78a41d8",
   "metadata": {},
   "outputs": [],
   "source": [
    "T_sea_level = Constant(18.0)\n",
    "Γ = Constant(5.0)\n",
    "T_surf = T_sea_level - Γ * z\n",
    "surf_ids = [4]"
   ]
  },
  {
   "cell_type": "markdown",
   "id": "138a70f4-38e9-4654-b163-bf6faa0bdcd6",
   "metadata": {},
   "source": [
    "At the bottom of the domain, we'll assume a constant temperature of 90C.\n",
    "This isn't what's actually used in the figure in A&A but good enough for demonstration purposes."
   ]
  },
  {
   "cell_type": "code",
   "execution_count": null,
   "id": "bd8ba29e-8127-4e3f-b753-4a3a485bebe6",
   "metadata": {},
   "outputs": [],
   "source": [
    "T_bed = Constant(90.0)\n",
    "bed_ids = [3]"
   ]
  },
  {
   "cell_type": "markdown",
   "id": "d40ca5e4-3553-4cdf-b1a5-d01d3996989c",
   "metadata": {},
   "source": [
    "Finally, we'll assume no heat flux through the side walls of the domain.\n",
    "Google tells me that the thermal conductivity of rocks is somewhere between 0.4 and 7.0 W / m ${}^\\circ$C.\n",
    "I'll split the difference and take a thermal conductivity of 3.5 W / m ${}^\\circ$C and convert it to km."
   ]
  },
  {
   "cell_type": "code",
   "execution_count": null,
   "id": "327716cc-06ee-4e99-a370-8e293febc466",
   "metadata": {},
   "outputs": [],
   "source": [
    "k = Constant(3.5e3)\n",
    "\n",
    "element = firedrake.FiniteElement(\"CG\", \"quadrilateral\", 1)\n",
    "V = firedrake.FunctionSpace(mesh, element)\n",
    "\n",
    "T = firedrake.Function(V)\n",
    "ϕ = firedrake.TestFunction(V)\n",
    "F = k * inner(grad(T), grad(ϕ)) * dx\n",
    "\n",
    "surf_bc = firedrake.DirichletBC(V, T_surf, surf_ids)\n",
    "bed_bc = firedrake.DirichletBC(V, T_bed, bed_ids)\n",
    "bcs = [surf_bc, bed_bc]\n",
    "\n",
    "firedrake.solve(F == 0, T, bcs)"
   ]
  },
  {
   "cell_type": "markdown",
   "id": "21544391-39e0-419c-a59b-1499927236d9",
   "metadata": {},
   "source": [
    "Now we'll plot the result.\n",
    "I've added some contours every 10${}^\\circ$C so you can see the bending of the isotherms.\n",
    "As A&A note in the book chapter, the isotherms are basically flat below a depth equal to the landscape relief."
   ]
  },
  {
   "cell_type": "code",
   "execution_count": null,
   "id": "b7dcb303-0727-4d19-b95d-4d296dce9073",
   "metadata": {},
   "outputs": [],
   "source": [
    "fig, ax = plt.subplots()\n",
    "ax.set_aspect(\"equal\")\n",
    "ax.set_xlabel(\"x (km)\")\n",
    "ax.set_ylabel(\"z (km)\")\n",
    "colors = firedrake.tripcolor(T, cmap=\"inferno\", axes=ax)\n",
    "fig.colorbar(colors, label=\"temperature (${}^\\circ$C)\")\n",
    "levels = np.linspace(0.0, 80.0, 9)\n",
    "firedrake.tricontour(T, levels=levels, colors=\"grey\", axes=ax);"
   ]
  },
  {
   "cell_type": "markdown",
   "id": "e5567196-5d4c-498c-8e3d-7ff12df75625",
   "metadata": {},
   "source": [
    "### Now what\n",
    "\n",
    "Another way that we could have done our computations would be to do our actual computing on the initial mesh, but reformulate everything in terrain-following coordinates.\n",
    "This would give us a reasonably simple way to deal with variable surface topography, from say erosion or other surface processes.\n",
    "\n",
    "Other things to try:\n",
    "* add upward advection of heat or exhumation\n",
    "* use a fixed heat flux from below the crust; figure out a sensible value that roughly gives the same slope as above\n",
    "* use a more realistic (variable) thermal conductivity\n",
    "* simulate a chemical reaction occuring along with the exhumation; make it temperature-dependent"
   ]
  }
 ],
 "metadata": {
  "kernelspec": {
   "display_name": "firedrake",
   "language": "python",
   "name": "firedrake"
  },
  "language_info": {
   "codemirror_mode": {
    "name": "ipython",
    "version": 3
   },
   "file_extension": ".py",
   "mimetype": "text/x-python",
   "name": "python",
   "nbconvert_exporter": "python",
   "pygments_lexer": "ipython3",
   "version": "3.11.5"
  }
 },
 "nbformat": 4,
 "nbformat_minor": 5
}

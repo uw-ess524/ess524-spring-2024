{
 "cells": [
  {
   "cell_type": "code",
   "execution_count": null,
   "id": "5c6e6e93-4ac1-4c39-b9f9-8126857c48c6",
   "metadata": {},
   "outputs": [],
   "source": [
    "import numpy as np\n",
    "import scipy\n",
    "import sympy\n",
    "import matplotlib.pyplot as plt\n",
    "from matplotlib.animation import FuncAnimation\n",
    "from IPython.display import HTML"
   ]
  },
  {
   "cell_type": "markdown",
   "id": "59f8b539-d7c0-44f0-9c5f-a26ee406f3af",
   "metadata": {},
   "source": [
    "## Collocation, again\n",
    "\n",
    "The essence of collocation is picking some set of basis functions, and picking the coefficients so that the ODE is solved exactly at some finite set of points.\n",
    "We showed before that using linear basis functions and picking the collocation point to be either $\\tau = 1/2$ or $\\tau = 1$ can give good methods for conservative and dissipative problems respectively.\n",
    "Here we'll do a collocation method of one higher degree -- piecewise quadratic instead of linear functions.\n",
    "Before, we decided arbitrarily to try 0, 1/2, and 1 as the sole collocation point in the interval.\n",
    "**How do we pick the collocation points for higher-degree polynomials?**\n",
    "To answer this question, we have to take a bit of a detour."
   ]
  },
  {
   "cell_type": "markdown",
   "id": "036c2a7c-7c34-4fa2-8691-a920b7513e60",
   "metadata": {},
   "source": [
    "### Quadrature\n",
    "\n",
    "*Quadrature* is the problem of how to approximate integrals.\n",
    "A *quadrature formula* is a set of points $\\{\\tau_0, \\ldots, \\tau_N\\}$ and a set of weights $\\{\\omega_0, \\ldots, \\omega_N\\}$ such that\n",
    "$$\\int_0^1 f(\\tau)d\\tau \\approx \\sum_n\\omega_nf(\\tau_n).$$\n",
    "We can assume that the interval of integration is always equal to $[0, 1]$ because a general interval can be remapped to the unit interval.\n",
    "\n",
    "Suppose that we have already picked the quadrature points $\\{\\tau_0, \\ldots, \\tau_N\\}$.\n",
    "How do we pick the weights?\n",
    "One way to do this is to **make the quadrature formula exact for all polynomials up to degree $N$**.\n",
    "So taking $f_0(\\tau) = 1$, we find that the weights have to sum up to 1:\n",
    "$$\\sum_n\\omega_n = \\sum_n\\omega_nf_0(\\tau_n) = \\int_0^1f_0(\\tau)d\\tau = 1.$$\n",
    "If we then take $f_1(\\tau) = \\tau$, we get our next condition:\n",
    "$$\\sum_n\\omega_n\\tau_n = \\int_0^1f_1(\\tau)d\\tau = \\int_0^1\\tau\\, d\\tau = 1/2.$$\n",
    "We can continue in this way, taking $f_n(\\tau) = \\tau^n$ for $n$ up to $N$ to get a complete system of linear equations for the weights.\n",
    "The matrix for this equation is\n",
    "$$L_{mn} = \\tau_n^m$$\n",
    "The rows are powers and the columns are quadrature points.\n",
    "The entries of the right-hand side of the equation we need to solve is\n",
    "$$f_m = \\int_0^1\\tau^m d\\tau = 1 / (m + 1).$$\n",
    "Write two procedures to calculate this matrix and right-hand side below."
   ]
  },
  {
   "cell_type": "code",
   "execution_count": null,
   "id": "336e011c-f77a-4339-9e2d-dcf64cba978b",
   "metadata": {},
   "outputs": [],
   "source": [
    "def quadrature_matrix(τs):\n",
    "    L = np.zeros((len(τs), len(τs)))\n",
    "    ...\n",
    "    return L\n",
    "\n",
    "def quadrature_right_hand_side(τs):\n",
    "    ..."
   ]
  },
  {
   "cell_type": "markdown",
   "id": "ed45e2c9-dfc6-4a35-bc18-c55722e75f6d",
   "metadata": {},
   "source": [
    "Write some code to test that this works.\n",
    "Up to you how you do it.\n",
    "The only things I insist on are that (1) you try it for more than one value of $N$, and (2) for each $N$ that you choose, try it for a polynomial of degree less than or equal to $N$ and another polynomial of degree greater than $N$.\n",
    "You can pick a polynomial by hand if you want, or you can generate one with random coefficients.\n",
    "Pick quadrature points however you feel like and if you have time try more than one.\n",
    "Show the results however you see fit."
   ]
  },
  {
   "cell_type": "code",
   "execution_count": null,
   "id": "da45be82-5e2d-4035-adc3-d0bac5c3980a",
   "metadata": {},
   "outputs": [],
   "source": []
  },
  {
   "cell_type": "markdown",
   "id": "55d6f8ea-56cf-412b-9f7a-1cde861529a3",
   "metadata": {},
   "source": [
    "So with $N + 1$ points we can integrate polynomials of degree $N$ exactly.\n",
    "**Can we do better?**\n",
    "This might seem like a fool's errand.\n",
    "To see why it isn't, think of quadrature formulas that use only a single point.\n",
    "For a totally arbitrary choice of point, we can only expect to integrate constant functions (or degree-0 polynomials) exactly.\n",
    "But if we take the single quadrature point to be 1/2, we can integrate linear functions exactly with, I repeat, only a single point.\n",
    "Maybe this reminds you of how the forward and backward methods are 1st-order while the midpoint method is 2nd-order...\n",
    "\n",
    "Are there 2-point quadrature formulas that can integrate quadratic (or maybe even higher degree) polynomials exactly?\n",
    "Given the number $N$ of points, is there an optimal choice of points?\n",
    "Amazingly, the answer is yes, but we have to take another detour."
   ]
  },
  {
   "cell_type": "markdown",
   "id": "787d1084-b839-4594-b0a8-eced928c07fe",
   "metadata": {},
   "source": [
    "### Legendre polynomials\n",
    "\n",
    "The *Legendre polynomials* $P_n$ are a set of polynomials with the property that they are all orthogonal with respect to each other:\n",
    "$$\\int_0^1P_m(\\tau)P_n(\\tau)d\\tau = 0$$\n",
    "if $m$ and $n$ are distinct.\n",
    "You can obtain the Legendre polynomials by taking the usual monomial basis $1, \\tau, \\tau^2, \\ldots$ and applying the [Gram-Schmidt process](https://en.wikipedia.org/wiki/Gram%E2%80%93Schmidt_process).\n",
    "There's also a handy closed-form expression for them:\n",
    "$$P_n(\\tau) = \\frac{1}{n!}\\frac{d^n}{d\\tau^n}\\tau^n(\\tau - 1)^n$$\n",
    "Write some code below to compute a single Legendre polynomial symbolically using the formula above.\n",
    "The function stub that I've written below takes in the degree $n$ and the symbol $\\tau$ as an argument.\n",
    "We'll create this symbol using sympy below."
   ]
  },
  {
   "cell_type": "code",
   "execution_count": null,
   "id": "42411690-cff7-4523-b109-798dce292fd0",
   "metadata": {},
   "outputs": [],
   "source": [
    "from math import factorial\n",
    "def legendre_polynomial(n, τ):\n",
    "    ..."
   ]
  },
  {
   "cell_type": "markdown",
   "id": "f2be63bc-f80f-42c7-921e-55d4da3449ba",
   "metadata": {},
   "source": [
    "Make a sympy symbol `τ`, compute the Legendre polynomials up to degree 4, save them in a list called `Ps`, and print them out."
   ]
  },
  {
   "cell_type": "code",
   "execution_count": null,
   "id": "ef50090d-1074-4cb0-9a9a-19a98c3fc81a",
   "metadata": {},
   "outputs": [],
   "source": [
    "..."
   ]
  },
  {
   "cell_type": "markdown",
   "id": "d08ed550-8b16-412e-ba9c-05e54a1d817a",
   "metadata": {},
   "source": [
    "The code below will *lambdify* the sympy expressions so that we can evaluate them efficiently and then plot the results."
   ]
  },
  {
   "cell_type": "code",
   "execution_count": null,
   "id": "fc42024c-bc95-4ed4-94bb-42a6cc008858",
   "metadata": {},
   "outputs": [],
   "source": [
    "τs = np.linspace(0.0, 1.0, 50)\n",
    "fig, ax = plt.subplots()\n",
    "ax.plot(τs, np.ones_like(τs), label=\"degree 0\")\n",
    "for n, P in enumerate(Ps[1:]):\n",
    "    ax.plot(τs, sympy.lambdify(τ, P)(τs), label=f\"degree {n + 1}\")\n",
    "ax.legend();"
   ]
  },
  {
   "cell_type": "markdown",
   "id": "063eae75-837c-4df1-9c2f-cd8dd815ee27",
   "metadata": {},
   "source": [
    "An important thing to remember is that **the even-degree Legendre polynomials are all equal to 1 at the endpoints, the odd-degree polynomials are equal to -1 on the left and +1 on the right.**"
   ]
  },
  {
   "cell_type": "markdown",
   "id": "aaca0fda-36ba-41c5-b6a1-61180170bd98",
   "metadata": {},
   "source": [
    "### Gaussian quadrature\n",
    "\n",
    "That was all very fascinating but what does it have to do with quadrature?\n",
    "The answer is that **using the roots of the Legendre polynomials, you can integrate polynomials of even higher degree!**\n",
    "Using any $N + 1$ points, we can always integrate polynomials of degree $N$; but using the roots of $P_{N + 1}$, we can integrate polynomials of degree $2N + 1$.\n",
    "\n",
    "We can use the sympy.solve function to compute the roots of a polynomial up to degree 4 analytically.\n",
    "It won't work for degree 5 or higher because [reasons](https://en.wikipedia.org/wiki/Galois_theory)."
   ]
  },
  {
   "cell_type": "code",
   "execution_count": null,
   "id": "0be94b1a-4788-4f7c-ae58-9c6f02eed1fd",
   "metadata": {},
   "outputs": [],
   "source": [
    "P_2 = legendre_polynomial(2, τ)\n",
    "sympy.solve(P_2, τ)"
   ]
  },
  {
   "cell_type": "markdown",
   "id": "38cb4d54-c41f-4345-bc1f-3854fd92dbe8",
   "metadata": {},
   "source": [
    "For higher degrees, we can instead use sympy.nroots to compute the roots numerically."
   ]
  },
  {
   "cell_type": "code",
   "execution_count": null,
   "id": "f5804f4d-8215-4a71-ab4d-80136a723f27",
   "metadata": {},
   "outputs": [],
   "source": [
    "P_10 = legendre_polynomial(10, τ)\n",
    "sympy.nroots(P_10)"
   ]
  },
  {
   "cell_type": "markdown",
   "id": "68c68b8c-22de-4a9f-9f82-b45e587af4dc",
   "metadata": {},
   "source": [
    "Write some code below to return the quadrature points and weights for a Gaussian quadrature formula of degree $N$.\n",
    "Compute the roots using solve if the degree is 4 or less or numerically if the degree is higher.\n",
    "Both sympy.solve and sympy.nroots return special sympy data types -- a symbol in the case of .solve, and a speical arbitrary-precision float from nroots.\n",
    "You might want to take the results, cast them all to `float`, put them in a list, and convert that to a numpy array.\n",
    "Return the result as a tuple `points, weights`.\n",
    "The code below assumes that you return the results in this order."
   ]
  },
  {
   "cell_type": "code",
   "execution_count": null,
   "id": "9ab239ba-d688-432b-abbe-97b5eae9b98b",
   "metadata": {},
   "outputs": [],
   "source": [
    "def gaussian_quadrature_formula(degree):\n",
    "    ..."
   ]
  },
  {
   "cell_type": "markdown",
   "id": "48860451-0c2e-4879-94ba-29f83b26f018",
   "metadata": {},
   "source": [
    "The code below will generate the Gaussian quadrature formula and try it on a couple of random polynomials."
   ]
  },
  {
   "cell_type": "code",
   "execution_count": null,
   "id": "bbe10c15-9173-49dc-a24a-0c1d17327244",
   "metadata": {},
   "outputs": [],
   "source": [
    "points, weights = gaussian_quadrature_formula(2)\n",
    "print(\"∫ f(t) dt ~= \" + \" + \".join([f\"{ω:.3f} * f({τ:.3f})\" for τ, ω in zip(points, weights)]))\n",
    "\n",
    "points, weights = gaussian_quadrature_formula(4)\n",
    "print(\"∫ f(t) dt ~= \" + \" + \".join([f\"{ω:.3f} * f({τ:.3f})\" for τ, ω in zip(points, weights)]))"
   ]
  },
  {
   "cell_type": "code",
   "execution_count": null,
   "id": "576d9947-d241-447d-93cb-a12450d8a66e",
   "metadata": {},
   "outputs": [],
   "source": [
    "degree = 4\n",
    "\n",
    "num_trials = 20\n",
    "errors = np.zeros(num_trials)\n",
    "for trial in range(num_trials):\n",
    "    points, weights = gaussian_quadrature_formula(4)\n",
    "    P = sum(a * τ ** n for n, a in enumerate(rng.normal(size=2 * degree)))\n",
    "    exact_value = float(sympy.integrate(P, (τ, 0, 1)))\n",
    "    p = sympy.lambdify(τ, P)\n",
    "    numeric_value = sum(ω_k * p(τ_k) for τ_k, ω_k in zip(points, weights))\n",
    "    error = abs(exact_value - numeric_value) / abs(exact_value)\n",
    "    errors[trial] = error"
   ]
  },
  {
   "cell_type": "code",
   "execution_count": null,
   "id": "e5757b43-5faa-4977-b0fb-de5121821e65",
   "metadata": {},
   "outputs": [],
   "source": [
    "print(f\"Range of relative errors: {errors.min():.3g}, {errors.max():.3g}\")"
   ]
  },
  {
   "cell_type": "markdown",
   "id": "5975baac-dd29-47b8-9dae-8b3d56aa17bc",
   "metadata": {},
   "source": [
    "### Collocation\n",
    "\n",
    "We've seen quadrature, Legendre polynomials, Gaussian quadrature... what does all this have to do with collocation?\n",
    "The answer is: **the Gaussian quadrature points make good collocation points too**.\n",
    "To be specific, we define the **Gauss** schemes of order $n$ for solving ODEs as a collocation method based on degree-n polynomials.\n",
    "They use the roots of the $n$th Legendre polynomial $P_n$ as collocation points.\n",
    "Note that all the roots of $P_n$ are contained inside the interval $[0, 1]$.\n",
    "The **Radau** scheme of order $n$ uses instead the roots of the polynomial $P_n - P_{n - 1}$ as collocation points.\n",
    "Since all the Legendre polynomials are equal to 1 at $\\tau = 1$, this means that the right endpoint of the interval is always a collocation point for the Radau schemes.\n",
    "\n",
    "The midpoint method, which you will recall works well for wave-type problems, is the order-1 Gauss method.\n",
    "The backward method, which works well for dissipative or diffusive problems, is the order-1 Radau method.\n",
    "\n",
    "We'll focus here on how collocation works for the simplest problem there is,\n",
    "$$\\dot z = -\\alpha z, \\quad z(0) = z_0.$$\n",
    "This is enough because of the eigendecomposition.\n",
    "Remember that $\\alpha$ might be complex but in order for the equation to be stable we require that the real part of $\\alpha$ is greater than or equal to 0.\n",
    "\n",
    "The purpose of the exercises below is to show you what the Gauss and Radau collocation methods do over a single step.\n",
    "We're going to write these methods assuming a general choice of polynomial basis and collocation points.\n",
    "At the end, we'll pick bases and use the collocation points that you computed above.\n",
    "\n",
    "In the first collocation notebook, we showed that the value of the solution at the next timestep could be expressed in terms of the value at the current timestep:\n",
    "$$z(t_n + \\delta t) = R(\\alpha\\cdot\\delta t)z(t_n).$$\n",
    "We call $R$ the *stability* function of the method.\n",
    "In general, it's not a polynomial but the ratio of two polynomials -- a *rational* function.\n",
    "Note that it only depends on the product $\\alpha\\cdot\\delta t$ of the decay constant and the timestep, not on either quantity individually.\n",
    "\n",
    "| Method | Stability fn $R(\\lambda)$\n",
    "| ------ | ------------\n",
    "| forward | $1 - \\lambda$\n",
    "| backward | $\\frac{1}{1 + \\lambda}$\n",
    "| midpoint | $\\frac{1 - \\lambda / 2}{1 + \\lambda / 2}$\n",
    "\n",
    "We call it the stability function because the values of $\\lambda$ for which $|R(\\lambda)| \\le 1$ tells us what timesteps will give us numerical solutions that don't grow for long integration times.\n",
    "Our goal in the following is to compute the stability function when we use higher-order polynomials.\n",
    "Here we'll only work with the degree-2 schemes.\n",
    "We could go higher but this is enough to make our point.\n",
    "\n",
    "Using the function sympy.solve, compute the collocation points for the Gauss(2) and Radau(2) schemes and save them in variables `gauss_points` and `radau_points`."
   ]
  },
  {
   "cell_type": "code",
   "execution_count": null,
   "id": "469ec573-c0dc-418d-9a4b-06ef46ab6739",
   "metadata": {},
   "outputs": [],
   "source": [
    "gauss_points = ...\n",
    "gauss_points"
   ]
  },
  {
   "cell_type": "code",
   "execution_count": null,
   "id": "38deb317-5e82-466b-9081-46c177f607d0",
   "metadata": {},
   "outputs": [],
   "source": [
    "radau_points = ...\n",
    "radau_points"
   ]
  },
  {
   "cell_type": "markdown",
   "id": "8de2fed7-6313-4dad-80b0-457866247836",
   "metadata": {},
   "source": [
    "### Stability function\n",
    "\n",
    "If we use a basis $\\{p_0, \\ldots, p_m\\}$, we'll write the expansion for $z$ within the interval as\n",
    "$$z(t_n + \\tau\\,\\delta t_n) = \\sum_ks_kp_k(\\tau).$$\n",
    "We can compute what the stability function is for a collocation method by systematically applying two conditions:\n",
    "1. The solution $z$ has to be continuous, i.e. the value at the left endpoint of the current interval has to agree with the right endpoint of the previous interval.\n",
    "2. The ODE has to be exact at the collocation points $\\{\\tau_1, \\ldots, \\tau_m\\}$.\n",
    "\n",
    "This will give us a linear system to solve for the coefficients $\\{s_k\\}$.\n",
    "The size of the system is only as big as the number of basis functions -- so it's a 3x3 matrix equation if we're using quadratic polynomials.\n",
    "We will, once again, make sympy do the annoying parts for us.\n",
    "\n",
    "The first condition is that we should match the old value at the left endpoint:\n",
    "$$\\sum_ks_kp_k(0) = z(t_n),$$\n",
    "where we assume that $z(t_n)$ is given.\n",
    "Next, we need that the ODE is exact at the collocation points $\\{\\tau_1, \\ldots, \\tau_m\\}$.\n",
    "(Note that we started indexing the basis functions at 0, so there are $m + 1$ basis functions, but there are only $m$ collocation points.)\n",
    "We can write this as:\n",
    "$$\\sum_ks_k\\dot p_k(\\tau_j) = -\\alpha\\,\\delta t\\,\\sum_ks_kp_k(\\tau_j).$$\n",
    "Let's write this as a big linear system:\n",
    "$$\\left\\{\\left[\\begin{matrix}p_0(0) & p_1(0) & \\cdots & p_m(0) \\\\ \\dot p_0(\\tau_1) & \\dot p_1(\\tau_1) & \\cdots & \\dot p_m(0) \\\\ \\vdots & \\vdots & & \\vdots \\\\ \\dot p_0(\\tau_m) & \\dot p_1(\\tau_m) & \\cdots & \\dot p_m(\\tau_m)\\end{matrix}\\right] + \\alpha\\,\\delta t\\left[\\begin{matrix}0 & 0 & \\cdots & 0 \\\\ p_0(\\tau_1) & p_1(\\tau_1) & \\cdots & p_m(\\tau_m) \\\\ \\vdots & \\vdots & & \\vdots \\\\ p_0(\\tau_m) & p_1(\\tau_m) & \\cdots & p_m(\\tau_m)\\end{matrix}\\right]\\right\\}\\left[\\begin{matrix} s_0 \\\\ s_1 \\\\ \\vdots \\\\ s_m\\end{matrix}\\right] = \\left[\\begin{matrix} z(t_n) \\\\ 0 \\\\ \\vdots \\\\ 0 \\end{matrix}\\right]$$\n",
    "We'll define the first matrix on the left-hand side as $D$, and the second matrix as $E$.\n",
    "We can then write this concisely as\n",
    "$$(D + \\alpha\\cdot\\delta t\\cdot E)s = z(t_n)e_0$$\n",
    "where $e_0$ is the vector that is equal to 1 in the 0th entry and 0 in all other entries.\n",
    "\n",
    "Fill in the code below to form the $D$ matrix."
   ]
  },
  {
   "cell_type": "code",
   "execution_count": null,
   "id": "49fa62a6-1d75-40fb-9de7-ee0b4f2fcfee",
   "metadata": {},
   "outputs": [],
   "source": [
    "def differentiation_matrix(τ, ps, τs):\n",
    "    m = len(τs)\n",
    "    D = sympy.Matrix(m + 1, m + 1, (m + 1) **2 * [0])\n",
    "    ...\n",
    "    return D"
   ]
  },
  {
   "cell_type": "markdown",
   "id": "43df37c3-728a-4b44-b9bc-d27e8c2b3189",
   "metadata": {},
   "source": [
    "Fill in the code below to form the $E$ matrix.\n",
    "Don't include the factor of $\\alpha\\cdot\\delta t$ -- we'll put that in later."
   ]
  },
  {
   "cell_type": "code",
   "execution_count": null,
   "id": "4d2df361-1613-4285-8407-3d257f1a9dd0",
   "metadata": {},
   "outputs": [],
   "source": [
    "def evaluation_matrix(τ, ps, τs):\n",
    "    m = len(τs)\n",
    "    E = sympy.Matrix(m + 1, m + 1, (m + 1) ** 2 * [0])\n",
    "    ...\n",
    "    return E"
   ]
  },
  {
   "cell_type": "markdown",
   "id": "1c523d2f-6a04-4682-99ef-9907a3914d40",
   "metadata": {},
   "source": [
    "Finally, having computed all the expansion coefficients $s$, we get the value of $z$ at the next timestep as\n",
    "$$z(t_n + 1\\cdot\\delta t) = \\sum_ks_kp_k(1).$$\n",
    "We can then define the *weight* vector $\\omega$ as\n",
    "$$\\omega = \\left[\\begin{matrix}p_0(1) \\\\ p_1(1) \\\\ \\vdots \\\\ p_m(1)\\end{matrix}\\right],$$\n",
    "in which case we can write\n",
    "$$z(t_n + 1\\cdot\\delta t) = \\omega^*s.$$\n",
    "Fill in the body of the function below to compute the weights."
   ]
  },
  {
   "cell_type": "code",
   "execution_count": null,
   "id": "8c0c970a-7ea0-4ad1-af10-7c3074d0b83e",
   "metadata": {},
   "outputs": [],
   "source": [
    "def weights(τ, ps):\n",
    "    ..."
   ]
  },
  {
   "cell_type": "markdown",
   "id": "e66e0e89-6ba4-47b5-ac28-f2c1ec52d9f2",
   "metadata": {},
   "source": [
    "I'm going to make a choice of basis functions for you.\n",
    "You can check that these polynomials are a spanning set."
   ]
  },
  {
   "cell_type": "code",
   "execution_count": null,
   "id": "fc0bbfa9-819c-491a-8506-15acee8c9cd8",
   "metadata": {},
   "outputs": [],
   "source": [
    "ps = [(1 - τ)**2, 2 * τ * (1 - τ), τ**2]"
   ]
  },
  {
   "cell_type": "markdown",
   "id": "618be97b-77a7-4544-86dd-c89611ff97c6",
   "metadata": {},
   "source": [
    "Compute the differentiation and evaluation matrices and the weight vector for the Radau points and print them all out."
   ]
  },
  {
   "cell_type": "code",
   "execution_count": null,
   "id": "f6ab31d3-7cfc-4afe-89b9-34d95cb06b69",
   "metadata": {},
   "outputs": [],
   "source": [
    "D = differentiation_matrix(τ, ps, radau_points)\n",
    "print(D)\n",
    "E = evaluation_matrix(τ, ps, radau_points)\n",
    "print(E)\n",
    "ω = weights(τ, ps)\n",
    "print(ω)"
   ]
  },
  {
   "cell_type": "markdown",
   "id": "10662b30-9189-40a5-9b31-f2d217d51184",
   "metadata": {},
   "source": [
    "If we put together the equations from above together, we find that\n",
    "$$z(t_n + \\delta t) = \\omega^*(D + \\alpha\\cdot\\delta t\\cdot E)^{-1}e_0\\cdot z(t_n).$$\n",
    "This means that the stability function is\n",
    "$$R(\\lambda) = \\omega^*(D + \\lambda\\cdot E)^{-1}e_0.$$\n",
    "Fill in the body of the function below to compute the stability function.\n",
    "Note that this function takes in the symbol $\\lambda$ as an additional argument."
   ]
  },
  {
   "cell_type": "code",
   "execution_count": null,
   "id": "873697cc-d11c-4117-8b79-b168e786b237",
   "metadata": {},
   "outputs": [],
   "source": [
    "def stability_function(λ, τ, ps, τs):\n",
    "    ..."
   ]
  },
  {
   "cell_type": "markdown",
   "id": "ad4b019c-977d-4019-a64c-5ad1f4006d23",
   "metadata": {},
   "source": [
    "The code below computes the stability functions of the Gauss and Radau methods and prints them out."
   ]
  },
  {
   "cell_type": "code",
   "execution_count": null,
   "id": "aa123e5d-17a8-4785-a557-149fee2cde25",
   "metadata": {},
   "outputs": [],
   "source": [
    "λ = sympy.symbols(\"λ\")\n",
    "R_radau = stability_function(λ, τ, ps, radau_points)\n",
    "R_radau"
   ]
  },
  {
   "cell_type": "code",
   "execution_count": null,
   "id": "c0079579-5d41-4207-b5f3-eb69aacda442",
   "metadata": {},
   "outputs": [],
   "source": [
    "R_gauss = stability_function(λ, τ, ps, gauss_points)\n",
    "R_gauss"
   ]
  },
  {
   "cell_type": "markdown",
   "id": "847d448d-36af-4177-b46a-616a9926d98e",
   "metadata": {},
   "source": [
    "The code below will plot the stability functions for the Gauss and Radau methods for $\\lambda$ evenly spaced in the interval [0, 50].\n",
    "Plot $\\exp(-\\lambda)$ as well.\n",
    "What's the asymptotic behavior of each stability function near $\\lambda = 0$?\n",
    "When $\\lambda \\to \\infty$?"
   ]
  },
  {
   "cell_type": "code",
   "execution_count": null,
   "id": "01300f6b-4644-4d87-bcf8-b6e49cb80f88",
   "metadata": {},
   "outputs": [],
   "source": [
    "r_radau = sympy.lambdify(λ, R_radau, \"numpy\")\n",
    "r_gauss = sympy.lambdify(λ, R_gauss, \"numpy\")"
   ]
  },
  {
   "cell_type": "code",
   "execution_count": null,
   "id": "d31826d7-66f2-4fb0-b2cd-4158616d2d41",
   "metadata": {},
   "outputs": [],
   "source": [
    "λs = np.linspace(0, 50, 250)\n",
    "fig, ax = plt.subplots()\n",
    "ax.plot(λs, r_radau(λs), label=\"Radau\")\n",
    "ax.plot(λs, r_gauss(λs), label=\"Gauss\")\n",
    "ax.plot(λs, np.exp(-λs), label=\"$\\exp(-\\lambda)$\")\n",
    "ax.legend();"
   ]
  },
  {
   "cell_type": "markdown",
   "id": "754b97a0-4623-4882-bf7b-e5666afedcbb",
   "metadata": {},
   "source": [
    "Now we take $\\lambda$ to be evenly spaced in the interval $i[-10\\pi, 10\\pi]$, i.e. take $\\lambda$ along the imaginary axis and repeat the same exercise.\n",
    "The plots are of the real and imaginary parts first and include $\\exp(-\\lambda)$."
   ]
  },
  {
   "cell_type": "code",
   "execution_count": null,
   "id": "97913d65-0b75-438f-ad5f-e328709e0781",
   "metadata": {},
   "outputs": [],
   "source": [
    "λs = 1j * np.linspace(-10 * np.pi, +10 * np.pi, 500)\n",
    "fig, axes = plt.subplots(nrows=1, ncols=2, sharex=True, sharey=True)\n",
    "axes[0].plot(λs.imag, r_radau(λs).real, label=\"Radau\")\n",
    "axes[0].plot(λs.imag, r_gauss(λs).real, label=\"Gauss\")\n",
    "axes[0].plot(λs.imag, np.exp(-λs).real, label=\"$\\exp(-\\lambda)$\")\n",
    "axes[0].legend()\n",
    "axes[1].plot(λs.imag, r_radau(λs).imag, label=\"Radau\")\n",
    "axes[1].plot(λs.imag, r_gauss(λs).imag, label=\"Gauss\")\n",
    "axes[1].plot(λs.imag, np.exp(-λs).imag, label=\"$\\exp(-\\lambda)$\")\n",
    "axes[1].legend();"
   ]
  },
  {
   "cell_type": "markdown",
   "id": "6bd2d476-e73a-4584-926e-c57dd43bc3ca",
   "metadata": {},
   "source": [
    "The plot below shows the stability functions along the imaginary axis in the complex plane.\n",
    "What do you notice?"
   ]
  },
  {
   "cell_type": "code",
   "execution_count": null,
   "id": "61da18ef-73b5-4399-886c-108281c8033e",
   "metadata": {},
   "outputs": [],
   "source": [
    "fig, ax = plt.subplots()\n",
    "ax.set_aspect(\"equal\")\n",
    "zs_radau = r_radau(λs)\n",
    "zs_gauss = r_gauss(λs)\n",
    "zs = np.exp(-λs)\n",
    "ax.plot(zs_radau.real, zs_radau.imag, label=\"Radau\")\n",
    "ax.plot(zs_gauss.real, zs_gauss.imag, label=\"Gauss\")\n",
    "ax.plot(zs.real, zs.imag, zorder=1, linewidth=5.0, label=\"$\\exp(-\\lambda)$\")\n",
    "ax.legend(loc=\"lower right\");"
   ]
  },
  {
   "cell_type": "markdown",
   "id": "4eeae522-03f1-41c6-b50d-87f06416eda7",
   "metadata": {},
   "source": [
    "When we take higher-order basis functions, we get a faster convergence rate.\n",
    "The Radau(n) scheme converges like $\\delta t^{2n - 1}$, while the Gauss(n) scheme converges like $\\delta t^{2n}$."
   ]
  }
 ],
 "metadata": {
  "kernelspec": {
   "display_name": "Python 3 (ipykernel)",
   "language": "python",
   "name": "python3"
  },
  "language_info": {
   "codemirror_mode": {
    "name": "ipython",
    "version": 3
   },
   "file_extension": ".py",
   "mimetype": "text/x-python",
   "name": "python",
   "nbconvert_exporter": "python",
   "pygments_lexer": "ipython3",
   "version": "3.11.5"
  }
 },
 "nbformat": 4,
 "nbformat_minor": 5
}

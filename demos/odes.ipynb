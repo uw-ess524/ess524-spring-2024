{
 "cells": [
  {
   "cell_type": "markdown",
   "id": "7a1daab2-322e-4f4a-8a76-d8bcc41bce82",
   "metadata": {},
   "source": [
    "# ODEs\n",
    "\n",
    "The first part of this class will be to look at solution methods for time-dependent ODEs\n",
    "$$\\dot z = f(z, t), \\quad z|_{t = 0} = z_0.$$\n",
    "We'll use an overdot $\\dot z$ to denote the time derivative of a function.\n",
    "I'm not going to resort to any typographic tricks to distinguish between a scalar and a vector.\n",
    "If you're not sure, just ask."
   ]
  },
  {
   "cell_type": "markdown",
   "id": "714a32b3-5de8-478a-a8da-ebc68697444e",
   "metadata": {},
   "source": [
    "## Scalar problems\n",
    "\n",
    "You've probably encountered many examples in the wild already.\n",
    "* Radioactive decay: if $\\rho$ is the concentration of some radioactive element, then\n",
    "$$\\dot \\rho = -\\tau^{-1}\\rho$$\n",
    "where $\\tau$ is a time scale.\n",
    "The solution is $\\rho(t) = \\rho_0\\exp(-t/\\tau)$.\n",
    "* The harmonic oscillator: the position $x$ of a spring of mass $m$ obeys the 2nd-order ODE\n",
    "$$m\\ddot x + kx = 0$$\n",
    "where $k$ is the spring constant.\n",
    "Defining $\\omega = \\sqrt{k / m}$, this has the solution\n",
    "$$x(t) = x_0\\cos(\\omega t) + \\omega^{-1}\\dot x_0\\sin(\\omega t)$$\n",
    "where $x_0$ is the initial position and $\\dot x_0$ the initial velocity.\n",
    "\n",
    "**First exercise.**\n",
    "The decay time $\\tau$ for strontium-90 is about 20 years.\n",
    "Using numpy, compute the concentration of a sample of strontium-90 over a period of 100 years using 101 equally-spaced points.\n",
    "Assume that the initial concentration is equal to 1.0 in some system of units.\n",
    "I don't know what a reasonable quantity of this isotope is and I don't want to look it up for fear of getting put on a watch list.\n",
    "Then plot the results using matplotlib.\n",
    "We'll be making extensive use of the numpy package; if you're coming from MATLAB, [this](https://numpy.org/doc/stable/user/numpy-for-matlab-users.html) reference might be helpful.\n",
    "Some useful functions here are [np.linspace](https://numpy.org/doc/stable/reference/generated/numpy.linspace.html) and [np.exp](https://numpy.org/doc/stable/reference/generated/numpy.exp.html).\n",
    "\n",
    "Just a note: you can type a Greek character in a code cell by typing a backslash, spelling it out in english, and then hitting tab.\n",
    "For example, to type a Greek letter $\\tau$, start typing `\\tau` and then hit tab; likewise `\\rho` for $\\rho$, etc.\n",
    "I'm going to do this a lot so... probably get used to it."
   ]
  },
  {
   "cell_type": "code",
   "execution_count": null,
   "id": "ff17ccfb-ebf5-4444-84ff-611710ff97af",
   "metadata": {},
   "outputs": [],
   "source": [
    "import numpy as np\n",
    "# Your code here"
   ]
  },
  {
   "cell_type": "code",
   "execution_count": null,
   "id": "088acc4e-2c0e-4c00-9dd9-68b91eefe095",
   "metadata": {},
   "outputs": [],
   "source": [
    "import matplotlib.pyplot as plt\n",
    "# Your code here"
   ]
  },
  {
   "cell_type": "markdown",
   "id": "72510f25-3a77-45e9-8393-0a0c15e0bc3c",
   "metadata": {},
   "source": [
    "What is the concentration at the very end of the time interval?"
   ]
  },
  {
   "cell_type": "code",
   "execution_count": null,
   "id": "cc06a08c-ce7b-4ba0-a725-2ede4bd7c184",
   "metadata": {},
   "outputs": [],
   "source": [
    "# Your code here"
   ]
  },
  {
   "cell_type": "markdown",
   "id": "f4c19dfd-23ad-46a1-ace4-cc8de6a6d320",
   "metadata": {},
   "source": [
    "**Second exericse**: A ballpoint pen spring has a spring constant $k$ of 263 N/m.\n",
    "Assuming that it is compressed 4.2mm out of equilibrium with a 5g weight attached, compute the characteristic frequency $\\omega$ and the period $2\\pi / \\omega$.\n",
    "Compute its trajectory and plot its evolution over one full period; use 129 points.\n",
    "Keeping in mind that a Newton is 1 kg m / s${}^2$, it might be worth using a better unit system, e.g. grams and millimeters."
   ]
  },
  {
   "cell_type": "code",
   "execution_count": null,
   "id": "b0a63c9b-672a-4416-84e8-e048a6dc0489",
   "metadata": {},
   "outputs": [],
   "source": [
    "# Your code here"
   ]
  },
  {
   "cell_type": "markdown",
   "id": "306897df-21ca-4e84-92b4-edf38227af94",
   "metadata": {},
   "source": [
    "## Vector problems\n",
    "\n",
    "These are scalar problems, but we'll mostly be concerned with *systems* of ODE -- where the unknown variable $z$ is a vector,\n",
    "$$z = \\left[\\begin{matrix}z_1 \\\\ \\vdots \\\\ z_n\\end{matrix}\\right]$$\n",
    "The most general form of ODE system is\n",
    "$$\\dot z + A z = f, \\quad z|_{t = 0} = z_0$$\n",
    "where $A$ is a $n \\times n$ matrix.\n",
    "Suppose that $f$ is zero and that $A$ doesn't depend on time for now.\n",
    "We can write the solution in terms of the *matrix exponential*:\n",
    "$$z(t) = \\exp(-tA)z_0$$\n",
    "We can define the matrix exponential using a power series, just like for scalar inputs:\n",
    "$$\\exp(-tA) = I - tA + \\frac{t^2A^2}{2} - \\frac{t^3A^3}{6} + \\ldots = \\sum_{k = 0}^\\infty\\frac{(-1)^k}{k!}t^kA^k$$\n",
    "That doesn't feel very computable does it?\n",
    "We can do something better if we know the eigenvalue decomposition of $A$.\n",
    "Suppose we've found a matrix $V$ and a diagonal matrix $\\Lambda$ such that\n",
    "$$A = V\\Lambda V^{-1} = V\\left[\\begin{matrix}\\lambda_1 & & \\\\ & \\ddots & \\\\ & & \\lambda_n\\end{matrix}\\right]V^{-1}$$\n",
    "Then we can write the exponential of $-tA$ in terms of its eigenvalues:\n",
    "$$A = V\\left[\\begin{matrix}\\exp(-t\\lambda_1) & & \\\\ & \\ddots & \\\\ & & \\exp(-t\\lambda_n)\\end{matrix}\\right]V^{-1}$$\n",
    "A useful fact that we'll need shortly is that\n",
    "$$\\exp(-sA)\\exp(-tA) = \\exp(-(s + t)A)$$\n",
    "but, unlike for scalars,\n",
    "$$\\exp(-t(A + B)) \\neq \\exp(-tA)\\exp(-tB)$$\n",
    "and this will come back to haunt us later!"
   ]
  },
  {
   "cell_type": "markdown",
   "id": "ffe80d2f-77da-4bfd-b540-f68d2073d9ad",
   "metadata": {},
   "source": [
    "## Coupled oscillators\n",
    "\n",
    "As our first example of a vector problem, we'll look at a system of coupled harmonic oscillators.\n",
    "We'll start with only a few (3 or 4).\n",
    "Later, we'll try lots of coupled oscillators, which is a reasonable finite-dimensional model for vibrating strings or for seismic waves.\n",
    "\n",
    "Say we number all of the weights with an index $i$.\n",
    "To describe how the oscillators are coupled, we would need a list of edges describing which weights are connected by springs to which other weights.\n",
    "We can pack this into a matrix with one row for each weight and one column for each spring.\n",
    "Each column will have a single +1 entry for one weight and a -1 entry for the other weight.\n",
    "The order doesn't matter.\n",
    "We call this the *incidence* matrix.\n",
    "The incidence matrix for three weights connected in a line by two springs is:\n",
    "$$D = \\left[\\begin{matrix} -1 & 0 \\\\ +1 & -1 \\\\ 0 & +1\\end{matrix}\\right]$$\n",
    "while the incidence matrix for three weights connected in a triangle is:\n",
    "$$D = \\left[\\begin{matrix} -1 & 0 & +1 \\\\ +1 & -1 & 0\\\\ 0 & +1 & -1\\end{matrix}\\right]$$\n",
    "Write some code to fill the incidence matrix for four weights connected in a line by three springs.\n",
    "You can do it by hand for this specific case.\n",
    "Or you can write a routine that will do it in general and take the output for four weights."
   ]
  },
  {
   "cell_type": "code",
   "execution_count": null,
   "id": "01a3c3de-b001-4d0e-92f3-4757dc7af5ea",
   "metadata": {},
   "outputs": [],
   "source": [
    "D = ...  # fix this"
   ]
  },
  {
   "cell_type": "markdown",
   "id": "f88d5cab-d537-4920-be53-f7b4e27fc980",
   "metadata": {},
   "source": [
    "If you multiply the incidence matrix on the left by a vector of all 1s, you should get 0.\n",
    "Matrix multiplication in Python uses the `@` symbol."
   ]
  },
  {
   "cell_type": "code",
   "execution_count": null,
   "id": "d58fdf7f-686e-46d8-a681-a687ab688d49",
   "metadata": {},
   "outputs": [],
   "source": [
    "np.ones(4) @ D"
   ]
  },
  {
   "cell_type": "markdown",
   "id": "d7affb87-81e2-4080-8547-cc2bf0031f7f",
   "metadata": {},
   "source": [
    "Now spring #j has a certain characteristic frequency $\\omega_j$.\n",
    "We'll assume that all the springs have the same characteristic frequency.\n",
    "We can then write the ODE for the coupled system as\n",
    "$$\\ddot x + \\omega^2 D\\cdot D^*\\cdot x = 0$$\n",
    "where $D^*$ denotes the transpose of $D$.\n",
    "\n",
    "Write some code to form the matrix $DD^*$.\n",
    "Remember that you can get the transpose of a matrix with `D.T` and that `@` does matrix multiplication."
   ]
  },
  {
   "cell_type": "code",
   "execution_count": null,
   "id": "8f4df7e2-2678-4f5d-9a3d-1279e9ca45b6",
   "metadata": {},
   "outputs": [],
   "source": [
    "# Your code here"
   ]
  },
  {
   "cell_type": "markdown",
   "id": "f2f23545-83b8-474d-9ffb-94d638eeafe2",
   "metadata": {},
   "source": [
    "This is a 2nd-order ODE, so we might instead want to write it as a 1st-order system by introducing a new variable $v = \\dot x$:\n",
    "$$\\left[\\begin{matrix}\\dot x \\\\ \\dot v\\end{matrix}\\right] + \\left[\\begin{matrix} 0 & -I \\\\ \\omega^2DD^* & 0\\end{matrix}\\right]\\left[\\begin{matrix} x \\\\ v\\end{matrix}\\right] = 0$$\n",
    "Write some code to form the matrix\n",
    "$$A = \\left[\\begin{matrix} 0 & -I \\\\ \\omega^2DD^* & 0\\end{matrix}\\right]$$\n",
    "and save it in a variable `A`.\n",
    "Take $\\omega = 1/4$.\n",
    "Some useful functions:\n",
    "* [np.eye](https://numpy.org/devdocs/reference/generated/numpy.eye.html)\n",
    "* [np.zeros](https://numpy.org/devdocs/reference/generated/numpy.zeros.html)\n",
    "* [np.block](https://numpy.org/doc/stable/reference/generated/numpy.block.html)"
   ]
  },
  {
   "cell_type": "code",
   "execution_count": 1,
   "id": "b7205632-bec3-4865-92f9-e4b1612beaa1",
   "metadata": {},
   "outputs": [],
   "source": [
    "# Your code here\n",
    "A = ..."
   ]
  },
  {
   "cell_type": "markdown",
   "id": "02bd13d5-d472-4099-b9a0-8fb853092841",
   "metadata": {},
   "source": [
    "Say we want to use the formula $\\dot z = \\exp(-tA)z_0$ to solve the oscillator equation.\n",
    "If we can compute the eigenvalue decomposition of $A$ then we're good to go.\n",
    "Using the function [np.linalg.eig](https://numpy.org/doc/stable/reference/generated/numpy.linalg.eig.html), compute the eigendecomposition of $A$.\n",
    "This function returns multiple values, so you might want to look up how to catch them all.\n",
    "Save the eigenvalues into an array `λ` (and remember that's `\\lambda` and hit tab) and the eigenvectors into an array `V`."
   ]
  },
  {
   "cell_type": "code",
   "execution_count": null,
   "id": "43afc2d8-0d51-4c82-8e5b-4efe2fe18d2e",
   "metadata": {},
   "outputs": [],
   "source": [
    "λ, V = ..."
   ]
  },
  {
   "cell_type": "markdown",
   "id": "32a9dec1-05c3-48dc-9f3e-fd4beff12f8a",
   "metadata": {},
   "source": [
    "The eigenvalues might be complex numbers.\n",
    "You can get the real and imaginary parts with `.real` and `.imag`.\n",
    "Print out the real and imaginary parts of the eigenvalues of $A$ below."
   ]
  },
  {
   "cell_type": "code",
   "execution_count": null,
   "id": "a8e1db3a-db57-4837-b7e8-243924397326",
   "metadata": {},
   "outputs": [],
   "source": []
  },
  {
   "cell_type": "markdown",
   "id": "d870d890-d011-4850-9da4-a1466efcb3a1",
   "metadata": {},
   "source": [
    "As our initial condition, we'll take the first oscillator to be displaced by a distance 1/2 out of equilibrium, and all the other oscillators at rest.\n",
    "All the initial velocities will be equal to zero.\n",
    "Make two arrays `x_0` and `v_0` describing this initial condition."
   ]
  },
  {
   "cell_type": "code",
   "execution_count": null,
   "id": "7522a81b-faf8-4399-a902-465bbe9e23bd",
   "metadata": {},
   "outputs": [],
   "source": [
    "x_0 = ...\n",
    "v_0 = ..."
   ]
  },
  {
   "cell_type": "markdown",
   "id": "2150dfe2-b450-4d30-800d-60090d824616",
   "metadata": {},
   "source": [
    "Next we want to make a vector $v$ that includes both the position and velocity.\n",
    "There are a bunch of routines in numpy that do things like this and I have to try them all every time.\n",
    "The one we want is called concatenate.\n",
    "To make sure I did things correctly, you can check the `.shape` of the array."
   ]
  },
  {
   "cell_type": "code",
   "execution_count": null,
   "id": "55639cfc-f852-4025-b25c-bf8681d9bf74",
   "metadata": {},
   "outputs": [],
   "source": [
    "z_0 = np.concatenate((x_0, v_0))\n",
    "print(z_0.shape)"
   ]
  },
  {
   "cell_type": "markdown",
   "id": "44a99073-153e-4687-bf72-f1b284b802bc",
   "metadata": {},
   "source": [
    "Remember from before that the solution of the ODE at time $t$ is\n",
    "$$z(t) = V\\left[\\begin{matrix}\\exp(-t\\lambda_1) & & \\\\ & \\ddots & \\\\ & & \\exp(-t\\lambda_n)\\end{matrix}\\right]V^{-1}z_0.$$\n",
    "We'll break this up into several parts.\n",
    "We can compute the $V^{-1}z_0$ part using the function [np.linalg.solve](https://numpy.org/doc/stable/reference/generated/numpy.linalg.solve.html).\n",
    "Save the result of $V^{-1}z_0$ into a variable `w` below."
   ]
  },
  {
   "cell_type": "code",
   "execution_count": null,
   "id": "663b20c3-39d5-4765-b3af-e628024125ef",
   "metadata": {},
   "outputs": [],
   "source": []
  },
  {
   "cell_type": "markdown",
   "id": "afe0a032-1ae8-4d73-8d71-469f3ec6a86b",
   "metadata": {},
   "source": [
    "Next, taking $t = 4.0$ for an example, we can evaluate the vector $\\exp(-t\\lambda)$ using `np.exp`.\n",
    "If we do `u * w` on numpy arrays, we get the entry-wise product."
   ]
  },
  {
   "cell_type": "code",
   "execution_count": null,
   "id": "46b35de3-22e6-4559-bce0-894b3e1a63db",
   "metadata": {},
   "outputs": [],
   "source": []
  },
  {
   "cell_type": "markdown",
   "id": "280e1f26-7905-438d-9c07-5a73d81429e9",
   "metadata": {},
   "source": [
    "Finally, putting everything together, compute\n",
    "$$z_t = V \\cdot \\exp(-t\\lambda)\\cdot  w,$$\n",
    "remembering that `@` does matrix multiplication and `*` does entrywise multiplication.\n",
    "Store the result in an array `z_t`.\n",
    "Hint: put parentheses around the entrywise multiplication `*` in order to make sure that it gets evaluated before the matrix multiplication."
   ]
  },
  {
   "cell_type": "code",
   "execution_count": null,
   "id": "7a3fd19d-a591-4bae-a1c7-0af0f9674e4f",
   "metadata": {},
   "outputs": [],
   "source": []
  },
  {
   "cell_type": "markdown",
   "id": "8b7f6b2e-6137-4d45-b82a-41e04559ab21",
   "metadata": {},
   "source": [
    "The code below will pull out just the first 4 entries to get the positions and plot the result.\n",
    "Note how we have to take the real part.\n",
    "The imaginary part will be very small but non-zero because nothing is exact."
   ]
  },
  {
   "cell_type": "code",
   "execution_count": null,
   "id": "525105e3-e7d8-4294-be82-0e8e0e85bc37",
   "metadata": {},
   "outputs": [],
   "source": [
    "x_t = z_t[:4]\n",
    "fig, ax = plt.subplots()\n",
    "ax.scatter(list(range(4)), x_t.real);"
   ]
  },
  {
   "cell_type": "markdown",
   "id": "2bb92987-c027-4318-9805-44dcd372d2c8",
   "metadata": {},
   "source": [
    "The code below will show an animation of the oscillators."
   ]
  },
  {
   "cell_type": "code",
   "execution_count": null,
   "id": "99547e06-6f16-44f1-a62e-1437eda106d1",
   "metadata": {},
   "outputs": [],
   "source": [
    "%%capture\n",
    "\n",
    "from matplotlib.animation import FuncAnimation\n",
    "fig, ax = plt.subplots()\n",
    "ax.set_ylim((-0.5, +0.5))\n",
    "ids = list(range(4))\n",
    "points = ax.scatter(ids, z_0[:4])\n",
    "\n",
    "def animate(t):\n",
    "    z_t = V @ (np.exp(-t * λ) * w)\n",
    "    x_t = z_t[:4].real\n",
    "    points.set_offsets(np.column_stack((ids, x_t)))\n",
    "\n",
    "ts = np.linspace(0.0, 16.0, 512)\n",
    "animation = FuncAnimation(fig, animate, ts, interval=1e3/30)"
   ]
  },
  {
   "cell_type": "code",
   "execution_count": null,
   "id": "2940e18f-5e8d-4668-acd2-4f697a3fd8c9",
   "metadata": {},
   "outputs": [],
   "source": [
    "from IPython.display import HTML\n",
    "HTML(animation.to_html5_video())"
   ]
  }
 ],
 "metadata": {
  "kernelspec": {
   "display_name": "Python 3 (ipykernel)",
   "language": "python",
   "name": "python3"
  },
  "language_info": {
   "codemirror_mode": {
    "name": "ipython",
    "version": 3
   },
   "file_extension": ".py",
   "mimetype": "text/x-python",
   "name": "python",
   "nbconvert_exporter": "python",
   "pygments_lexer": "ipython3",
   "version": "3.11.5"
  }
 },
 "nbformat": 4,
 "nbformat_minor": 5
}

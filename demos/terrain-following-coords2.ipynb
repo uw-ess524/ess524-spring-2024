{
 "cells": [
  {
   "cell_type": "markdown",
   "id": "5a5154cd-e0a2-4610-80c6-d3c31f6156f9",
   "metadata": {},
   "source": [
    "# Terrain-following coordinates, again\n",
    "\n",
    "In the first notebook on terrain-following coordinates, we look at diffusion and advection-diffusion problems.\n",
    "Now let's try something harder: viscous fluid flow.\n",
    "Before, we had to transform vector fields and gradients of scalar fields.\n",
    "Here our solution variable is a vector field and we'll need to take its (symmetric) gradient, so there are a lot more metric terms.\n",
    "To review, the terrain-following coordinate transformation is\n",
    "$$\\begin{align}\n",
    "\\xi_1 & = x_1 \\\\\n",
    "\\xi_2 & = x_2 \\\\\n",
    "\\xi_3 & = H\\frac{x_3 - b(x_1, x_2)}{h(x_1, x_2)}\n",
    "\\end{align}$$\n",
    "which, upon defining the geometric distortion factor\n",
    "$$\\gamma = -\\frac{H}{h}\\left(\\nabla b + \\xi_3\\nabla h\\right)$$\n",
    "has the Jacobian\n",
    "$$\\frac{d\\xi}{dx} = \\left[\\begin{matrix}I & 0 \\\\ \\gamma^\\top & H / h\\end{matrix}\\right].$$\n",
    "We'll write $u_x$ and $u_\\xi$ for the vector fields in Cartesian and terrain-following coordinates respectively."
   ]
  },
  {
   "cell_type": "code",
   "execution_count": null,
   "id": "6b6f269c-abb4-4c54-9fc3-5ac8cfaee5d7",
   "metadata": {},
   "outputs": [],
   "source": [
    "import firedrake\n",
    "from firedrake import Constant, inner, sym, grad, div, dot\n",
    "import numpy as np\n",
    "import matplotlib.pyplot as plt\n",
    "\n",
    "nx, nz = 32, 32\n",
    "computational_domain = firedrake.UnitSquareMesh(nx, nz, diagonal=\"crossed\")"
   ]
  },
  {
   "cell_type": "code",
   "execution_count": null,
   "id": "fcb92eb0-6e9f-4859-830c-2a4362988cbb",
   "metadata": {},
   "outputs": [],
   "source": [
    "δb = Constant(1 / 4)\n",
    "α = Constant(1 / 8)\n",
    "ξ_0 = Constant(1 / 2)\n",
    "\n",
    "def sech(z):\n",
    "    return 2 / (firedrake.exp(z) + firedrake.exp(-z))\n",
    "\n",
    "def bed_topography(ξ):\n",
    "    return δb * sech((ξ - ξ_0) / α)"
   ]
  },
  {
   "cell_type": "code",
   "execution_count": null,
   "id": "96efa4f0-d81f-4f6b-b201-07f2aa5e2431",
   "metadata": {},
   "outputs": [],
   "source": [
    "ξ = firedrake.SpatialCoordinate(computational_domain)\n",
    "bed_expr = bed_topography(ξ[0])\n",
    "surf_expr = Constant(1.0)\n",
    "expr = firedrake.as_vector((ξ[0], (1 - ξ[1]) * bed_expr + ξ[1] * surf_expr))\n",
    "\n",
    "Vc = computational_domain.coordinates.function_space()\n",
    "X = firedrake.Function(Vc)\n",
    "X.interpolate(expr)\n",
    "physical_domain = firedrake.Mesh(X, reorder=False)"
   ]
  },
  {
   "cell_type": "code",
   "execution_count": null,
   "id": "37a99121-8c10-4b73-b20b-7239b94c2c43",
   "metadata": {},
   "outputs": [],
   "source": [
    "fig, ax = plt.subplots()\n",
    "ax.set_aspect(\"equal\")\n",
    "firedrake.triplot(physical_domain, axes=ax)\n",
    "ax.legend();"
   ]
  },
  {
   "cell_type": "markdown",
   "id": "a29da54d-6401-4c0b-b3ac-15c62ad9a36f",
   "metadata": {},
   "source": [
    "### Computing strain rates\n",
    "\n",
    "Before we can really do anything, we need to know how to compute strain rates in both reference frames.\n",
    "In Cartesian coordinates this is the same as it's always been."
   ]
  },
  {
   "cell_type": "code",
   "execution_count": null,
   "id": "6688f6cf-8879-473c-a079-1edde49f21fd",
   "metadata": {},
   "outputs": [],
   "source": [
    "def cartesian_strain_rate(u):\n",
    "    return sym(grad(u))"
   ]
  },
  {
   "cell_type": "markdown",
   "id": "2edbc17b-651a-4496-b292-d53211840e39",
   "metadata": {},
   "source": [
    "In terrain-following coordinates, we have to think about how all the fields get warped again.\n",
    "First, recall that\n",
    "$$u_x = J^{-1}u_\\xi,$$\n",
    "which we showed in the previous notebook from the chain rule.\n",
    "\n",
    "But next we have to ask how the gradient of $u$ transforms.\n",
    "When we type `grad(u)` and `u` is in a vector function space, we get a tensor.\n",
    "What do the indices of this tensor mean?\n",
    "Do the rows correspond to vector components of `u` and the columns correspond to what spatial variable we're differentiating, or the other way around?\n",
    "If you're not sure, you can check this -- make a vector field equal to $(x, 0)^\\top$, then $(y, 0)^\\top$, and repeat for the other component, evaluate their derivatives, project them into a tensor function space, and check the result at a point.\n",
    "I already did this so I can tell you that as far as Firedrake is concerned,\n",
    "$$\\text{grad}(u)_{ij} = \\frac{\\partial u_i}{\\partial x_j},$$\n",
    "i.e. vector components along rows and variables along columns.\n",
    "This means that to transform the gradient of $u$, we multiply on the right by the Jacobian of the coordinate transformation:\n",
    "$$\\nabla_xu_x = \\nabla_\\xi(J^{-1}u_\\xi)J$$\n",
    "and we can symmetrize it to get the strain rate tensor:\n",
    "$$\\begin{align}\n",
    "\\dot\\varepsilon_x(u_x) & = \\frac{1}{2}\\left(\\nabla_xu_x + \\nabla_xu_x^\\top\\right) \\\\\n",
    "& = \\frac{1}{2}\\left\\{\\nabla_\\xi(J^{-1}u_\\xi)J + J^*\\nabla_\\xi(J^{-1}u_\\xi)^*\\right\\}\n",
    "\\end{align}$$"
   ]
  },
  {
   "cell_type": "code",
   "execution_count": null,
   "id": "ed98b26c-5ed5-424d-8805-b5935500c79a",
   "metadata": {},
   "outputs": [],
   "source": [
    "ξ = firedrake.SpatialCoordinate(computational_domain)\n",
    "b = bed_topography(ξ[0])\n",
    "h = surf_expr - b\n",
    "H = Constant(1.0)\n",
    "\n",
    "γ = -H * (b.dx(0) + ξ[1] * h.dx(0)) / h\n",
    "dξ_dx = firedrake.as_tensor(\n",
    "    [\n",
    "        [1.0, 0.0],\n",
    "        [γ, H / h],\n",
    "    ]\n",
    ")\n",
    "\n",
    "η = b.dx(0) + ξ[1] * h.dx(0) / H\n",
    "dx_dξ = firedrake.as_tensor(\n",
    "    [\n",
    "        [1.0, 0.0],\n",
    "        [η, h / H]\n",
    "    ]\n",
    ")\n",
    "\n",
    "def terrain_following_strain_rate(u):\n",
    "    u_x = dot(dx_dξ, u)\n",
    "    grad_u = dot(grad(u_x), dξ_dx)\n",
    "    return sym(grad_u)"
   ]
  },
  {
   "cell_type": "markdown",
   "id": "02e8a65b-914b-4354-acb2-e00469798ddf",
   "metadata": {},
   "source": [
    "### The solver\n",
    "\n",
    "The setup here is that we're computing a velocity field that solves the Stokes equations but with friction along the top surface.\n",
    "We'll write $\\kappa$ for the friction coefficient.\n",
    "First we'll write a generic procedure to solve the Stokes problem that will work for both the Cartesian and terrain-following cases.\n",
    "The variational form is\n",
    "$$\\int_\\Omega\\left\\{2g\\mu\\dot\\varepsilon(u):\\dot\\varepsilon(v) - p\\nabla\\cdot gv - q\\nabla\\cdot gu\\right\\}dx + \\int_\\Gamma \\kappa(u - u_\\Gamma)\\cdot v\\,d\\gamma = 0$$\n",
    "together with the zero normal flow boundary condition at the top surface, $u\\cdot\\nu|_\\Gamma = 0$.\n",
    "Here $g$ is again the volume distortion factor, which is 1 in Cartesian coordinates, and equal to $h / H$ in terrain-following coordinates."
   ]
  },
  {
   "cell_type": "code",
   "execution_count": null,
   "id": "84537bdd-b62b-4588-b999-2be6d3c945a9",
   "metadata": {},
   "outputs": [],
   "source": [
    "top_ids = (4,)\n",
    "side_ids = (1, 2, 3)\n",
    "\n",
    "def solve_stokes(Z, μ, κ, g, ε, degree=8):\n",
    "    z = firedrake.Function(Z)\n",
    "    u, p = firedrake.split(z)\n",
    "    v, q = firedrake.TestFunctions(Z)\n",
    "\n",
    "    kw = {\"degree\": degree}\n",
    "    dx = firedrake.dx(**kw)\n",
    "    dγ = firedrake.ds(top_ids, **kw)\n",
    "    F_interior = (2 * g * μ * inner(ε(u), ε(v)) - p * div(g * v) - q * div(g * u)) * dx\n",
    "    F_boundary = κ * inner(u - u_Γ, v) * dγ\n",
    "    F = F_interior + F_boundary\n",
    "\n",
    "    bc_top = firedrake.DirichletBC(Z.sub(0).sub(1), Constant(0.0), top_ids)\n",
    "    bc_sides = firedrake.DirichletBC(Z.sub(0), Constant((0.0, 0.0)), side_ids)\n",
    "\n",
    "    basis = firedrake.VectorSpaceBasis(constant=True, comm=firedrake.COMM_WORLD)\n",
    "    nullspace = firedrake.MixedVectorSpaceBasis(Z, [Z.sub(0), basis])\n",
    "    firedrake.solve(F == 0, z, [bc_top, bc_sides], nullspace=nullspace)\n",
    "    return z"
   ]
  },
  {
   "cell_type": "markdown",
   "id": "fd7b03ee-1d9c-4af3-983c-0cb5456aca31",
   "metadata": {},
   "source": [
    "### The solutions\n",
    "\n",
    "Now let's actually compute the velocities and compare."
   ]
  },
  {
   "cell_type": "code",
   "execution_count": null,
   "id": "731b380b-3e80-4a15-8f08-27a7f15de62e",
   "metadata": {},
   "outputs": [],
   "source": [
    "cg2 = firedrake.FiniteElement(\"CG\", \"triangle\", 2)\n",
    "cg1 = firedrake.FiniteElement(\"CG\", \"triangle\", 1)\n",
    "\n",
    "Q_physical = firedrake.FunctionSpace(physical_domain, cg1)\n",
    "V_physical = firedrake.VectorFunctionSpace(physical_domain, cg2)\n",
    "Z_physical = V_physical * Q_physical\n",
    "\n",
    "Q_computational = firedrake.FunctionSpace(computational_domain, cg1)\n",
    "V_computational = firedrake.VectorFunctionSpace(computational_domain, cg2)\n",
    "Z_computational = V_computational * Q_computational"
   ]
  },
  {
   "cell_type": "code",
   "execution_count": null,
   "id": "3e3a02ea-81a5-40e1-92c4-3d765d571bba",
   "metadata": {},
   "outputs": [],
   "source": [
    "μ = Constant(1.0)\n",
    "λ = Constant(0.1)\n",
    "κ = Constant(μ / λ)\n",
    "u_Γ = Constant((1.0, 0.0))"
   ]
  },
  {
   "cell_type": "code",
   "execution_count": null,
   "id": "37d9de07-9149-4c7e-8ae9-064ddcb0eee0",
   "metadata": {},
   "outputs": [],
   "source": [
    "z_physical = solve_stokes(Z_physical, μ, κ, Constant(1.0), cartesian_strain_rate)\n",
    "z_terrain = solve_stokes(Z_computational, μ, κ, h / H, terrain_following_strain_rate)\n",
    "\n",
    "u_physical, p_physical = z_physical.subfunctions\n",
    "u_terrain, p_terrain = z_terrain.subfunctions"
   ]
  },
  {
   "cell_type": "markdown",
   "id": "3a61413e-bcd1-45b0-ae6a-5db98b1f4891",
   "metadata": {},
   "source": [
    "### Comparison\n",
    "\n",
    "In order to compare the two solutions, I'll have to remap the terrain-following solution back into Cartesian coordinates.\n",
    "This follows again the formula $u_x = J^{-1}u_\\xi$.\n",
    "Ask me about the bug that I made the first time I wrote this."
   ]
  },
  {
   "cell_type": "code",
   "execution_count": null,
   "id": "7dca9acd-4033-412b-a999-199da5a012c8",
   "metadata": {},
   "outputs": [],
   "source": [
    "x = firedrake.SpatialCoordinate(physical_domain)\n",
    "b = bed_topography(x[0])\n",
    "h = surf_expr - b\n",
    "H = Constant(1.0)\n",
    "\n",
    "η = b.dx(0) + (x[1] - b) / h * h.dx(0)\n",
    "dx_dξ = firedrake.as_tensor(\n",
    "    [\n",
    "        [1.0, 0.0],\n",
    "        [η, h / H]\n",
    "    ]\n",
    ")\n",
    "\n",
    "u_transfer = firedrake.Function(V_physical)\n",
    "u_transfer.dat.data[:] = u_terrain.dat.data_ro[:]\n",
    "u_transfer.interpolate(dot(dx_dξ, u_transfer));"
   ]
  },
  {
   "cell_type": "code",
   "execution_count": null,
   "id": "3a398c62-918e-4a4f-8d25-1c82ce2c3f8d",
   "metadata": {},
   "outputs": [],
   "source": [
    "fig, ax = plt.subplots()\n",
    "ax.set_aspect(\"equal\")\n",
    "colors = firedrake.streamplot(u_physical, resolution=1.0/(2 * nx), seed=1729, axes=ax)\n",
    "fig.colorbar(colors);"
   ]
  },
  {
   "cell_type": "markdown",
   "id": "4e0212eb-d82c-40b6-8da1-81fb51810622",
   "metadata": {},
   "source": [
    "When we plot the norm difference between the two solutions, we find that it's less than .2% of the total speed.\n",
    "The discrepancy is due to differences in integrating the geometric distortion factors.\n",
    "If we run this again at finer resolution, we should see the discrepancy go down."
   ]
  },
  {
   "cell_type": "code",
   "execution_count": null,
   "id": "18415085-caa8-465a-82e1-483ef34b0493",
   "metadata": {},
   "outputs": [],
   "source": [
    "δu = firedrake.Function(V_physical).interpolate(u_transfer - u_physical)"
   ]
  },
  {
   "cell_type": "code",
   "execution_count": null,
   "id": "e6737299-ba95-4fdf-8a30-5f12d309030b",
   "metadata": {},
   "outputs": [],
   "source": [
    "fig, ax = plt.subplots()\n",
    "ax.set_aspect(\"equal\")\n",
    "colors = firedrake.tripcolor(δu, axes=ax)\n",
    "fig.colorbar(colors);"
   ]
  }
 ],
 "metadata": {
  "kernelspec": {
   "display_name": "firedrake",
   "language": "python",
   "name": "firedrake"
  },
  "language_info": {
   "codemirror_mode": {
    "name": "ipython",
    "version": 3
   },
   "file_extension": ".py",
   "mimetype": "text/x-python",
   "name": "python",
   "nbconvert_exporter": "python",
   "pygments_lexer": "ipython3",
   "version": "3.11.5"
  }
 },
 "nbformat": 4,
 "nbformat_minor": 5
}

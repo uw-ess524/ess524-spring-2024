{
 "cells": [
  {
   "cell_type": "code",
   "execution_count": null,
   "id": "08118d2c-2142-4b37-80a1-f2a416a854ff",
   "metadata": {},
   "outputs": [],
   "source": [
    "import firedrake\n",
    "from firedrake import Constant, inner, grad, div, dx, exp\n",
    "import numpy as np\n",
    "import matplotlib.pyplot as plt"
   ]
  },
  {
   "cell_type": "code",
   "execution_count": null,
   "id": "b644fd43-562f-4049-97ff-1ff66816bdf9",
   "metadata": {},
   "outputs": [],
   "source": [
    "def solve_diffusion(Q, k, f, q_Γ):\n",
    "    q = firedrake.Function(Q)\n",
    "    ϕ = firedrake.TestFunction(Q)\n",
    "    F = (k * inner(grad(q), grad(ϕ)) - f * ϕ) * dx\n",
    "    bc = firedrake.DirichletBC(Q, q_Γ, \"on_boundary\")\n",
    "    firedrake.solve(F == 0, q, bc)\n",
    "    return q"
   ]
  },
  {
   "cell_type": "code",
   "execution_count": null,
   "id": "fa7c290f-3202-460b-844b-0ce02cf07fb0",
   "metadata": {},
   "outputs": [],
   "source": [
    "def exact_solution(x):\n",
    "    zs = [\n",
    "        Constant((1/4, 0)),\n",
    "        Constant((-1/2, -1/4)),\n",
    "        Constant((-1/2, +1/4)),\n",
    "    ]\n",
    "    rs = [Constant(1/4), Constant(1/8), Constant(1/8)]\n",
    "    αs = [Constant(-1.0), Constant(1.0), Constant(1.0)]\n",
    "    return sum([α * exp(-inner(x - z, x - z) / r**2) for z, r, α in zip(zs, rs, αs)])"
   ]
  },
  {
   "cell_type": "code",
   "execution_count": null,
   "id": "0ef2f838-6858-4d2e-a5f8-2fb717af2753",
   "metadata": {},
   "outputs": [],
   "source": [
    "def step(mesh, degree):\n",
    "    cell_size = mesh.cell_sizes.dat.data_ro[:].min()\n",
    "    element = firedrake.FiniteElement(\"CG\", \"triangle\", degree)\n",
    "    Q = firedrake.FunctionSpace(mesh, element)\n",
    "    x = firedrake.SpatialCoordinate(mesh)\n",
    "    q_exact = exact_solution(x)\n",
    "    f = -div(grad(q_exact))\n",
    "    q_Γ = q_exact\n",
    "    q_numeric = solve_diffusion(Q, Constant(1.0), f, q_Γ)\n",
    "    error = firedrake.norm(q_exact - q_numeric, \"H1\")\n",
    "    return cell_size, error"
   ]
  },
  {
   "cell_type": "code",
   "execution_count": null,
   "id": "3bbf72c2-c542-483d-a095-73c3200735fb",
   "metadata": {},
   "outputs": [],
   "source": [
    "nmin, nmax = 3, 9\n",
    "data1 = np.array([step(firedrake.UnitDiskMesh(n), 1) for n in range(nmin, nmax)])\n",
    "cell_sizes1, errors1 = data1[:, 0], data1[:, 1]\n",
    "\n",
    "nmin, nmax = 3, 8\n",
    "data2 = np.array([step(firedrake.UnitDiskMesh(n), 2) for n in range(nmin, nmax)])\n",
    "cell_sizes2, errors2 = data2[:, 0], data2[:, 1]"
   ]
  },
  {
   "cell_type": "code",
   "execution_count": null,
   "id": "5e5ef4dc-f1a7-4ddd-8c24-de5eac2d6edf",
   "metadata": {},
   "outputs": [],
   "source": [
    "fig, ax = plt.subplots()\n",
    "ax.set_xscale(\"log\")\n",
    "ax.set_yscale(\"log\")\n",
    "ax.scatter(cell_sizes1, errors1, color=\"tab:blue\")\n",
    "ax.plot(cell_sizes1, errors1, color=\"tab:blue\")\n",
    "ax.scatter(cell_sizes2, errors2, color=\"tab:orange\")\n",
    "ax.plot(cell_sizes2, errors2, color=\"tab:orange\");"
   ]
  },
  {
   "cell_type": "code",
   "execution_count": null,
   "id": "b34ec6c5-4795-4e6b-b8f3-358ecfff9cc6",
   "metadata": {},
   "outputs": [],
   "source": [
    "slope1, intercept1 = np.polyfit(np.log(cell_sizes1), np.log(errors1), 1)\n",
    "print(f\"error (degree 1) ~= {intercept1:.2f} * δx^{slope1:.2f}\")\n",
    "slope2, intercept2 = np.polyfit(np.log(cell_sizes2), np.log(errors2), 1)\n",
    "print(f\"error (degree 2) ~= {intercept2:.2f} * δx^{slope2:.2f}\")"
   ]
  }
 ],
 "metadata": {
  "kernelspec": {
   "display_name": "firedrake",
   "language": "python",
   "name": "firedrake"
  },
  "language_info": {
   "codemirror_mode": {
    "name": "ipython",
    "version": 3
   },
   "file_extension": ".py",
   "mimetype": "text/x-python",
   "name": "python",
   "nbconvert_exporter": "python",
   "pygments_lexer": "ipython3",
   "version": "3.11.5"
  }
 },
 "nbformat": 4,
 "nbformat_minor": 5
}
